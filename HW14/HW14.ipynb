{
 "cells": [
  {
   "cell_type": "markdown",
   "metadata": {},
   "source": [
    "# 1 {-}\n",
    "\n",
    "**Consider the Chutes and Ladders game of our homework 3, problem 2c, in which a player wraps around to the start of the board once the $100$th square is passed. Let $X(t)$ be the position of the player at round $t$.**"
   ]
  },
  {
   "cell_type": "markdown",
   "metadata": {},
   "source": [
    "# a {-}\n",
    "\n",
    "**Compute the entropy of $X(t)$ for $t = 1,2,...,200$. Plot the entropy with $t$ and comment on the pattern.**"
   ]
  },
  {
   "cell_type": "markdown",
   "metadata": {},
   "source": [
    "We let $X(t)$ represent the square the player occupies at time $t$. We have that $t \\in \\{0, 1, 2, 3, \\ldots, 200\\}$ and that the state space, $S$, is $S=\\{0, 1, 2, 3, 5, \\dots, 100\\}$. Let us assume $X_0 = 0$, i.e, the player starts with her/his piece off the board.\n",
    "\n",
    "Then,\n",
    "\n",
    "$$P(X(t)=i)=\\sum_{t_1=0}^{100}\\sum_{t_1=0}^{100}\\ldots\\sum_{t_{t-1}=0}^{100}P(X(0)=0, X(1)=t_1, \\ldots, X(t-1)=t_{t-1}, X(t)=i)$$\n",
    "\n",
    "which by the Markov property is,\n",
    "\n",
    "$$P(X(t)=i)=\\sum_{t_1=0}^{100}\\sum_{t_1=0}^{100}\\ldots\\sum_{t_{t-1}=0}^{100}P(X(t)=i|X(t-1)=t_{t-1})\\ldots P(X(1)=t_1|X(0)=0)P(X(0))$$\n",
    "\n",
    "And as already seen before in class,\n",
    "\n",
    "$$P(X(t)=i)=\\sum_{l}P(X(t)=i|X(0)=l)P(X(0)=l)=P(X(t)=i|X(0)=0)\\cdot 1 =P^t_{(0, i)}$$\n",
    "\n",
    "and so $P(X(t))=P^t_{(0, \\cdot)}$\n",
    "\n",
    "for $t = 1, 2, 3, . . . , 200$, where $P^t$ means matrix multiplying $P$ $t$ times."
   ]
  },
  {
   "cell_type": "markdown",
   "metadata": {},
   "source": [
    "The entropy for $X(t)$ for $t=1,2,\\ldots, 200$ is $H(X(t))=-\\sum_{i=0}^{100}P(X(t)=i)\\log(P(X(t)=i))=-P^t_{(0,\\cdot)}\\cdot \\log P^t_{(0,\\cdot)}$"
   ]
  },
  {
   "cell_type": "markdown",
   "metadata": {},
   "source": [
    "Let us use the functions defined in HW 3:"
   ]
  },
  {
   "cell_type": "code",
   "execution_count": 1,
   "metadata": {},
   "outputs": [],
   "source": [
    "def build_P_v2(chutes_and_ladder_locations):\n",
    "    \"\"\"Builds the transition probability matrix for the chutes and ladders game\n",
    "    \n",
    "    Args:\n",
    "        chutes_and_ladder_locations: Dataframe containing the info from \n",
    "        the chutes_and_ladder_locations.csv\n",
    "    \n",
    "    Returns:\n",
    "        A numpy array of shape (101, 101)\n",
    "    \n",
    "    \"\"\"\n",
    "    # helper function\n",
    "    def shift(array):\n",
    "        return(np.concatenate((np.array([0]), array[:-1])))\n",
    "    \n",
    "    # creating the transition probability \n",
    "    # matrix, P, assuming no chutes and ladders\n",
    "    pdf = np.zeros(101)\n",
    "    pdf[1:7] = 1/6\n",
    "    P = pdf.copy()\n",
    "    \n",
    "    for _ in range(100):\n",
    "        pdf = shift(pdf)\n",
    "        P = np.concatenate((P, pdf))\n",
    "  \n",
    "    P = P.reshape(101, 101)\n",
    "    \n",
    "    # fixing P for last squares in game\n",
    "    for i in [95, 96, 97, 98, 99, 100]:\n",
    "        for j in range(1, i+6-99):\n",
    "            P[i, j] = 1/6\n",
    "    \n",
    "    # fixing P for chutes and ladders\n",
    "    for i, j in zip(chutes_and_ladder_locations.start, chutes_and_ladder_locations.end):\n",
    "        P[:,j] += P[:,i]\n",
    "        P[:,i] = np.zeros(101)\n",
    "        \n",
    "    return P"
   ]
  },
  {
   "cell_type": "code",
   "execution_count": 2,
   "metadata": {},
   "outputs": [],
   "source": [
    "import pandas as pd\n",
    "import numpy as np\n",
    "chutes_and_ladder_locations = pd.read_csv('../HW2/chutes_and_ladder_locations.csv')\n",
    "P = build_P_v2(chutes_and_ladder_locations)"
   ]
  },
  {
   "cell_type": "code",
   "execution_count": 3,
   "metadata": {},
   "outputs": [],
   "source": [
    "def entropy(t):\n",
    "    Pt = np.linalg.matrix_power(P, t)\n",
    "    # we assume log0*0=0, exclude 0s to avoid log error\n",
    "    ind = np.nonzero(Pt[0,:])[0]\n",
    "    return - Pt[0,ind].dot(np.log2(Pt[0,ind]))  "
   ]
  },
  {
   "cell_type": "code",
   "execution_count": 4,
   "metadata": {},
   "outputs": [],
   "source": [
    "entropies = map(entropy, range(0,200))"
   ]
  },
  {
   "cell_type": "code",
   "execution_count": 5,
   "metadata": {},
   "outputs": [
    {
     "data": {
      "image/png": "[encoded data removed]",
      "text/plain": [
       "<Figure size 432x288 with 1 Axes>"
      ]
     },
     "metadata": {
      "needs_background": "light"
     },
     "output_type": "display_data"
    }
   ],
   "source": [
    "import matplotlib.pyplot as plt\n",
    "plt.plot(range(0,200), list(entropies), c=\"green\")\n",
    "plt.xlabel(\"t\")\n",
    "plt.ylabel(\"Entropy\")\n",
    "plt.show()"
   ]
  },
  {
   "cell_type": "markdown",
   "metadata": {},
   "source": [
    "As time increases, entropy increases. Since we can think of entropy as quantifying how much we will be surprised by the outcome of the random variable $X(t)$ on average, the plot is telling us that as the number of rounds increases the greater our surprise will be, on average, by where we land on the board. This makes sense: On the first round, it is pretty clear where we might land on the board (we have $6$ options), but as time goes by (more rounds pass), it is not clear where our piece will be on the board and hence, what options we will have -- hence, the greater entropy."
   ]
  },
  {
   "cell_type": "markdown",
   "metadata": {},
   "source": [
    "# b {-}\n",
    "\n",
    "**Let $\\tau = 12345678901234567890$. Compute the relative mutual information of $X (\\tau+t)$ with $X (\\tau)$ for $t = 0, 5, 10, . . . , 50$. Comment on the pattern.**"
   ]
  },
  {
   "cell_type": "markdown",
   "metadata": {},
   "source": [
    "The mutual information $I(X(\\tau+t);X(\\tau))$ was defined as \n",
    "\n",
    "$$H(X(\\tau+t))-H(X(\\tau+t)|X(\\tau))$$\n",
    "\n",
    "and so the relative mutual information is \n",
    "\n",
    "$$\\frac{H(X(\\tau+t))-H(X(\\tau+t)|X(\\tau))}{H(X(\\tau+t))}$$ "
   ]
  },
  {
   "cell_type": "markdown",
   "metadata": {},
   "source": [
    "Note that the conditional entropy $H(X(\\tau+t)|X(\\tau))$ is defined as \n",
    "\n",
    "$$H(X(\\tau+t)|X(\\tau))$$\n",
    "\n",
    "$$=-\\sum_{i=0}^{100}\\sum_{j=0}^{100}P(X(\\tau+t)=i,X(\\tau)=j)\\log P(X(\\tau+t)=i|X(\\tau)=j)$$\n",
    "\n",
    "$$=-\\sum_{i=0}^{100}\\sum_{j=0}^{100}P(X(\\tau+t)=i|X(\\tau)=j)P(X(\\tau)=j)\\log P(X(\\tau+t)=i|X(\\tau)=j)$$"
   ]
  },
  {
   "cell_type": "markdown",
   "metadata": {},
   "source": [
    "Two things to note:\n",
    "\n",
    "1. $P(X(\\tau+t)=i|X(\\tau)=j) = P(X(t)=i|X(0)=j)=(P^t)_{(0,i)}$ by definition of transition probability matrix\n",
    "2. $P(X(\\tau)=j)=P^{\\tau}_{(0,j)}$ as seen above."
   ]
  },
  {
   "cell_type": "markdown",
   "metadata": {},
   "source": [
    "so,\n",
    "\n",
    "$$=-\\sum_{i=0}^{100}\\sum_{j=0}^{100}(P^t)_{(0,i)}P^{\\tau}_{(0,j)}\\log (P^t)_{(0,i)}$$\n",
    "\n"
   ]
  },
  {
   "cell_type": "markdown",
   "metadata": {},
   "source": [
    "$$=-\\sum_{j=0}^{100}P^{\\tau}_{(0,j)}[(P^t)_{(0,\\cdot)}\\cdot\\log (P^t)_{(0,\\cdot)}]$$\n",
    "\n",
    "\n"
   ]
  },
  {
   "cell_type": "markdown",
   "metadata": {},
   "source": [
    "Approximating $P^{\\tau}_{(0,\\cdot)}$ with the stationary distribution $\\pi$ we have:\n",
    "\n",
    "$$=-\\sum_{j=0}^{100}\\pi_j[(P^t)_{(0,\\cdot)}\\cdot\\log (P^t)_{(0,\\cdot)}]$$\n",
    "\n",
    "This is what is implemented in the conditional_entropy(t) function below.\n"
   ]
  },
  {
   "cell_type": "code",
   "execution_count": 50,
   "metadata": {},
   "outputs": [],
   "source": [
    "def conditional_entropy(t):\n",
    "    Pt = np.linalg.matrix_power(P, t)\n",
    "    # we assume log0*0=0, exclude 0s to avoid log error\n",
    "    ind = np.nonzero(Pt[0,:])[0]\n",
    "    return - np.sum(Ptau)*Pt[0,ind].dot(np.log2(Pt[0,ind]))"
   ]
  },
  {
   "cell_type": "markdown",
   "metadata": {},
   "source": [
    "Let's get the stationary distribution $\\pi$."
   ]
  },
  {
   "cell_type": "code",
   "execution_count": 51,
   "metadata": {},
   "outputs": [],
   "source": [
    "eigenvalues = np.linalg.eig(P.T)[0]\n",
    "eigenvectors = np.linalg.eig(P.T)[1]\n",
    "# Abs gives you mod in python for complex numbers too\n",
    "i = np.argmax(abs(eigenvalues))\n",
    "eigenvector_1 = eigenvectors[:,i]\n",
    "eigenvector_1 = eigenvector_1.real\n",
    "# probability vector\n",
    "eigenvector_1 = abs(eigenvector_1/sum(eigenvector_1))"
   ]
  },
  {
   "cell_type": "code",
   "execution_count": 52,
   "metadata": {},
   "outputs": [],
   "source": [
    "# tau = 12345678901234567890\n",
    "# Ptau = np.linalg.matrix_power(P, tau)[0,:]\n",
    "Ptau = eigenvector_1"
   ]
  },
  {
   "cell_type": "markdown",
   "metadata": {},
   "source": [
    "Now, let's get the relative mutual information:"
   ]
  },
  {
   "cell_type": "code",
   "execution_count": 53,
   "metadata": {},
   "outputs": [],
   "source": [
    "# get the entropy of the stationary distribution\n",
    "ind = np.nonzero(Ptau)[0]\n",
    "entropy_stationary_dist = - Ptau[ind].dot(np.log2(Ptau[ind])) "
   ]
  },
  {
   "cell_type": "code",
   "execution_count": 54,
   "metadata": {},
   "outputs": [],
   "source": [
    "def relative_mutual_information(t):\n",
    "    return(1 - conditional_entropy(t)/entropy_stationary_dist)"
   ]
  },
  {
   "cell_type": "code",
   "execution_count": 55,
   "metadata": {
    "scrolled": true
   },
   "outputs": [],
   "source": [
    "relative_mutual_informations = list(map(relative_mutual_information, range(0, 55, 5)))"
   ]
  },
  {
   "cell_type": "code",
   "execution_count": 56,
   "metadata": {},
   "outputs": [
    {
     "data": {
      "image/png": "[encoded data removed]",
      "text/plain": [
       "<Figure size 432x288 with 1 Axes>"
      ]
     },
     "metadata": {
      "needs_background": "light"
     },
     "output_type": "display_data"
    }
   ],
   "source": [
    "plt.plot(range(0, 55, 5), list(relative_mutual_informations), c=\"red\")\n",
    "plt.xlabel(\"t\")\n",
    "plt.ylabel(\"Relative Mutual Information\")\n",
    "plt.show()"
   ]
  },
  {
   "cell_type": "markdown",
   "metadata": {},
   "source": [
    "As $t$ increases, the relative mutual information decreases. This makes sense as we can think of mutual information as a measure of the mutual dependence between two random variables, in our case $X(\\tau+t)$ and $X(\\tau)$. When $t=0$ we have the same random variable so a relative mutual information of $1$ makes sense. As $t$ increases, $X(\\tau+t)$ and $X(\\tau)$ say less information about each other, primarily due to the markov property.  "
   ]
  },
  {
   "cell_type": "markdown",
   "metadata": {},
   "source": [
    "# 2 {-}\n",
    "\n",
    "**This problem and problem 3 below are loosely based on a homework in Eric Xing’s Graphical Models class at Carnegie Mellon: http://www.cs.cmu.edu/~epxing/Class/10708/**\n",
    "\n",
    "**Restricted Boltzmann machines (RBM) are a type of undirected graphical models in which the vertices are split into two layers. An example of an RBM is given by graph shown in Figure 1 which consists of vertices separated into a bottom layer $V_1, V_2, . . . , V_5$ and top layer $H_1, H_2$. Vertices in the bottom layer represent movies, e.g. Finding Nemo ($V_1$), Avatar ($V_2$), Star Trek ($V_3$), Aladdin ($V_4$), and Frozen ($V_5$). While referring to the nodes as $V_i$, we will also let $V_i$ be random variables taking values $0$ (movie disliked) and $1$ (movie was liked). The two vertices in the top layer represent latent factors (e.g., $H_1$ might be associated with Disney movies, and $H_2$ could represent the adventure genre). And as for the $V_i$, the $H_i$ are random variables taking values $0$ and $1$.**\n",
    "\n",
    "**The joint distribution of the random variables is given by**\n",
    "\n",
    "$$P(V=v, H=h)=\\alpha e^{E(v,h)}~~~~~~~~~~~~~~~~~~~~~~~~~~~~~~~(1)$$ \n",
    "\n",
    "**where** \n",
    "\n",
    "$$E(v,h)=\\sum_{i=1}^{5}\\sum_{j=1}^{2}w_{ij}v_ih_j+\\sum_{i=1}^{5}a_iv_i+\\sum_{j=1}^{2}b_jh_j$$\n",
    "\n",
    "**and $V = (V_1,V_2,...,V_5), v = (v_1,v_2,...,v_5)$ with each $v_i \\in \\{0, 1 \\}$ and similarly for $H, h$. ($E(v, h)$ is referred to as the Energy function in analogy with Boltzmann distributions from statistical physics).**\n",
    "\n",
    "**The graph of the Figure below and equation (1) define a RBM.**"
   ]
  },
  {
   "cell_type": "markdown",
   "metadata": {},
   "source": [
    "![Figure 1: Restricted Boltzmann machine (RBM)](RBM_figure.jpeg)"
   ]
  },
  {
   "cell_type": "markdown",
   "metadata": {},
   "source": [
    "# a {-}\n",
    "\n",
    "**Show that the RBM defined above is consistent with the network given in the Figure by checking that every pair of vertices not connected by an edge is conditionally independent. (Hint: Use equation (1) to express $P(V_1 = v_1, V_2 = v_2|V_3,V_4,V_5,H_1,H_2)$ and show that the resulting expression splits into a product of two factors dependent on $v_1$ and $v_2$, respectively.)**"
   ]
  },
  {
   "cell_type": "markdown",
   "metadata": {},
   "source": [
    "Let's show $P(V_1 = v_1, V_2 = v_2|V_3,V_4,V_5,H_1,H_2)=f(v_1)g(v_2)$.\n",
    "\n",
    "Note,\n",
    "\n",
    "$$P(V_1 = v_1, V_2 = v_2|V_3,V_4,V_5,H_1,H_2)$$\n",
    "\n",
    "$$=\\frac{P(V_1=v_1, V_2 = v_2, V_3,V_4,V_5,H_1,H_2)}{P(V_3, V_4, V_5, H_1, H_2)}$$\n",
    "\n",
    "$$=\\frac{\\alpha e^{\\sum_{i=1}^{5}\\sum_{j=1}^{2}w_{ij}v_ih_j+\\sum_{i=1}^{5}a_iv_i+\\sum_{j=1}^{2}b_jh_j}}{C}$$\n",
    "\n",
    "$$=\\frac{\\alpha e^{(v_1\\sum_{j=1}^{2}w_{1j}H_j+a_1v_1)+(v_2\\sum_{j=1}^{2}w_{2j}H_j+a_2v_2)+\\sum_{i=3}^{5}\\sum_{j=1}^{2}w_{ij}V_iH_j+\\sum_{i=3}^{5}a_iV_i+\\sum_{j=1}^{2}b_jH_j}}{C}$$\n",
    "\n",
    "$$=\\frac{\\alpha e^{v_1\\sum_{j=1}^{2}w_{1j}H_j+a_1v_1}e^{v_2\\sum_{j=1}^{2}w_{2j}H_j+a_2v_2}e^{\\sum_{i=3}^{5}\\sum_{j=1}^{2}w_{ij}V_iH_j+\\sum_{i=3}^{5}a_iV_i+\\sum_{j=1}^{2}b_jH_j}}{C}$$\n",
    "\n",
    "$$=\\frac{\\alpha e^{v_1\\sum_{j=1}^{2}w_{1j}H_j+a_1v_1}e^{v_2\\sum_{j=1}^{2}w_{2j}H_j+a_2v_2}C'}{C}$$\n",
    "\n",
    "as the last exponential term does not depend on $v_1, v_2$\n",
    "\n",
    "$$=\\big [\\frac{C'\\alpha}{C}e^{v_1\\sum_{j=1}^{2}w_{1j}H_j+a_1v_1}\\big ]\\big [e^{v_2\\sum_{j=1}^{2}w_{2j}H_j+a_2v_2} \\big ]$$\n",
    "\n",
    "$$=f(v_1)g(v_2)$$\n"
   ]
  },
  {
   "cell_type": "markdown",
   "metadata": {},
   "source": [
    "For the remaining pairs $v_i$ that are not connected by an edge such as $V_1, V_3$ or $V_4, V_5$ or $V_2, V_5$, etc, by symmetry, the same argument applies."
   ]
  },
  {
   "cell_type": "markdown",
   "metadata": {},
   "source": [
    "To finish showing consistency, we have to show $P(H_1 = h_1, H_2 = h_2|V_1, V_2, V_3,V_4,V_5)=f(h_1)g(h_2)$:\n"
   ]
  },
  {
   "cell_type": "markdown",
   "metadata": {},
   "source": [
    "$$P(H_1 = h_1, H_2 = h_2|V_1, V_2, V_3,V_4,V_5)$$\n",
    "\n",
    "$$=\\frac{P(H_1 = h_1, H_2 = h_2|V_1, V_2, V_3,V_4,V_5)}{P(V_1, V_2, V_3, V_4, V_5)}$$\n",
    "\n",
    "$$=\\frac{\\alpha e^{\\sum_{i=1}^{5}\\sum_{j=1}^{2}w_{ij}v_ih_j+\\sum_{i=1}^{5}a_iv_i+\\sum_{j=1}^{2}b_jh_j}}{C}$$\n",
    "\n"
   ]
  },
  {
   "cell_type": "markdown",
   "metadata": {},
   "source": [
    "$$=\\frac{\\alpha e^{\\sum_{i=1}^{5}w_{ij}V_ih_1 + \\sum_{i=1}^{5}w_{ij}V_ih_2 + \\sum^{5}_{i=1}a_iV_i + b_1h_1+b_2h_2}}{C}$$\n",
    "\n",
    "$$=\\frac{\\alpha e^{(\\sum_{i=1}^{5}w_{ij}V_ih_1+ b_1h_1) + (\\sum_{i=1}^{5}w_{ij}V_ih_2+b_2h_2) + \\sum^{5}_{i=1}a_iV_i}}{C}$$\n",
    "\n",
    "$$=\\frac{\\alpha e^{(\\sum_{i=1}^{5}w_{ij}V_ih_1+ b_1h_1)}e^{(\\sum_{i=1}^{5}w_{ij}V_ih_2+b_2h_2)}C'}{C}$$\n",
    "\n",
    "$$=\\big [\\frac{\\alpha C'}{C} e^{\\sum_{i=1}^{5}w_{ij}V_ih_1+ b_1h_1}\\big ] \\big [e^{\\sum_{i=1}^{5}w_{ij}V_ih_2+b_2h_2}\\big ]$$\n",
    "\n",
    "$$=f(h_1)g(h_2)$$"
   ]
  },
  {
   "cell_type": "markdown",
   "metadata": {},
   "source": [
    "# b {-}\n",
    "\n",
    "**Let $V_{−1}$ be all $V_i$ without $V_1$, i.e. $V_{−1} = (V_2,V_3,...,V_5)$. Show that**\n",
    "\n",
    "$$P(V_1=v_1|V_{-1}, H)=\\frac{1}{A+B}$$\n",
    "\n",
    "**where $A, B$ are the expressions:**\n",
    "\n",
    "$$A=\\exp[\\sum_{j=1}^{2}w_{1j}(0-v_1)h_j+a_1(0-v_1)]$$\n",
    "\n",
    "$$B=\\exp[\\sum_{j=1}^{2}w_{1j}(1-v_1)h_j+a_1(1-v_1)]$$\n",
    "\n",
    "**where $\\exp(x)=e^x$. Generalize to calculate the conditional distribution of $V_i$ given all other vertices and $H_i$ given all other vertices.**"
   ]
  },
  {
   "cell_type": "markdown",
   "metadata": {},
   "source": [
    "Let's first show $P(V_1=v_1|V_{-1}, H)=\\frac{1}{A+B}$.\n",
    "\n",
    "$$P(V_1=v_1|V_{-1}, H)$$\n",
    "\n",
    "$$=\\frac{P(V_1=v_1, V_{-1}, H)}{P(V_{-1},H)}$$\n",
    "\n",
    "$$=\\frac{P(V_1=v_1, V_{-1}, H)}{\\sum_{v_1=0}^{1}P(V_1=v_1, V_{-1}, H)}$$\n",
    "\n",
    "$$=\\frac{\\exp \\big [(v_1\\sum_{j=1}^{2}w_{1j}H_j+a_1v_1)+\\sum_{i=2}^{5}\\sum_{j=1}^{2}w_{ij}V_iH_j+\\sum_{i=2}^{5}a_iV_i+\\sum_{j=1}^{2}b_jH_j \\big ]}{\\sum_{v_1=0}^{1}\\exp \\big [(v_1\\sum_{j=1}^{2}w_{1j}H_j+a_1v_1)+\\sum_{i=2}^{5}\\sum_{j=1}^{2}w_{ij}V_iH_j+\\sum_{i=2}^{5}a_iV_i+\\sum_{j=1}^{2}b_jH_j \\big ]}$$\n",
    "\n",
    "$$=\\frac{\\exp \\big [ v_1\\sum_{j=1}^{2}w_{1j}H_j+a_1v_1\\big ]}{\\sum_{v_1=0}^{1}\\exp \\big [ v_1\\sum_{j=1}^{2}w_{1j}H_j+a_1v_1\\big ]}$$\n",
    "\n",
    "$$=\\frac{\\exp \\big [ v_1\\sum_{j=1}^{2}w_{1j}H_j+a_1v_1\\big ]}{\\exp \\big [ \\sum_{j=1}^{2}w_{1j}0H_j+a_10\\big ]+\\exp \\big [ \\sum_{j=1}^{2}w_{1j}1H_j+a_11\\big ]}$$\n",
    "\n",
    "Now, dividing both numerator and denominator by the value in the numerator, $\\exp \\big [ v_1\\sum_{j=1}^{2}w_{1j}H_j+a_1v_1\\big ]$:\n",
    "\n",
    "$$=\\frac{1}{\\exp \\big [ \\sum_{j=1}^{2}w_{1j}(0-v_1)H_j+a_1(0-v_1)\\big ]+\\exp \\big [ \\sum_{j=1}^{2}w_{1j}(1-v_1)H_j+a_1(1-v_1)\\big ]}$$\n",
    "\n",
    "$$=\\frac{1}{A+B}$$"
   ]
  },
  {
   "cell_type": "markdown",
   "metadata": {},
   "source": [
    "By symmetry, we can generalize this to all $V_i$ for $i=1,2,3,4,5:$\n",
    "\n",
    "$$P(V_i=v_i|V_{-i}, H)$$\n",
    "\n",
    "$$=\\frac{1}{\\exp \\big [ \\sum_{j=1}^{2}w_{ij}(0-v_i)H_j+a_i(0-v_i)\\big ]+\\exp \\big [ \\sum_{j=1}^{2}w_{ij}(1-v_i)H_j+a_i(1-v_i)\\big ]}$$"
   ]
  },
  {
   "cell_type": "markdown",
   "metadata": {},
   "source": [
    "Similarly, by symmetry, we can generalize this to $H_j$ for $j=1,2$:\n",
    "\n",
    "$$P(H_j=h_j|H_{-j}, V)$$\n",
    "\n",
    "$$=\\frac{1}{\\exp \\big [ \\sum_{i=1}^{5}w_{ij}(0-h_j)V_i+b_j(0-h_j)\\big ]+\\exp \\big [ \\sum_{i=1}^{5}w_{ij}(1-h_j)V_i+b_j(1-h_j)\\big ]}$$"
   ]
  },
  {
   "cell_type": "markdown",
   "metadata": {},
   "source": [
    "# c {-}\n",
    "\n",
    "**For the rest of this problem, assume $a_i = 0, b_i = 0$ and $w_{ij}$ is given by the following matrix:**\n",
    "\n",
    "$$W=\\begin{pmatrix}\n",
    "2 & -3 \\\\\n",
    "2 & -3 \\\\\n",
    "-2 & 3 \\\\\n",
    "-2 & -2 \\\\\n",
    "0 & 2\n",
    "\\end{pmatrix}$$\n",
    "\n",
    "**Use your result from (b) to write a Gibbs sampler for the RBM.**"
   ]
  },
  {
   "cell_type": "code",
   "execution_count": 13,
   "metadata": {
    "scrolled": true
   },
   "outputs": [
    {
     "data": {
      "text/plain": [
       "array([[ 2, -3],\n",
       "       [ 2, -3],\n",
       "       [-2,  3],\n",
       "       [-2, -2],\n",
       "       [ 0,  2]])"
      ]
     },
     "execution_count": 13,
     "metadata": {},
     "output_type": "execute_result"
    }
   ],
   "source": [
    "import numpy as np\n",
    "W = np.array([[2,-3], [2, -3], [-2, 3], [-2, -2], [0,2]])\n",
    "W"
   ]
  },
  {
   "cell_type": "markdown",
   "metadata": {},
   "source": [
    "Each sample $\\omega^{(i+1)}$ is obtained from $\\omega^{(i)}$ after obtaining each $V$ and each $H$ in a sequential manner using the respective marginal distributions (instead of considering each $\\omega^{(i+1)}$ to be from changing only one coordinate of $\\omega^{(i)}$). This will speed up convergence to the stationary distribution and decrease relaxation time.\n",
    "\n",
    "In other words:\n",
    "\n",
    "Given $\\omega^{(i)}=(V_1^{(i)}, V_2^{(i)}, V_3^{(i)}, V_4^{(i)}, V_5^{(i)}, H_1^{(i)}, H_2^{(i)})$\n",
    "\n",
    "- Sample $\\hat{V_1}^{(i+1)}$ from $P(V_1|V_2^{(i)}, V_3^{(i)}, V_4^{(i)}, V_5^{(i)}, H_1^{(i)}, H_2^{(i)})$\n",
    "\n",
    "- Sample $\\hat{V_2}^{(i+1)}$ from $P(V_2|V_1^{(i+1)}, V_3^{(i)}, V_4^{(i)}, V_5^{(i)}, H_1^{(i)}, H_2^{(i)})$\n",
    "\n",
    "- Sample $\\hat{V_3}^{(i+1)}$ from $P(V_3|V_1^{(i+1)}, V_2^{(i+1)}, V_4^{(i)}, V_5^{(i)}, H_1^{(i)}, H_2^{(i)})$\n",
    "\n",
    "- Sample $\\hat{V_4}^{(i+1)}$ from $P(V_4|V_1^{(i+1)}, V_2^{(i+1)}, V_3^{(i+1)}, V_5^{(i)}, H_1^{(i)}, H_2^{(i)})$\n",
    "\n",
    "- Sample $\\hat{V_5}^{(i+1)}$ from $P(V_5|V_1^{(i+1)}, V_2^{(i+1)}, V_3^{(i+1)}, V_4^{(i+1)}, H_1^{(i)}, H_2^{(i)})$\n",
    "\n",
    "- Sample $\\hat{H_1}^{(i+1)}$ from $P(H_1|V_1^{(i+1)}, V_2^{(i+1)}, V_3^{(i+1)}, V_4^{(i+1)}, V_5^{(i+1)}, H_2^{(i)})$\n",
    "\n",
    "- Sample $\\hat{H_2}^{(i+1)}$ from $P(H_2|V_1^{(i+1)}, V_2^{(i+1)}, V_3^{(i+1)}, V_4^{(i+1)}, V_5^{(i+1)}, H_1^{(i+1)})$\n",
    "\n",
    "And so, $\\omega^{(i+1)}=(V_1^{(i+1)}, V_2^{(i+1)}, V_3^{(i+1)}, V_4^{(i+1)}, V_5^{(i+1)}, H_1^{(i+1)}, H_2^{(i+1)})$"
   ]
  },
  {
   "cell_type": "code",
   "execution_count": 14,
   "metadata": {},
   "outputs": [],
   "source": [
    "def V_marginal(i, omega, W):\n",
    "    \"\"\"Marginal for each Vi, i=1,2,3,4,5\"\"\"\n",
    "    p0 = 1 / (1 + np.exp(W[i,:].dot(omega[-2:])))\n",
    "    p1 = 1 / (1 + np.exp(-W[i,:].dot(omega[-2:])))\n",
    "    return [p0, p1]\n",
    "\n",
    "def H_marginal(j, omega, W):\n",
    "    \"\"\"Marginal for each Hi, i=1,2\"\"\"\n",
    "    p0 = 1 / (1 + np.exp(W[:,j].dot(omega[:-2])))\n",
    "    p1 = 1 / (1 + np.exp(-W[:,j].dot(omega[:-2])))\n",
    "    return [p0, p1]\n",
    "\n",
    "def Gibbs_Sampler(W, omega, N, sample_hidden=True, sample_observed=True):\n",
    "    \"\"\"sampling the joint prob of (V, H) via Gibbs Sampling\"\"\"\n",
    "    samples = [omega]\n",
    "    for n in range(0, N):\n",
    "        if sample_observed:\n",
    "            for i in range(0, 5):\n",
    "                omega[i] = np.random.choice([0, 1], p=V_marginal(i, omega, W))\n",
    "        if sample_hidden:\n",
    "            for j in range(5, 7):\n",
    "                omega[j] = np.random.choice([0, 1], p=H_marginal(j-5, omega, W))\n",
    "        samples.append(omega.copy())\n",
    "    return np.array(samples)"
   ]
  },
  {
   "cell_type": "markdown",
   "metadata": {},
   "source": [
    "# d {-}\n",
    "\n",
    "**Calculate the relaxation time of your Gibbs sampler exactly. Remember, the Gibbs sampler is a special case of a MH sampler. Here you have $2^7$ possible states for your MH Markov chain and you can specify the transition probabilities, so you can calculate the transition probability matrix.**"
   ]
  },
  {
   "cell_type": "markdown",
   "metadata": {},
   "source": [
    "$P(\\omega^{(i)}|\\omega^{(i-1)})$ can be obtained from multiplying the probabilites listed in the bullet points above. "
   ]
  },
  {
   "cell_type": "markdown",
   "metadata": {},
   "source": [
    "The below function gets $P(\\omega^{(i)}|\\omega^{(i-1)})$:"
   ]
  },
  {
   "cell_type": "code",
   "execution_count": 15,
   "metadata": {},
   "outputs": [],
   "source": [
    "def calculate_transition_prob(w, wprime):\n",
    "    prob = 1\n",
    "    for i in range(0, 5):\n",
    "        A_V = np.exp(np.multiply(W[i,:].dot(w[-2:]), 0-wprime[i]))\n",
    "        B_V = np.exp(np.multiply(W[i,:].dot(w[-2:]), 1-wprime[i]))\n",
    "        probs_V = 1 / (A_V + B_V)\n",
    "        prob = prob * probs_V\n",
    "\n",
    "    for j in range(5, 7):\n",
    "        A_H = np.exp(np.multiply(W.T[5-j].dot(wprime[:-2]), 0-wprime[j]))\n",
    "        B_H = np.exp(np.multiply(W.T[5-j].dot(wprime[:-2]), 1-wprime[j]))\n",
    "        probs_H = 1 / (A_H + B_H)\n",
    "        prob = prob * probs_H\n",
    "\n",
    "    return prob"
   ]
  },
  {
   "cell_type": "markdown",
   "metadata": {},
   "source": [
    "Let's define all possible states, $2^7$:"
   ]
  },
  {
   "cell_type": "code",
   "execution_count": 16,
   "metadata": {},
   "outputs": [],
   "source": [
    "from itertools import product\n",
    "\n",
    "states = np.array(list(product(range(2), repeat=7)))\n",
    "transition_prob_kernel = np.empty((2**7, 2**7))"
   ]
  },
  {
   "cell_type": "markdown",
   "metadata": {},
   "source": [
    "Lastly, let's get the transition probability matrix:"
   ]
  },
  {
   "cell_type": "code",
   "execution_count": 17,
   "metadata": {},
   "outputs": [],
   "source": [
    "for i, w in enumerate(states):\n",
    "    for j, wprime in enumerate(states):\n",
    "        transition_prob_kernel[i, j] = calculate_transition_prob(w, wprime)"
   ]
  },
  {
   "cell_type": "code",
   "execution_count": 18,
   "metadata": {},
   "outputs": [
    {
     "data": {
      "text/plain": [
       "array([1., 1., 1., 1., 1., 1., 1., 1., 1., 1., 1., 1., 1., 1., 1., 1., 1.,\n",
       "       1., 1., 1., 1., 1., 1., 1., 1., 1., 1., 1., 1., 1., 1., 1., 1., 1.,\n",
       "       1., 1., 1., 1., 1., 1., 1., 1., 1., 1., 1., 1., 1., 1., 1., 1., 1.,\n",
       "       1., 1., 1., 1., 1., 1., 1., 1., 1., 1., 1., 1., 1., 1., 1., 1., 1.,\n",
       "       1., 1., 1., 1., 1., 1., 1., 1., 1., 1., 1., 1., 1., 1., 1., 1., 1.,\n",
       "       1., 1., 1., 1., 1., 1., 1., 1., 1., 1., 1., 1., 1., 1., 1., 1., 1.,\n",
       "       1., 1., 1., 1., 1., 1., 1., 1., 1., 1., 1., 1., 1., 1., 1., 1., 1.,\n",
       "       1., 1., 1., 1., 1., 1., 1., 1., 1.])"
      ]
     },
     "execution_count": 18,
     "metadata": {},
     "output_type": "execute_result"
    }
   ],
   "source": [
    "# checking that we have a transition probability kernel\n",
    "# rows must sum to 1\n",
    "transition_prob_kernel.sum(axis=1)"
   ]
  },
  {
   "cell_type": "code",
   "execution_count": 19,
   "metadata": {},
   "outputs": [],
   "source": [
    "eigenvalues = np.linalg.eig(transition_prob_kernel)[0]\n",
    "eigenvectors = np.linalg.eig(transition_prob_kernel)[1]"
   ]
  },
  {
   "cell_type": "code",
   "execution_count": 20,
   "metadata": {},
   "outputs": [
    {
     "data": {
      "text/plain": [
       "6.499766333682572"
      ]
     },
     "execution_count": 20,
     "metadata": {},
     "output_type": "execute_result"
    }
   ],
   "source": [
    "eigenvalue_2 = sorted(abs(eigenvalues), reverse=True)[1]\n",
    "rt = 1/(1-eigenvalue_2)\n",
    "rt"
   ]
  },
  {
   "cell_type": "markdown",
   "metadata": {},
   "source": [
    "The relaxation time for the gibbs sampler I defined is roughly 6.5."
   ]
  },
  {
   "cell_type": "markdown",
   "metadata": {},
   "source": [
    "# e {-}\n",
    "\n",
    "**Use your Gibbs sampler to determine the distribution of $H_1$ and $H_2$ given that a user (a) likes the movies corresponding to $V_1$ and $V_2$ but dislikes the others and (b) likes all the movies.**\n"
   ]
  },
  {
   "cell_type": "markdown",
   "metadata": {},
   "source": [
    "a) Likes movies $V_1, V_2$, i.e., $V_1=V_2=1$ and dislikes movies $V_3,V_4, V_5$, i.e., $V_3=V_4=V_5=0$"
   ]
  },
  {
   "cell_type": "code",
   "execution_count": 21,
   "metadata": {},
   "outputs": [],
   "source": [
    "N = 10**6\n",
    "# fixing the first 5 entries of omega to what is described in a) which corresponds to the observed nodes V\n",
    "# initializing the hidden nodes to 0\n",
    "omega_start = np.array([1,1,0,0,0,0,0])\n",
    "samples = Gibbs_Sampler(W, omega_start, N, sample_hidden=True, sample_observed=False)"
   ]
  },
  {
   "cell_type": "code",
   "execution_count": 22,
   "metadata": {},
   "outputs": [],
   "source": [
    "hidden_samples = np.array(samples)[:,-2:]\n",
    "# burn in time\n",
    "hidden_samples_wBurnIn = hidden_samples[int(0.3*N):,]"
   ]
  },
  {
   "cell_type": "markdown",
   "metadata": {},
   "source": [
    "$P(H_1=0, H_2=0|V)$:"
   ]
  },
  {
   "cell_type": "code",
   "execution_count": 23,
   "metadata": {},
   "outputs": [],
   "source": [
    "p00 = len(hidden_samples_wBurnIn[(hidden_samples_wBurnIn[:,0] == 0) & (hidden_samples_wBurnIn[:,1] == 0)])/len(hidden_samples_wBurnIn)"
   ]
  },
  {
   "cell_type": "code",
   "execution_count": 24,
   "metadata": {},
   "outputs": [
    {
     "data": {
      "text/plain": [
       "0.017817117404117993"
      ]
     },
     "execution_count": 24,
     "metadata": {},
     "output_type": "execute_result"
    }
   ],
   "source": [
    "p00"
   ]
  },
  {
   "cell_type": "markdown",
   "metadata": {},
   "source": [
    "$P(H_1=0, H_2=1|V)$"
   ]
  },
  {
   "cell_type": "code",
   "execution_count": 25,
   "metadata": {},
   "outputs": [],
   "source": [
    "p01 = len(hidden_samples_wBurnIn[(hidden_samples_wBurnIn[:,0] == 0) & (hidden_samples_wBurnIn[:,1] == 1)])/len(hidden_samples_wBurnIn)"
   ]
  },
  {
   "cell_type": "code",
   "execution_count": 26,
   "metadata": {},
   "outputs": [
    {
     "data": {
      "text/plain": [
       "4.1428512244982505e-05"
      ]
     },
     "execution_count": 26,
     "metadata": {},
     "output_type": "execute_result"
    }
   ],
   "source": [
    "p01"
   ]
  },
  {
   "cell_type": "markdown",
   "metadata": {},
   "source": [
    "$P(H_1=1, H_2=0|V)$"
   ]
  },
  {
   "cell_type": "code",
   "execution_count": 27,
   "metadata": {},
   "outputs": [],
   "source": [
    "p10 = len(hidden_samples_wBurnIn[(hidden_samples_wBurnIn[:,0] == 1) & (hidden_samples_wBurnIn[:,1] == 0)])/len(hidden_samples_wBurnIn)"
   ]
  },
  {
   "cell_type": "code",
   "execution_count": 28,
   "metadata": {},
   "outputs": [
    {
     "data": {
      "text/plain": [
       "0.9797371718040403"
      ]
     },
     "execution_count": 28,
     "metadata": {},
     "output_type": "execute_result"
    }
   ],
   "source": [
    "p10"
   ]
  },
  {
   "cell_type": "markdown",
   "metadata": {},
   "source": [
    "$P(H_1=1, H_2=1|V)$"
   ]
  },
  {
   "cell_type": "code",
   "execution_count": 29,
   "metadata": {},
   "outputs": [],
   "source": [
    "p11 = len(hidden_samples_wBurnIn[(hidden_samples_wBurnIn[:,0] == 1) & (hidden_samples_wBurnIn[:,1] == 1)])/len(hidden_samples_wBurnIn)"
   ]
  },
  {
   "cell_type": "code",
   "execution_count": 30,
   "metadata": {},
   "outputs": [
    {
     "data": {
      "text/plain": [
       "0.0024042822795967435"
      ]
     },
     "execution_count": 30,
     "metadata": {},
     "output_type": "execute_result"
    }
   ],
   "source": [
    "p11"
   ]
  },
  {
   "cell_type": "code",
   "execution_count": 31,
   "metadata": {},
   "outputs": [
    {
     "data": {
      "text/html": [
       "<div>\n",
       "<style scoped>\n",
       "    .dataframe tbody tr th:only-of-type {\n",
       "        vertical-align: middle;\n",
       "    }\n",
       "\n",
       "    .dataframe tbody tr th {\n",
       "        vertical-align: top;\n",
       "    }\n",
       "\n",
       "    .dataframe thead th {\n",
       "        text-align: right;\n",
       "    }\n",
       "</style>\n",
       "<table border=\"1\" class=\"dataframe\">\n",
       "  <thead>\n",
       "    <tr style=\"text-align: right;\">\n",
       "      <th></th>\n",
       "      <th>H1 = 0</th>\n",
       "      <th>H1 = 1</th>\n",
       "      <th>Marginal H2</th>\n",
       "    </tr>\n",
       "  </thead>\n",
       "  <tbody>\n",
       "    <tr>\n",
       "      <th>H2 = 0</th>\n",
       "      <td>0.017817</td>\n",
       "      <td>0.979737</td>\n",
       "      <td>0.997554</td>\n",
       "    </tr>\n",
       "    <tr>\n",
       "      <th>H2 = 1</th>\n",
       "      <td>0.000041</td>\n",
       "      <td>0.002404</td>\n",
       "      <td>0.002446</td>\n",
       "    </tr>\n",
       "    <tr>\n",
       "      <th>Marginal H1</th>\n",
       "      <td>0.017859</td>\n",
       "      <td>0.982141</td>\n",
       "      <td>1.000000</td>\n",
       "    </tr>\n",
       "  </tbody>\n",
       "</table>\n",
       "</div>"
      ],
      "text/plain": [
       "               H1 = 0    H1 = 1  Marginal H2\n",
       "H2 = 0       0.017817  0.979737     0.997554\n",
       "H2 = 1       0.000041  0.002404     0.002446\n",
       "Marginal H1  0.017859  0.982141     1.000000"
      ]
     },
     "execution_count": 31,
     "metadata": {},
     "output_type": "execute_result"
    }
   ],
   "source": [
    "import pandas as pd\n",
    "df = pd.DataFrame([[p00, p10, p00+p10], [p01, p11, p01+p11], [p00+p01, p10+p11, p00+p10+p01+p11]])\n",
    "df.columns =['H1 = 0', 'H1 = 1', 'Marginal H2'] \n",
    "df.index = ['H2 = 0', 'H2 = 1', 'Marginal H1'] \n",
    "df"
   ]
  },
  {
   "cell_type": "markdown",
   "metadata": {},
   "source": [
    "b) Like movies $V_1, V_2, V_3,V_4, V_5$, i.e., $V_1=V_2=V_3=V_4=V_5=1$"
   ]
  },
  {
   "cell_type": "code",
   "execution_count": 32,
   "metadata": {},
   "outputs": [],
   "source": [
    "# fixing the first 5 entries of omega to what is described in b) which corresponds to the observed nodes V\n",
    "# initializing the hidden nodes to 0 \n",
    "omega_start = np.array([1,1,1,1,1,0,0])\n",
    "samples = Gibbs_Sampler(W, omega_start, N, sample_hidden=True, sample_observed=False)"
   ]
  },
  {
   "cell_type": "code",
   "execution_count": 33,
   "metadata": {},
   "outputs": [],
   "source": [
    "hidden_samples = np.array(samples)[:,-2:]\n",
    "# burn in time\n",
    "hidden_samples_wBurnIn = hidden_samples[int(0.3*N):,]"
   ]
  },
  {
   "cell_type": "markdown",
   "metadata": {},
   "source": [
    "$P(H_1=0, H_2=0|V)$:"
   ]
  },
  {
   "cell_type": "code",
   "execution_count": 34,
   "metadata": {
    "scrolled": true
   },
   "outputs": [],
   "source": [
    "p00 = len(hidden_samples_wBurnIn[(hidden_samples_wBurnIn[:,0] == 0) & (hidden_samples_wBurnIn[:,1] == 0)])/len(hidden_samples_wBurnIn)"
   ]
  },
  {
   "cell_type": "code",
   "execution_count": 35,
   "metadata": {},
   "outputs": [
    {
     "data": {
      "text/plain": [
       "0.47646503362138054"
      ]
     },
     "execution_count": 35,
     "metadata": {},
     "output_type": "execute_result"
    }
   ],
   "source": [
    "p00"
   ]
  },
  {
   "cell_type": "markdown",
   "metadata": {},
   "source": [
    "$P(H_1=0, H_2=1|V)$"
   ]
  },
  {
   "cell_type": "code",
   "execution_count": 36,
   "metadata": {
    "scrolled": true
   },
   "outputs": [],
   "source": [
    "p01 = len(hidden_samples_wBurnIn[(hidden_samples_wBurnIn[:,0] == 0) & (hidden_samples_wBurnIn[:,1] == 1)])/len(hidden_samples_wBurnIn)"
   ]
  },
  {
   "cell_type": "code",
   "execution_count": 37,
   "metadata": {},
   "outputs": [
    {
     "data": {
      "text/plain": [
       "0.023848537359232345"
      ]
     },
     "execution_count": 37,
     "metadata": {},
     "output_type": "execute_result"
    }
   ],
   "source": [
    "p01"
   ]
  },
  {
   "cell_type": "markdown",
   "metadata": {},
   "source": [
    "$P(H_1=1, H_2=0|V)$"
   ]
  },
  {
   "cell_type": "code",
   "execution_count": 38,
   "metadata": {},
   "outputs": [],
   "source": [
    "p10 = len(hidden_samples_wBurnIn[(hidden_samples_wBurnIn[:,0] == 1) & (hidden_samples_wBurnIn[:,1] == 0)])/len(hidden_samples_wBurnIn)"
   ]
  },
  {
   "cell_type": "code",
   "execution_count": 39,
   "metadata": {},
   "outputs": [
    {
     "data": {
      "text/plain": [
       "0.4761193198295431"
      ]
     },
     "execution_count": 39,
     "metadata": {},
     "output_type": "execute_result"
    }
   ],
   "source": [
    "p10"
   ]
  },
  {
   "cell_type": "markdown",
   "metadata": {},
   "source": [
    "$P(H_1=1, H_2=1|V)$"
   ]
  },
  {
   "cell_type": "code",
   "execution_count": 40,
   "metadata": {},
   "outputs": [],
   "source": [
    "p11 = len(hidden_samples_wBurnIn[(hidden_samples_wBurnIn[:,0] == 1) & (hidden_samples_wBurnIn[:,1] == 1)])/len(hidden_samples_wBurnIn)"
   ]
  },
  {
   "cell_type": "code",
   "execution_count": 41,
   "metadata": {},
   "outputs": [
    {
     "data": {
      "text/plain": [
       "0.023567109189844015"
      ]
     },
     "execution_count": 41,
     "metadata": {},
     "output_type": "execute_result"
    }
   ],
   "source": [
    "p11"
   ]
  },
  {
   "cell_type": "code",
   "execution_count": 42,
   "metadata": {},
   "outputs": [
    {
     "data": {
      "text/html": [
       "<div>\n",
       "<style scoped>\n",
       "    .dataframe tbody tr th:only-of-type {\n",
       "        vertical-align: middle;\n",
       "    }\n",
       "\n",
       "    .dataframe tbody tr th {\n",
       "        vertical-align: top;\n",
       "    }\n",
       "\n",
       "    .dataframe thead th {\n",
       "        text-align: right;\n",
       "    }\n",
       "</style>\n",
       "<table border=\"1\" class=\"dataframe\">\n",
       "  <thead>\n",
       "    <tr style=\"text-align: right;\">\n",
       "      <th></th>\n",
       "      <th>H1 = 0</th>\n",
       "      <th>H1 = 1</th>\n",
       "      <th>Marginal H2</th>\n",
       "    </tr>\n",
       "  </thead>\n",
       "  <tbody>\n",
       "    <tr>\n",
       "      <th>H2 = 0</th>\n",
       "      <td>0.476465</td>\n",
       "      <td>0.476119</td>\n",
       "      <td>0.952584</td>\n",
       "    </tr>\n",
       "    <tr>\n",
       "      <th>H2 = 1</th>\n",
       "      <td>0.023849</td>\n",
       "      <td>0.023567</td>\n",
       "      <td>0.047416</td>\n",
       "    </tr>\n",
       "    <tr>\n",
       "      <th>Marginal H1</th>\n",
       "      <td>0.500314</td>\n",
       "      <td>0.499686</td>\n",
       "      <td>1.000000</td>\n",
       "    </tr>\n",
       "  </tbody>\n",
       "</table>\n",
       "</div>"
      ],
      "text/plain": [
       "               H1 = 0    H1 = 1  Marginal H2\n",
       "H2 = 0       0.476465  0.476119     0.952584\n",
       "H2 = 1       0.023849  0.023567     0.047416\n",
       "Marginal H1  0.500314  0.499686     1.000000"
      ]
     },
     "execution_count": 42,
     "metadata": {},
     "output_type": "execute_result"
    }
   ],
   "source": [
    "df = pd.DataFrame([[p00, p10, p00+p10], [p01, p11, p01+p11], [p00+p01, p10+p11, p00+p10+p01+p11]])\n",
    "df.columns =['H1 = 0', 'H1 = 1', 'Marginal H2'] \n",
    "df.index = ['H2 = 0', 'H2 = 1', 'Marginal H1'] \n",
    "df"
   ]
  },
  {
   "cell_type": "markdown",
   "metadata": {},
   "source": [
    "# 3 {-}\n",
    "\n",
    "**Now we will consider the RBM of problem 2 again, but this time focusing on inferring the parameters. We will assume throughout that $a_i =0$ and $b_i =0$. Let $\\theta=(w_{11},w_{12},w_{21},w_{22},...,w_{51},w_{52})$**"
   ]
  },
  {
   "cell_type": "markdown",
   "metadata": {},
   "source": [
    "# a {-}\n",
    "\n",
    "**Using the values of the parameters given in part (c) of problem 2, generate $N = 100$ independent samples of the random variables $(V, H)$ in the RBM. That is, you will sample $(V,H)~ 100$ times, so that each $(V,H)$ sample is independent of the others.**"
   ]
  },
  {
   "cell_type": "code",
   "execution_count": 43,
   "metadata": {},
   "outputs": [],
   "source": [
    "indep_samples = np.empty((100, 7))\n",
    "for i in range(0, 100):\n",
    "    omega_start = np.random.randint(2, size=7)\n",
    "    sample = Gibbs_Sampler(W, omega_start, 10**4, sample_hidden=True, sample_observed=True)[-1]\n",
    "    indep_samples[i, :] = sample"
   ]
  },
  {
   "cell_type": "markdown",
   "metadata": {},
   "source": [
    "# b {-}\n",
    "\n",
    "**Let $\\hat{V}^{(k)}$ and $\\hat{H}^{(k)}$ for $k = 1,2,...,100$ be the iid samples you generated in (a). Let $l(\\theta)$ be the log-likelihood of this data. Show**\n",
    "\n",
    "$$l(\\theta)=N\\log(\\alpha(\\theta))+\\sum_{k=1}^{100}\\sum_{i=1}^{5}\\sum_{j=1}^{2}w_{ij}\\hat{V}_i^{(k)}\\hat{H}_j^{(k)}$$\n",
    "\n",
    "**and that**\n",
    "\n",
    "$$\\frac{\\partial l}{\\partial w_{mn}}(\\theta)=-NE_{\\theta}[V_mH_n]+\\sum_{k=1}^{N}\\hat{V}_m^{(k)}\\hat{H}_n^{(k)}$$\n",
    "\n",
    "**where $E_{\\theta}[V_mH_n]$ is the expected value of $V_mH_n$ under the parameter $\\theta$**"
   ]
  },
  {
   "cell_type": "markdown",
   "metadata": {},
   "source": [
    "From the prompt, we know that $P(\\hat{V}, \\hat{H}; \\theta)=\\alpha e^{\\sum_{i=1}^{5}\\sum_{j=1}^{2}w_{ij}\\hat{V}_i\\hat{H}_j}$ where $\\theta=(w_{11},w_{12},w_{21},w_{22},...,w_{51},w_{52})$\n",
    "\n",
    "Let $\\hat{V}^{(k)}$ and $\\hat{H}^{(k)}$ for $k = 1,2,...,100$ be iid. Then the likelihood of this data is,\n",
    "\n",
    "$$L(\\theta)$$\n",
    "\n",
    "$$=\\prod_{k=1}^{100}P(\\hat{V}, \\hat{H}; \\theta)$$\n",
    "\n",
    "$$=\\prod_{k=1}^{100}\\alpha e^{\\sum_{i=1}^{5}\\sum_{j=1}^{2}w_{ij}\\hat{V}_i^{(k)}\\hat{H}_j^{(k)}}$$\n",
    "\n",
    "$$=\\alpha^{100} e^{\\sum_{k=1}^{100}\\sum_{i=1}^{5}\\sum_{j=1}^{2}w_{ij}\\hat{V}_i^{(k)}\\hat{H}_j^{(k)}}$$\n",
    "\n",
    "And so the log-likelihood of the data is,\n",
    "\n",
    "$$l(\\theta)=\\log L(\\theta)$$\n",
    "\n",
    "$$\\log \\alpha^{100} e^{\\sum_{k=1}^{100}\\sum_{i=1}^{5}\\sum_{j=1}^{2}w_{ij}\\hat{V}_i^{(k)}\\hat{H}_j^{(k)}}$$\n",
    "\n",
    "$$=100\\log \\alpha + \\sum_{k=1}^{100}\\sum_{i=1}^{5}\\sum_{j=1}^{2}w_{ij}\\hat{V}_i^{(k)}\\hat{H}_j^{(k)}$$\n",
    "\n",
    "Now, by noting that $\\alpha$ must be such that \n",
    "\n",
    "$$\\sum_{\\hat{V_1}=0}^{1}\\sum_{\\hat{V_1}=0}^{1}\\ldots \\sum_{\\hat{V_5}=0}^{1}\\sum_{\\hat{H_1}=0}^{1}\\sum_{\\hat{H_2}=0}^{1}\\alpha e^{\\sum_{i=1}^{5}\\sum_{j=1}^{2}w_{ij}\\hat{V}_i\\hat{H}_j}=1$$\n",
    "\n",
    "\n"
   ]
  },
  {
   "cell_type": "markdown",
   "metadata": {},
   "source": [
    "$$\\implies \\alpha = \\frac{1}{\\sum_{\\hat{V_1}=0}^{1}\\sum_{\\hat{V_1}=0}^{1}\\ldots \\sum_{\\hat{V_5}=0}^{1}\\sum_{\\hat{H_1}=0}^{1}\\sum_{\\hat{H_2}=0}^{1}e^{\\sum_{i=1}^{5}\\sum_{j=1}^{2}w_{ij}\\hat{V}_i\\hat{H}_j}}$$\n",
    "\n",
    "and so $\\alpha$ is indeed a function of $\\theta$. Therefore, we have,\n",
    "\n",
    "$$l(\\theta)$$\n",
    "\n",
    "$$=100\\log \\alpha(\\theta) + \\sum_{k=1}^{100}\\sum_{i=1}^{5}\\sum_{j=1}^{2}w_{ij}\\hat{V}_i^{(k)}\\hat{H}_j^{(k)}$$\n",
    "\n",
    "where $100=N$\n"
   ]
  },
  {
   "cell_type": "markdown",
   "metadata": {},
   "source": [
    "Now, let's derive \n",
    "\n",
    "$$\\frac{\\partial l}{\\partial w_{mn}}(\\theta)$$\n",
    "\n",
    "$$=\\frac{\\partial}{\\partial w_{mn}}(100\\log \\alpha(\\theta) + \\sum_{k=1}^{100}\\sum_{i=1}^{5}\\sum_{j=1}^{2}w_{ij}\\hat{V}_i^{(k)}\\hat{H}_j^{(k)})\n",
    "$$\n",
    "\n",
    "$$=100\\frac{\\partial}{\\partial w_{mn}}\\log \\alpha(\\theta) + \\frac{\\partial}{\\partial w_{mn}}\\sum_{k=1}^{100}\\sum_{i=1}^{5}\\sum_{j=1}^{2}w_{ij}\\hat{V}_i^{(k)}\\hat{H}_j^{(k)}$$\n",
    "\n",
    "Let's first derive $\\frac{\\partial}{\\partial w_{mn}}\\log \\alpha(\\theta)$:"
   ]
  },
  {
   "cell_type": "markdown",
   "metadata": {},
   "source": [
    "First note,\n",
    "\n",
    "$$\\log \\alpha(\\theta)$$\n",
    "$$=\\log\\frac{1}{\\sum_{\\hat{V_1}=0}^{1}\\sum_{\\hat{V_1}=0}^{1}\\ldots \\sum_{\\hat{V_5}=0}^{1}\\sum_{\\hat{H_1}=0}^{1}\\sum_{\\hat{H_2}=0}^{1}e^{\\sum_{i=1}^{5}\\sum_{j=1}^{2}w_{ij}\\hat{V}_i\\hat{H}_j}}$$\n",
    "$$=-\\log \\sum_{\\hat{V_1}=0}^{1}\\sum_{\\hat{V_1}=0}^{1}\\ldots \\sum_{\\hat{V_5}=0}^{1}\\sum_{\\hat{H_1}=0}^{1}\\sum_{\\hat{H_2}=0}^{1}e^{\\sum_{i=1}^{5}\\sum_{j=1}^{2}w_{ij}\\hat{V}_i\\hat{H}_j}$$\n",
    "\n",
    "So,\n",
    "\n",
    "$$\\frac{\\partial}{\\partial w_{mn}}\\log \\alpha(\\theta)$$\n",
    "\n",
    "$$=\\frac{\\partial}{\\partial w_{mn}}(-\\log \\sum_{\\hat{V_1}=0}^{1}\\sum_{\\hat{V_1}=0}^{1}\\ldots \\sum_{\\hat{V_5}=0}^{1}\\sum_{\\hat{H_1}=0}^{1}\\sum_{\\hat{H_2}=0}^{1}e^{\\sum_{i=1}^{5}\\sum_{j=1}^{2}w_{ij}\\hat{V}_i\\hat{H}_j})$$\n",
    "\n",
    "$$=- \\frac{\\frac{\\partial}{\\partial w_{mn}}( \\sum_{\\hat{V_1}=0}^{1}\\sum_{\\hat{V_1}=0}^{1}\\ldots \\sum_{\\hat{V_5}=0}^{1}\\sum_{\\hat{H_1}=0}^{1}\\sum_{\\hat{H_2}=0}^{1}e^{\\sum_{i=1}^{5}\\sum_{j=1}^{2}w_{ij}\\hat{V}_i\\hat{H}_j})}{\\sum_{\\hat{V_1}=0}^{1}\\sum_{\\hat{V_1}=0}^{1}\\ldots \\sum_{\\hat{V_5}=0}^{1}\\sum_{\\hat{H_1}=0}^{1}\\sum_{\\hat{H_2}=0}^{1}e^{\\sum_{i=1}^{5}\\sum_{j=1}^{2}w_{ij}\\hat{V}_i\\hat{H}_j}} $$\n",
    "\n",
    "$$=-\\frac{\\sum_{\\hat{V_1}=0}^{1}\\sum_{\\hat{V_1}=0}^{1}\\ldots \\sum_{\\hat{V_5}=0}^{1}\\sum_{\\hat{H_1}=0}^{1}\\sum_{\\hat{H_2}=0}^{1}\\hat{V}_m\\hat{H}_ne^{\\sum_{i=1}^{5}\\sum_{j=1}^{2}w_{ij}\\hat{V}_i\\hat{H}_j})}{\\sum_{\\hat{V_1}=0}^{1}\\sum_{\\hat{V_1}=0}^{1}\\ldots \\sum_{\\hat{V_5}=0}^{1}\\sum_{\\hat{H_1}=0}^{1}\\sum_{\\hat{H_2}=0}^{1}e^{\\sum_{i=1}^{5}\\sum_{j=1}^{2}w_{ij}\\hat{V}_i\\hat{H}_j}}$$\n",
    "\n",
    "$$=-\\sum_{\\hat{V_1}=0}^{1}\\sum_{\\hat{V_1}=0}^{1}\\ldots \\sum_{\\hat{V_5}=0}^{1}\\sum_{\\hat{H_1}=0}^{1}\\sum_{\\hat{H_2}=0}^{1}\\hat{V}_m\\hat{H}_nP(\\hat{V}, \\hat{H}; \\theta)$$\n",
    "\n",
    "$$=-E_{\\theta}[V_mH_n]$$"
   ]
  },
  {
   "cell_type": "markdown",
   "metadata": {},
   "source": [
    "Lastly,\n",
    "\n",
    "$$\\frac{\\partial}{\\partial w_{mn}}\\sum_{k=1}^{100}\\sum_{i=1}^{5}\\sum_{j=1}^{2}w_{ij}\\hat{V}_i^{(k)}\\hat{H}_j^{(k)}$$\n",
    "\n",
    "$$=\\sum_{k=1}^{100}\\hat{V}_m^{(k)}\\hat{H}_n^{(k)}$$"
   ]
  },
  {
   "cell_type": "markdown",
   "metadata": {},
   "source": [
    "And so putting everything together:\n",
    "\n",
    "$$\\frac{\\partial l}{\\partial w_{mn}}(\\theta)$$\n",
    "\n",
    "$$=100\\frac{\\partial}{\\partial w_{mn}}\\log \\alpha(\\theta) + \\frac{\\partial}{\\partial w_{mn}}\\sum_{k=1}^{100}\\sum_{i=1}^{5}\\sum_{j=1}^{2}w_{ij}\\hat{V}_i^{(k)}\\hat{H}_j^{(k)}$$\n",
    "\n",
    "$$=-100E_{\\theta}[V_mH_n] + \\sum_{k=1}^{100}\\hat{V}_m^{(k)}\\hat{H}_n^{(k)}$$\n",
    "\n",
    "where $100=N$"
   ]
  },
  {
   "cell_type": "markdown",
   "metadata": {},
   "source": [
    "# c {-}\n",
    "\n",
    "**Use a steepest ascent iteration**\n",
    "\n",
    "$$\\theta^{(i+1)}=\\theta^{(i)}+\\epsilon\\nabla l(\\theta^{(i)})$$\n",
    "\n",
    "**to find the MLE for $\\theta$. Make $\\epsilon$ small so backtracking will not be needed. At each iteration use your Gibbs sampler to calculate the expression $E_{\\theta}[V_mH_n]$. Note you can run your Gibbs sampler once to generate this expected value for all pairs $m, n$. Also, at each iteration $i$ of the steepest ascent algorithm, save the last state of your Gibbs sampler and use it as the initial state in iteration $i+1$ of the steepest ascent algorithm. This will greatly reduce the number of time steps you need to run the Gibbs sampler. Compare your MLE to the actual value of $\\theta$.**"
   ]
  },
  {
   "cell_type": "markdown",
   "metadata": {},
   "source": [
    "The function below estimates $E_{\\theta}[V_mH_n]$ when passing samples generated via Gibbs Sampling:"
   ]
  },
  {
   "cell_type": "code",
   "execution_count": 44,
   "metadata": {},
   "outputs": [],
   "source": [
    "def expected_value_estimate(samples, m, n):\n",
    "    return np.mean(np.sum(samples[:,m]*samples[:,n]))"
   ]
  },
  {
   "cell_type": "markdown",
   "metadata": {},
   "source": [
    "The function below calculates the gradient as specified in b) and in the prompt for c):"
   ]
  },
  {
   "cell_type": "code",
   "execution_count": 45,
   "metadata": {},
   "outputs": [],
   "source": [
    "def get_gradient(omega_start, W):\n",
    "    \"\"\"\n",
    "    Args: \n",
    "        omega_start: last state of Gibbs sampler from previous iteration\n",
    "        W: current values of parameters\n",
    "    Returns:\n",
    "        gradient: value of gradient\n",
    "        samples[-1]: last state of Gibbs sampler   \n",
    "    \"\"\"\n",
    "    samples = Gibbs_Sampler(W, omega_start, 10**3, sample_hidden=True, sample_observed=True)\n",
    "    gradient = np.empty((10))\n",
    "    i = 0\n",
    "    for m in range(0,5):\n",
    "        for n in range(0,2):\n",
    "            gradient[i] = -100*expected_value_estimate(samples, m, n) + np.sum(indep_samples[:,m]*indep_samples[:,n])\n",
    "            i = i + 1\n",
    "    return gradient, samples[-1]"
   ]
  },
  {
   "cell_type": "code",
   "execution_count": 46,
   "metadata": {},
   "outputs": [],
   "source": [
    "def steepest_ascent(N, theta, omega_start, eps=0.000001):\n",
    "    for n in tqdm(range(0, N)):\n",
    "        gradient, omega_start = get_gradient(omega_start, theta.reshape(5,2)) \n",
    "        theta = theta + eps*gradient\n",
    "    return theta"
   ]
  },
  {
   "cell_type": "code",
   "execution_count": 47,
   "metadata": {
    "scrolled": false
   },
   "outputs": [],
   "source": [
    "# warm start for the value of omega_start to pass to the first iteration of gradient ascent\n",
    "theta_start = np.random.randint(2, size=10)\n",
    "omega_start = Gibbs_Sampler(theta_start.reshape(5,2), np.random.randint(2, size=7), 10**5, sample_hidden=True, sample_observed=True)[-1]"
   ]
  },
  {
   "cell_type": "code",
   "execution_count": 48,
   "metadata": {},
   "outputs": [
    {
     "name": "stderr",
     "output_type": "stream",
     "text": [
      "100%|██████████| 100/100 [00:23<00:00,  4.30it/s]\n"
     ]
    },
    {
     "data": {
      "text/plain": [
       "array([[-4.0237, -1.8394],\n",
       "       [-1.8394, -4.1094],\n",
       "       [-1.0547, -2.1016],\n",
       "       [-1.8794, -1.8962],\n",
       "       [-1.1629, -1.1858]])"
      ]
     },
     "execution_count": 48,
     "metadata": {},
     "output_type": "execute_result"
    }
   ],
   "source": [
    "from tqdm import tqdm # timer in secs\n",
    "estimated_theta = steepest_ascent(10**2, theta_start, omega_start)\n",
    "estimated_theta.reshape(5,2)"
   ]
  },
  {
   "cell_type": "code",
   "execution_count": 49,
   "metadata": {
    "scrolled": true
   },
   "outputs": [
    {
     "data": {
      "text/plain": [
       "array([[ 2, -3],\n",
       "       [ 2, -3],\n",
       "       [-2,  3],\n",
       "       [-2, -2],\n",
       "       [ 0,  2]])"
      ]
     },
     "execution_count": 49,
     "metadata": {},
     "output_type": "execute_result"
    }
   ],
   "source": [
    "W"
   ]
  },
  {
   "cell_type": "markdown",
   "metadata": {},
   "source": [
    "The estimates from steepest differ from the parameters as can be seen above. We should try different combinations of $\\epsilon$ and the starting point to get better results (we might be stuck at a local optimum). Similarly, we may need more data as $100$ samples might not be enough. "
   ]
  },
  {
   "cell_type": "markdown",
   "metadata": {},
   "source": [
    "# 4 {-}\n",
    "\n",
    "**Suppose that you know a certain stationary, mean zero Gaussian process $X(t)$ has autocorrelation given by $r(t) = \\sigma^2 \\exp[−\\lambda t]$ and that you know $\\sigma^2$ and $\\lambda$. An experiment provides a collection of samples $(t_i, x_i)$ for $i = 1, 2, . . . , N$. Describe how you would compute a p-value for the hypothesis that the $x_i$ are the values of $X(t)$ at the times $t_i$ from a single sample of the Gaussian process. No need to code anything up, just explain how you would compute a p-value and why your approach makes sense.**"
   ]
  },
  {
   "cell_type": "markdown",
   "metadata": {},
   "source": [
    "Let $X \\in R^n$ be the stationary, mean zero Gaussian process specified above. Then $X \\sim N(0, \\Sigma)$ where $\\Sigma_{ij}=\\sigma^2\\exp[-\\lambda|i-j|]$.\n",
    "\n",
    "Let $\\Sigma = AA^T$ be the cholesky decomposition of $\\Sigma$. Then $Y=A^TX\\sim N(0,I)$ from previous HWs. I.e., we now have that $Y_i$ for $i=1,2,...,n$ are iid random variables each distributed as $N(0,1)$."
   ]
  },
  {
   "cell_type": "markdown",
   "metadata": {},
   "source": [
    "And from here we can apply the Kolmogorov Smirnoff statistical test. The null hypothesis assumes no difference between the observed ($Y_i$) and theoretical ($N(0,1)$) distribution and the value of the test statistic D is calculated as the supremum of the set of distances $D_n=\\sup_x |F_n(x)-F(x)|$. To get the p-value we can pass our $Y_i$ to a python or R Kolmogorov Smirnoff function (in Python scipy.stats.kstest returns the p-value).\n",
    "\n"
   ]
  },
  {
   "cell_type": "code",
   "execution_count": null,
   "metadata": {},
   "outputs": [],
   "source": []
  }
 ],
 "metadata": {
  "kernelspec": {
   "display_name": "Python 3",
   "language": "python",
   "name": "python3"
  },
  "language_info": {
   "codemirror_mode": {
    "name": "ipython",
    "version": 3
   },
   "file_extension": ".py",
   "mimetype": "text/x-python",
   "name": "python",
   "nbconvert_exporter": "python",
   "pygments_lexer": "ipython3",
   "version": "3.7.3"
  }
 },
 "nbformat": 4,
 "nbformat_minor": 4
}
