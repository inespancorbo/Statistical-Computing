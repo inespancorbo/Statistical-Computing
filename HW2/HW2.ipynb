{
 "cells": [
  {
   "cell_type": "markdown",
   "metadata": {},
   "source": [
    "# Exercise 2 {-}"
   ]
  },
  {
   "cell_type": "markdown",
   "metadata": {},
   "source": [
    "**Let $Y \\sim N(0,\\Sigma)$ with $Y \\in R^n$. Let $M$ be an invertible $n\\times n$ matrix. Show that $MY \\sim N(0,M\\Sigma M^T)$. Don’t assume that $MY$ is normal.**"
   ]
  },
  {
   "cell_type": "markdown",
   "metadata": {},
   "source": [
    "$$\\mathbb{P}\\{MY \\in R\\}$$\n",
    "\n",
    "$$= \\mathbb{P}\\{Y \\in M^{-1}R\\}$$\n",
    "\n",
    "$$= \\iint\\limits_{M^{-1}R} \\ldots \\int dy_1 dy_2 \\ldots dy_n \\frac{1}{(2\\pi)^{n/2}|\\Sigma|^{1/2}}e^{-y^T\\Sigma^{-1}y/2} ~~~~~~~~~~~~ (*)$$\n",
    "\n",
    "Now, consider the transformation $z=My \\implies y=M^{-1}z$. \n",
    "\n",
    "Note that,\n",
    "\n",
    "$$\\frac{\\partial y}{\\partial z}$$\n",
    "\n",
    "$$= \\frac{\\partial M^{-1}z}{\\partial z}$$\n",
    "\n",
    "$$=\\frac{\\partial}{\\partial z}\\begin{pmatrix}\n",
    "\\sum_{i=1}^{n}M_{1i}^{-1}z_i \\\\\n",
    "\\sum_{i=1}^{n}M_{2i}^{-1}z_i \\\\\n",
    "\\vdots \\\\ \n",
    "\\sum_{i=1}^{n}M_{ni}^{-1}z_i\n",
    "\\end{pmatrix}$$\n",
    "\n",
    "$$=\\begin{pmatrix}\n",
    "\\frac{\\partial (\\sum_{i=1}^{n}M_{1i}^{-1}z_i)}{\\partial z_1} & \\frac{\\partial (\\sum_{i=1}^{n}M_{1i}^{-1}z_i)}{\\partial z_2} & \\ldots & \\frac{\\partial (\\sum_{i=1}^{n}M_{1i}^{-1}z_i)}{\\partial z_n} \\\\\n",
    "\\frac{\\partial (\\sum_{i=1}^{n}M_{2i}^{-1}z_i)}{\\partial z_1} & \\frac{\\partial (\\sum_{i=1}^{n}M_{2i}^{-1}z_i)}{\\partial z_2} & \\ldots & \\frac{\\partial (\\sum_{i=1}^{n}M_{2i}^{-1}z_i)}{\\partial z_n} \\\\\n",
    "\\vdots \\\\ \n",
    "\\frac{\\partial (\\sum_{i=1}^{n}M_{ni}^{-1}z_i)}{\\partial z_1} & \\frac{\\partial (\\sum_{i=1}^{n}M_{ni}^{-1}z_i)}{\\partial z_2} & \\ldots & \\frac{\\partial (\\sum_{i=1}^{n}M_{ni}^{-1}z_i)}{\\partial z_n} \\\\\n",
    "\\end{pmatrix}$$\n",
    "\n",
    "$$=M^{-1}.$$\n",
    "\n",
    "And so, by applying the transformation $z=My$, we have that,\n",
    "\n",
    "$$(*)=\\iint\\limits_{R} \\ldots \\int dz_1 dz_2 \\ldots dz_n \\frac{1}{(2\\pi)^{n/2}|\\Sigma|^{1/2}}|M^{-1}|e^{-(M^{-1}z)^T\\Sigma^{-1}M^{-1}z/2}$$\n",
    "\n",
    "$$=\\iint\\limits_{R} \\ldots \\int dz_1 dz_2 \\ldots dz_n \\frac{1}{(2\\pi)^{n/2}(\\frac{|\\Sigma|}{|M^{-1}||M^{-1}|})^{1/2}}e^{-z^T(M^{-1})^T\\Sigma^{-1}M^{-1}z/2}$$\n",
    "\n",
    "$$=\\iint\\limits_{R} \\ldots \\int dz_1 dz_2 \\ldots dz_n \\frac{1}{(2\\pi)^{n/2}(|M||\\Sigma||M|)^{1/2}}e^{-z^T(M^T)^{-1}\\Sigma^{-1}M^{-1}z/2}$$\n",
    "\n",
    "since $\\frac{1}{|M^{-1}|}=|M|$ and $(M^{-1})^T=(M^T)^{-1}$\n",
    "\n",
    "$$=\\iint\\limits_{R} \\ldots \\int dz_1 dz_2 \\ldots dz_n \\frac{1}{(2\\pi)^{n/2}(|M||\\Sigma||M^T|)^{1/2}}e^{-z^T(M\\Sigma M^T)^{-1}z/2}$$\n",
    "\n",
    "since $|M|=|M^T|$\n",
    "\n",
    "$$=\\iint\\limits_{R} \\ldots \\int dz_1 dz_2 \\ldots dz_n \\frac{1}{(2\\pi)^{n/2}(|M\\Sigma M^T|)^{1/2}}e^{-z^T(M\\Sigma M^T)^{-1}z/2}$$\n",
    "\n",
    "since the determinant of a product is the product of the determinants.\n",
    "\n",
    "The last equation is the density of a multivariate normal with mean $0$ and covariance $M\\Sigma M^T$. We are done. "
   ]
  },
  {
   "cell_type": "markdown",
   "metadata": {},
   "source": [
    "# Exercise 3 {-}"
   ]
  },
  {
   "cell_type": "markdown",
   "metadata": {},
   "source": [
    "**Let $X$ be an exponential random variable with rate $1$. Using cdf inversion, write a function that generates $n$ independent samples of $X$. Compare the speed of your sampler for $n = 10^6$ with that of your language’s exponential sampler (in R rexp).**\n"
   ]
  },
  {
   "cell_type": "markdown",
   "metadata": {},
   "source": [
    "The inverse transform method uses the fact that if $X$ is a variable with cdf $F_X(x)$, then $U=F_X(X)\\sim Uniform(0, 1).$\n",
    "\n",
    "To generate $n$ independent samples, $x_1, x_2, \\ldots, x_n$, from a random variable $X$ with cdf $F_X(x)$ using the inverse transform method you would do the following: \n",
    "\n",
    "- Find the inverse of the cdf of $X$, $F^{-1}_X(x)$.\n",
    "- For $i=1,2,\\ldots, n$\n",
    "    - Sample $u_i$ from $Uniform(0,1)$\n",
    "    - Let $x_i=F^{-1}_X(u_i)$"
   ]
  },
  {
   "cell_type": "markdown",
   "metadata": {},
   "source": [
    "Let's find $F^{-1}_X(x)$ for $X\\sim Exp(1)$:\n",
    "\n",
    "We know that $f_X(x)=e^{-x}$ for $x>0$ and $F_X(x)=\\int_{0}^{x} e^{-t} dt = (e^{-t})|_{0}^{x} = 1 - e^{-x}.$\n",
    "\n",
    "Now, \n",
    "\n",
    "$$y=F_X(x)=1-e^{-x}$$\n",
    "\n",
    "$$e^{-x}=1-y$$\n",
    "\n",
    "$$-x=\\log(1-y)$$\n",
    "\n",
    "$$x=-\\log(1-y)$$\n",
    "\n",
    "And so $F^{-1}_X(x)=-\\log(1-x)$."
   ]
  },
  {
   "cell_type": "code",
   "execution_count": 1,
   "metadata": {},
   "outputs": [],
   "source": [
    "from numpy.random import uniform, random\n",
    "import numpy as np"
   ]
  },
  {
   "cell_type": "code",
   "execution_count": 2,
   "metadata": {},
   "outputs": [],
   "source": [
    "def exp_sampler(n):\n",
    "    \"\"\"Generates n independent samples of an exponential \n",
    "    random variable using the inverse transform method\n",
    "    \n",
    "    Args:\n",
    "        n: number of independent samples\n",
    "        \n",
    "    Returns:\n",
    "        An array of length n\n",
    "    \n",
    "    \"\"\"\n",
    "    \n",
    "    def exp_inverse(x):\n",
    "        return(-np.log(1-x))\n",
    "    \n",
    "    return(exp_inverse(uniform(0, 1, n)))   "
   ]
  },
  {
   "cell_type": "markdown",
   "metadata": {},
   "source": [
    "Let's see how $exp$_$sampler$ performs for $n=10^6$."
   ]
  },
  {
   "cell_type": "code",
   "execution_count": 3,
   "metadata": {},
   "outputs": [],
   "source": [
    "n = 10**6"
   ]
  },
  {
   "cell_type": "code",
   "execution_count": 4,
   "metadata": {},
   "outputs": [],
   "source": [
    "samples = exp_sampler(n)"
   ]
  },
  {
   "cell_type": "code",
   "execution_count": 5,
   "metadata": {},
   "outputs": [
    {
     "data": {
      "image/png": "[encoded data removed]",
      "text/plain": [
       "<Figure size 720x504 with 1 Axes>"
      ]
     },
     "metadata": {
      "needs_background": "light"
     },
     "output_type": "display_data"
    }
   ],
   "source": [
    "from scipy.stats import expon\n",
    "import matplotlib.pyplot as plt\n",
    "\n",
    "x = np.linspace(0, 10, 5000)\n",
    "y = expon.pdf(x=x, loc=0, scale=1)\n",
    "plt.figure(figsize=(10, 7))\n",
    "plt.plot(x, y, label=\"Theoretical exponential density\")\n",
    "plt.hist(samples, density=True, alpha=0.2, \n",
    "         color='red', bins=40,\n",
    "         label=\"Empirical exponential density via cdf inversion\")\n",
    "plt.legend()\n",
    "plt.show()"
   ]
  },
  {
   "cell_type": "code",
   "execution_count": 6,
   "metadata": {},
   "outputs": [
    {
     "data": {
      "text/plain": [
       "1.0009095470963476"
      ]
     },
     "execution_count": 6,
     "metadata": {},
     "output_type": "execute_result"
    }
   ],
   "source": [
    "samples.mean()"
   ]
  },
  {
   "cell_type": "code",
   "execution_count": 7,
   "metadata": {},
   "outputs": [
    {
     "data": {
      "text/plain": [
       "1.0029079219867696"
      ]
     },
     "execution_count": 7,
     "metadata": {},
     "output_type": "execute_result"
    }
   ],
   "source": [
    "samples.var()"
   ]
  },
  {
   "cell_type": "markdown",
   "metadata": {},
   "source": [
    "As we can see above, the empirical and theoretical distributions look like they agree. The sample statistics, mean and variance, are also very close to the first moment and the second central moment."
   ]
  },
  {
   "cell_type": "markdown",
   "metadata": {},
   "source": [
    "Let's now compare the performance of $exp$_$sampler$ and python's exponential sampler in terms of speed."
   ]
  },
  {
   "cell_type": "code",
   "execution_count": 8,
   "metadata": {},
   "outputs": [],
   "source": [
    "from numpy.random import exponential"
   ]
  },
  {
   "cell_type": "code",
   "execution_count": 9,
   "metadata": {},
   "outputs": [
    {
     "name": "stdout",
     "output_type": "stream",
     "text": [
      "CPU times: user 51.8 ms, sys: 12.8 ms, total: 64.6 ms\n",
      "Wall time: 62.9 ms\n"
     ]
    },
    {
     "data": {
      "text/plain": [
       "array([1.5950504 , 0.05153149, 0.63707467, ..., 0.03816482, 1.54859169,\n",
       "       0.0051575 ])"
      ]
     },
     "execution_count": 9,
     "metadata": {},
     "output_type": "execute_result"
    }
   ],
   "source": [
    "%time exp_sampler(n)"
   ]
  },
  {
   "cell_type": "code",
   "execution_count": 10,
   "metadata": {},
   "outputs": [
    {
     "name": "stdout",
     "output_type": "stream",
     "text": [
      "CPU times: user 52 ms, sys: 3.81 ms, total: 55.8 ms\n",
      "Wall time: 54.7 ms\n"
     ]
    },
    {
     "data": {
      "text/plain": [
       "array([1.84816885, 0.20162672, 0.99701121, ..., 0.03281265, 0.76854208,\n",
       "       0.10100135])"
      ]
     },
     "execution_count": 10,
     "metadata": {},
     "output_type": "execute_result"
    }
   ],
   "source": [
    "%time exponential(scale=1, size=n)"
   ]
  },
  {
   "cell_type": "markdown",
   "metadata": {},
   "source": [
    "As can be seen from above, $exp$_$sampler$ is slower than python's exponential sampler."
   ]
  },
  {
   "cell_type": "markdown",
   "metadata": {},
   "source": [
    "# Exercise 4 {-}"
   ]
  },
  {
   "cell_type": "markdown",
   "metadata": {},
   "source": [
    "**Write a function MarkovChain(P, s0, s) that simulates a Markov chain $X(t)$ until the first time the chain is in state $s$, assuming $X(0) = s_0$. The function should return the path of the chain from $t = 0$ to when it ”hits” state $s$. You may use your language’s discrete sampler (in R sample) or write your own.**"
   ]
  },
  {
   "cell_type": "markdown",
   "metadata": {},
   "source": [
    "The dynamics of a Markov Chain are determined by \n",
    "\n",
    "$$P(x,y) := \\mathbb{P}\\{X_{t+1}=y | X_t=x \\}$$\n",
    "\n",
    "for $x, y \\in S$ with $S$ being the state space.\n",
    "\n",
    "- $P(x, y)$ is the probability of going from state $x$ to state $y$ in one unit of time.\n",
    "- $P(x, \\cdot)$ is the conditional distribution of $X_{t+1}$ given $X_t=x$.\n",
    "\n",
    "And so we can view $P$ as a matrix where $P_{ij}=P(x_i,x_j) ~~ 1\\le i,j\\le n$, assuming $|S|=n$.\n",
    "\n",
    "So given a matrix $P$ we can simulate a Markov Chain $\\{ X_t\\}_{t=0}^{\\infty}$ as:\n",
    "- Either be given/assume $X_0$ or sample $X_0$ from a specified distribution\n",
    "- For each $t=1,...$ sample $X_{t+1}$ from $P(X_t, \\cdot)$"
   ]
  },
  {
   "cell_type": "code",
   "execution_count": 11,
   "metadata": {},
   "outputs": [],
   "source": [
    "import numpy as np\n",
    "from numpy.random import choice"
   ]
  },
  {
   "cell_type": "code",
   "execution_count": 12,
   "metadata": {},
   "outputs": [],
   "source": [
    "def MarkovChain(P, s0, s):\n",
    "    \"\"\"Simulates a Marlov Chain X(t) until the first time the \n",
    "    chain is in state s\n",
    "    \n",
    "    Args:\n",
    "        P: Transition probability matrix\n",
    "        s0: Initial state of Markov Chain\n",
    "        s: Desired state to be reached by Markov Chain\n",
    "        \n",
    "    Returns:\n",
    "        List with path of Markov Chain until \n",
    "        it reaches state s, including state s\n",
    "    \n",
    "    \"\"\"\n",
    "    length = len(P)\n",
    "    mc_path = [s0]\n",
    "    while s0 != s:\n",
    "        s0 = choice(np.arange(length), size=1, p=P[s0, ]).item()\n",
    "        mc_path.append(s0)\n",
    "    \n",
    "    return(mc_path)    "
   ]
  },
  {
   "cell_type": "markdown",
   "metadata": {},
   "source": [
    "# Exercise 5 {-}"
   ]
  },
  {
   "cell_type": "markdown",
   "metadata": {},
   "source": [
    "**Chutes and Ladders is a popular children’s game. The board is shown in the image file attached to this assignment. One version of the rules are as follows:**\n",
    "\n",
    "**A board contains squares labeled with the numbers $1,2,..,100.$ A player starts with her/his piece off the board and rolls the die so as to start on one of squares $1,2,3,4,5$ or $6$. During each subsequent turn, each player rolls a six-sided die and moves forward the corresponding number of squares. If after moving the piece forward according to the die roll, the piece is on a square with a ladder bottom, then that player must slide her/his piece up the ladder to the square it ends on. If the token lands on a square with a chute top, then that player must slide down to the square the chute ends on. The goal is to reach $100$ and the player is assumed to reach $100$ if the player’s piece goes past or lands on the $100$ square. So, for example, if the piece is on $99$ and the player roles a $5$ then the player wins. The game is played with two players who take turns until one of them wins.**\n",
    "\n",
    "**Use your function from problem $4$ and a Monte Carlo approach to compute $E[L]$ where $L$ is the average length, in terms of the number of die rolls, of a Chutes and Ladders game. Use a CLT argument to determine roughly how many games you have to simulate to estimate $E[L]$ to an accuracy of $\\pm 5$.**"
   ]
  },
  {
   "cell_type": "markdown",
   "metadata": {},
   "source": [
    "If we let $X_t$ represent the square the player occupies at time $t$, we can model the above using a discrete time and discrete space Markov Chain. We have that $t \\in \\{0, 1, 2, 3, \\ldots \\}$ and that the state space, $S$, is $S=\\{0, 1, 2, 3, 5, \\dots, 100\\}$. Note that $X_0 = 0$, i.e, the player starts with her/his piece off the board.\n",
    "\n",
    "The transition probability matrix will be a $101 \\times 101$ matrix. \n",
    "\n",
    "$^{(*)}$Considering $x \\in S$: \n",
    "\n",
    "$P(X_t = k | X_{t-1} = x) = \\frac{1}{6}$ for $k \\in K = \\{x+1, x+2, x+3, x+4, x+5, x+6\\}$ and $0$ otherwise unless:\n",
    "\n",
    "1. A member of $K$, say $i$, is also a member of the _chutes_and_ladder_locations.csv_ start column. If this is the case, once the player lands in $i$, she/he will be forced to go up/down the ladder/chute to the appropriate square, call it $j$. We will model this by letting $P(X_t = i | X_{t-1} = x) = 0$ and $P(X_t = j | X_{t-1} = x) = \\frac{1}{6}$.\n",
    "\n",
    "\n",
    "2. $X_{t-1} = i$  for $i \\in \\{95, 96, 97, 98, 99 \\}$. In this case $P(X_t = 100 | X_{t-1} = i) > \\frac{1}{6}$. For example, the conditional distribution $P(X_t = k | X_{t-1} = 96)$ is:\n",
    "\n",
    "$$P(X_t = k | X_{t-1} = 96) = \\begin{cases} \n",
    "      \\frac{1}{6} & k \\in \\{ 78, 97, 99 \\} \\\\\n",
    "      1-3(\\frac{1}{6}) =\\frac{1}{2} & k = 100 \\\\\n",
    "      0 & \\text{otherwise}\n",
    "\\end{cases}\n",
    "$$\n",
    "\n",
    "Note that $P(X_t = 98 | X_{t-1} = 96) = 0$. There is a chute at square $98$ sliding the player down to square $78$ hence, $P(X_t = 98 | X_{t-1} = 96) = 0$ and $P(X_t = 78 | X_{t-1} = 96) = \\frac{1}{6}$ in the conditional distribution above.\n",
    "\n",
    "All the above is coded below in the function $build$_$P$.\n",
    "\n",
    "$^{(*)}$ As a note, the $101^{\\text{th}}$ row of the transition probability matrix, i.e., $P(X_t = k | X_{t-1} = 100)$ makes no sense in the context of the problem (you win when you reach the square number $100$). However, transition probability matrices are square and each row has to sum to $1$. As a consequence, I am letting the last entry of the $101^{\\text{th}}$ row be equal to $1$. This essentially means that $P(X_t = k | X_{t-1} = 100)=1$ for $k = 100$ and $0$ otherwise. In other words, the player does not move (she/he can keep rolling the dice but will always remain at square number $100$). This does not affect part of our end-goal, which is to get the length of a Chutes and Ladders game (as once $X_t=100$ for some $t$, the game will stop), but makes sure our transition probability matrix is actually a transition probability matrix."
   ]
  },
  {
   "cell_type": "code",
   "execution_count": 13,
   "metadata": {},
   "outputs": [],
   "source": [
    "def build_P(chutes_and_ladder_locations):\n",
    "    \"\"\"Builds the transition probability matrix for the chutes and ladders game\n",
    "    \n",
    "    Args:\n",
    "        chutes_and_ladder_locations: Dataframe containing the info from \n",
    "        the chutes_and_ladder_locations.csv\n",
    "    \n",
    "    Returns:\n",
    "        A numpy array of shape (101, 101)\n",
    "    \n",
    "    \"\"\"\n",
    "    # helper function\n",
    "    def shift(array):\n",
    "        return(np.concatenate((np.array([0]), array[:-1])))\n",
    "    \n",
    "    # creating the transition probability \n",
    "    # matrix, P, assuming no chutes and ladders\n",
    "    pdf = np.zeros(101)\n",
    "    pdf[1:7] = 1/6\n",
    "    P = pdf.copy()\n",
    "    \n",
    "    for _ in range(100):\n",
    "        pdf = shift(pdf)\n",
    "        P = np.concatenate((P, pdf))\n",
    "  \n",
    "    P = P.reshape(101, 101)\n",
    "    \n",
    "    # fixing P for (*) explained above\n",
    "    P[100, 100] = 1\n",
    "    \n",
    "    # fixing P for point 1 explained above\n",
    "    for i, j in zip(chutes_and_ladder_locations.start, chutes_and_ladder_locations.end):\n",
    "        P[:,j] += P[:,i]\n",
    "        P[:,i] = np.zeros(101)\n",
    "    \n",
    "    # fixing P for point 2 explained above\n",
    "    for i in [95, 96, 97, 98, 99]:\n",
    "        P[i, -1] = 1 - np.sum(P[i, :-1])\n",
    "    \n",
    "    return(P)"
   ]
  },
  {
   "cell_type": "code",
   "execution_count": 14,
   "metadata": {},
   "outputs": [
    {
     "data": {
      "text/html": [
       "<div>\n",
       "<style scoped>\n",
       "    .dataframe tbody tr th:only-of-type {\n",
       "        vertical-align: middle;\n",
       "    }\n",
       "\n",
       "    .dataframe tbody tr th {\n",
       "        vertical-align: top;\n",
       "    }\n",
       "\n",
       "    .dataframe thead th {\n",
       "        text-align: right;\n",
       "    }\n",
       "</style>\n",
       "<table border=\"1\" class=\"dataframe\">\n",
       "  <thead>\n",
       "    <tr style=\"text-align: right;\">\n",
       "      <th></th>\n",
       "      <th>start</th>\n",
       "      <th>end</th>\n",
       "    </tr>\n",
       "  </thead>\n",
       "  <tbody>\n",
       "    <tr>\n",
       "      <th>0</th>\n",
       "      <td>1</td>\n",
       "      <td>38</td>\n",
       "    </tr>\n",
       "    <tr>\n",
       "      <th>1</th>\n",
       "      <td>4</td>\n",
       "      <td>14</td>\n",
       "    </tr>\n",
       "    <tr>\n",
       "      <th>2</th>\n",
       "      <td>9</td>\n",
       "      <td>31</td>\n",
       "    </tr>\n",
       "    <tr>\n",
       "      <th>3</th>\n",
       "      <td>21</td>\n",
       "      <td>42</td>\n",
       "    </tr>\n",
       "    <tr>\n",
       "      <th>4</th>\n",
       "      <td>28</td>\n",
       "      <td>84</td>\n",
       "    </tr>\n",
       "  </tbody>\n",
       "</table>\n",
       "</div>"
      ],
      "text/plain": [
       "   start  end\n",
       "0      1   38\n",
       "1      4   14\n",
       "2      9   31\n",
       "3     21   42\n",
       "4     28   84"
      ]
     },
     "execution_count": 14,
     "metadata": {},
     "output_type": "execute_result"
    }
   ],
   "source": [
    "import pandas as pd\n",
    "chutes_and_ladder_locations = pd.read_csv('chutes_and_ladder_locations.csv')\n",
    "chutes_and_ladder_locations.head()"
   ]
  },
  {
   "cell_type": "code",
   "execution_count": 15,
   "metadata": {},
   "outputs": [],
   "source": [
    "P = build_P(chutes_and_ladder_locations)"
   ]
  },
  {
   "cell_type": "markdown",
   "metadata": {},
   "source": [
    "Let's look at $P(X_t = k | X_{t-1} = 96)$ since we wrote down the conditional distribution above:"
   ]
  },
  {
   "cell_type": "code",
   "execution_count": 16,
   "metadata": {},
   "outputs": [
    {
     "data": {
      "text/plain": [
       "array([0.        , 0.        , 0.        , 0.        , 0.        ,\n",
       "       0.        , 0.        , 0.        , 0.        , 0.        ,\n",
       "       0.        , 0.        , 0.        , 0.        , 0.        ,\n",
       "       0.        , 0.        , 0.        , 0.        , 0.        ,\n",
       "       0.        , 0.        , 0.        , 0.        , 0.        ,\n",
       "       0.        , 0.        , 0.        , 0.        , 0.        ,\n",
       "       0.        , 0.        , 0.        , 0.        , 0.        ,\n",
       "       0.        , 0.        , 0.        , 0.        , 0.        ,\n",
       "       0.        , 0.        , 0.        , 0.        , 0.        ,\n",
       "       0.        , 0.        , 0.        , 0.        , 0.        ,\n",
       "       0.        , 0.        , 0.        , 0.        , 0.        ,\n",
       "       0.        , 0.        , 0.        , 0.        , 0.        ,\n",
       "       0.        , 0.        , 0.        , 0.        , 0.        ,\n",
       "       0.        , 0.        , 0.        , 0.        , 0.        ,\n",
       "       0.        , 0.        , 0.        , 0.        , 0.        ,\n",
       "       0.        , 0.        , 0.        , 0.16666667, 0.        ,\n",
       "       0.        , 0.        , 0.        , 0.        , 0.        ,\n",
       "       0.        , 0.        , 0.        , 0.        , 0.        ,\n",
       "       0.        , 0.        , 0.        , 0.        , 0.        ,\n",
       "       0.        , 0.        , 0.16666667, 0.        , 0.16666667,\n",
       "       0.5       ])"
      ]
     },
     "execution_count": 16,
     "metadata": {},
     "output_type": "execute_result"
    }
   ],
   "source": [
    "P[96,]"
   ]
  },
  {
   "cell_type": "markdown",
   "metadata": {},
   "source": [
    "Let's also look at $P(X_t = k | X_{t-1} = 0)$:"
   ]
  },
  {
   "cell_type": "code",
   "execution_count": 17,
   "metadata": {},
   "outputs": [
    {
     "data": {
      "text/plain": [
       "array([0.        , 0.        , 0.16666667, 0.16666667, 0.        ,\n",
       "       0.16666667, 0.16666667, 0.        , 0.        , 0.        ,\n",
       "       0.        , 0.        , 0.        , 0.        , 0.16666667,\n",
       "       0.        , 0.        , 0.        , 0.        , 0.        ,\n",
       "       0.        , 0.        , 0.        , 0.        , 0.        ,\n",
       "       0.        , 0.        , 0.        , 0.        , 0.        ,\n",
       "       0.        , 0.        , 0.        , 0.        , 0.        ,\n",
       "       0.        , 0.        , 0.        , 0.16666667, 0.        ,\n",
       "       0.        , 0.        , 0.        , 0.        , 0.        ,\n",
       "       0.        , 0.        , 0.        , 0.        , 0.        ,\n",
       "       0.        , 0.        , 0.        , 0.        , 0.        ,\n",
       "       0.        , 0.        , 0.        , 0.        , 0.        ,\n",
       "       0.        , 0.        , 0.        , 0.        , 0.        ,\n",
       "       0.        , 0.        , 0.        , 0.        , 0.        ,\n",
       "       0.        , 0.        , 0.        , 0.        , 0.        ,\n",
       "       0.        , 0.        , 0.        , 0.        , 0.        ,\n",
       "       0.        , 0.        , 0.        , 0.        , 0.        ,\n",
       "       0.        , 0.        , 0.        , 0.        , 0.        ,\n",
       "       0.        , 0.        , 0.        , 0.        , 0.        ,\n",
       "       0.        , 0.        , 0.        , 0.        , 0.        ,\n",
       "       0.        ])"
      ]
     },
     "execution_count": 17,
     "metadata": {},
     "output_type": "execute_result"
    }
   ],
   "source": [
    "P[0,]"
   ]
  },
  {
   "cell_type": "markdown",
   "metadata": {},
   "source": [
    "The above looks good. Note there is a ladder at square $1$ leading to square $38$, hence $P(X_t = 1 | X_{t-1} = 0)=0$ and $P(X_t = 38 | X_{t-1} = 0)=\\frac{1}{6}$, and a ladder at square $4$ leading to square $14$, hence $P(X_t = 4 | X_{t-1} = 0)=0$ and $P(X_t = 14 | X_{t-1} = 0)=\\frac{1}{6}$."
   ]
  },
  {
   "cell_type": "markdown",
   "metadata": {},
   "source": [
    "We can also check that all rows of P sum to $1$."
   ]
  },
  {
   "cell_type": "code",
   "execution_count": 18,
   "metadata": {},
   "outputs": [
    {
     "data": {
      "text/plain": [
       "array([1., 1., 1., 1., 1., 1., 1., 1., 1., 1., 1., 1., 1., 1., 1., 1., 1.,\n",
       "       1., 1., 1., 1., 1., 1., 1., 1., 1., 1., 1., 1., 1., 1., 1., 1., 1.,\n",
       "       1., 1., 1., 1., 1., 1., 1., 1., 1., 1., 1., 1., 1., 1., 1., 1., 1.,\n",
       "       1., 1., 1., 1., 1., 1., 1., 1., 1., 1., 1., 1., 1., 1., 1., 1., 1.,\n",
       "       1., 1., 1., 1., 1., 1., 1., 1., 1., 1., 1., 1., 1., 1., 1., 1., 1.,\n",
       "       1., 1., 1., 1., 1., 1., 1., 1., 1., 1., 1., 1., 1., 1., 1., 1.])"
      ]
     },
     "execution_count": 18,
     "metadata": {},
     "output_type": "execute_result"
    }
   ],
   "source": [
    "np.sum(P, axis=1)"
   ]
  },
  {
   "cell_type": "code",
   "execution_count": 19,
   "metadata": {},
   "outputs": [],
   "source": [
    "def chutes_and_ladders_game(P, s, return_path=False):\n",
    "    \"\"\"Returns the markov chain and length of the markov chain\n",
    "    for a game of chutes and ladders\n",
    "    \n",
    "    Args:\n",
    "        P: Transition probability matrix\n",
    "        s: Desired state to be reached by markov chain\n",
    "        return_path: flag that indicates if markov chain \n",
    "        path should be returned\n",
    "    \n",
    "    Returns:\n",
    "        length of markov chain if return_path=False\n",
    "        length of markov chain and markov chain path\n",
    "        if return_path=True\n",
    "\n",
    "    \"\"\"\n",
    "    length = len(P)\n",
    "    s0 = choice(np.arange(length), size=1, p=P[0, ]).item()\n",
    "    mc_path = MarkovChain(P, s0, s)\n",
    "    \n",
    "    if return_path == True:\n",
    "        return mc_path, len(mc_path)\n",
    "    return len(mc_path)"
   ]
  },
  {
   "cell_type": "code",
   "execution_count": 20,
   "metadata": {},
   "outputs": [],
   "source": [
    "squares, length = chutes_and_ladders_game(P, 100, True)"
   ]
  },
  {
   "cell_type": "code",
   "execution_count": 21,
   "metadata": {},
   "outputs": [
    {
     "data": {
      "image/png": "[encoded data removed]",
      "text/plain": [
       "<Figure size 576x360 with 1 Axes>"
      ]
     },
     "metadata": {
      "needs_background": "light"
     },
     "output_type": "display_data"
    }
   ],
   "source": [
    "# Let's visualize the squares the player visits throughout the game\n",
    "plt.figure(figsize=(8, 5)) \n",
    "plt.step(np.arange(length), squares) \n",
    "plt.title('Chutes and Ladders Game Simulation') \n",
    "plt.xlabel('Time') \n",
    "plt.ylabel('X(t)')\n",
    "plt.show()"
   ]
  },
  {
   "cell_type": "code",
   "execution_count": 22,
   "metadata": {},
   "outputs": [],
   "source": [
    "n = 10000\n",
    "lengths = [chutes_and_ladders_game(P, 100) for _ in range(n)]"
   ]
  },
  {
   "cell_type": "code",
   "execution_count": 23,
   "metadata": {},
   "outputs": [
    {
     "data": {
      "text/plain": [
       "35.8141"
      ]
     },
     "execution_count": 23,
     "metadata": {},
     "output_type": "execute_result"
    }
   ],
   "source": [
    "np.mean(lengths)"
   ]
  },
  {
   "cell_type": "markdown",
   "metadata": {},
   "source": [
    "Roughly, the average number of die rolls until the player wins is $36$."
   ]
  },
  {
   "cell_type": "markdown",
   "metadata": {},
   "source": [
    "Let $L$ be the length of a Chutes and Ladders game. We want to determine roughly how many games, $n$, to simulate to estimate $E[L]$ to an accuracy of $\\pm 5.$ The distribution of $L$ is unkown.\n",
    "\n",
    "Let $L^{(1)}, L^{(2)}, L^{(3)}, \\ldots, L^{(n)}$ be iid r.v's with distribution equal to $L$. Denote $\\bar{L}$ as the sample mean, i.e., $\\bar{L} = \\frac{1}{n}\\sum_{i=1}^{n}L^{(i)}$ and $\\sigma^2$ as the unknown variance of $L.$\n",
    "\n",
    "We know that $E[\\bar{L}]=E[L]$ and that the standard deviation of $\\bar{L}$ is $\\sigma/\\sqrt{n}.$ We also know that an unbiased estimator for $\\sigma$ is the sample standard deviation, denote it by $\\hat{\\sigma}=\\sqrt{\\frac{1}{n-1}\\sum_{i=1}^{n}(L^{(i)}-\\bar{L})}$."
   ]
  },
  {
   "cell_type": "code",
   "execution_count": 24,
   "metadata": {},
   "outputs": [
    {
     "data": {
      "text/plain": [
       "23.15571549112639"
      ]
     },
     "execution_count": 24,
     "metadata": {},
     "output_type": "execute_result"
    }
   ],
   "source": [
    "# Let's calculate the sample standard deviation\n",
    "sigma_hat = np.sqrt(np.var(lengths, ddof=1))\n",
    "sigma_hat"
   ]
  },
  {
   "cell_type": "markdown",
   "metadata": {},
   "source": [
    "By the CLT we know that $\\frac{\\bar{L}-E[L]}{\\sigma/\\sqrt{n}}$ converges in distribution to a standard normal random variable. \n",
    "And so, for sufficiently large $n$, $\\frac{\\bar{L}-E[L]}{\\hat{\\sigma}/\\sqrt{n}}$ is approximately distributed as a standard normal random variable.\n",
    "\n",
    "We want,\n",
    "\n",
    "$$\\mathbb{P}\\{ -5 \\le \\bar{L}-E[L] \\le 5\\}$$\n",
    "\n",
    "$$=\\mathbb{P}\\{ -5(\\frac{\\sqrt n }{\\hat{\\sigma}}) \\le (\\frac{\\sqrt n}{\\hat{\\sigma}})(\\bar{L}-E[L]) \\le 5(\\frac{\\sqrt n }{\\hat{\\sigma}})\\}$$\n",
    "\n",
    "$$=\\mathbb{P}\\{ -5(\\frac{\\sqrt n }{\\hat{\\sigma}}) \\le  \\frac{\\bar{L}-E[L]}{\\hat{\\sigma}/ \\sqrt n} \\le 5(\\frac{\\sqrt n }{\\hat{\\sigma}})\\}$$\n",
    "\n",
    "If we want, \n",
    "\n",
    "$$\\mathbb{P}\\{ -5(\\frac{\\sqrt n }{\\hat{\\sigma}}) \\le  \\frac{\\bar{L}-E[L]}{\\hat{\\sigma}/ \\sqrt n} \\le 5(\\frac{\\sqrt n }{\\hat{\\sigma}})\\}=0.95$$\n",
    "\n",
    "then \n",
    "\n",
    "$$5(\\frac{\\sqrt n }{\\hat{\\sigma}})=1.96$$\n",
    "\n",
    "$$n = (\\frac{1.96\\hat{\\sigma}}{5})^{2}$$\n",
    "\n",
    "with $\\hat{\\sigma}$ calculated above. "
   ]
  },
  {
   "cell_type": "code",
   "execution_count": 25,
   "metadata": {},
   "outputs": [
    {
     "data": {
      "text/plain": [
       "82.39266373979413"
      ]
     },
     "execution_count": 25,
     "metadata": {},
     "output_type": "execute_result"
    }
   ],
   "source": [
    "(1.96*sigma_hat/5)**2"
   ]
  },
  {
   "cell_type": "markdown",
   "metadata": {},
   "source": [
    "And so, we would need to simulate 83 games to get within $\\pm 5$ of $E[L].$"
   ]
  },
  {
   "cell_type": "markdown",
   "metadata": {},
   "source": [
    "If, we wanted a higher percent confidence, say $99\\%$, then \n",
    "\n",
    "$$\\mathbb{P}\\{ -5(\\frac{\\sqrt n }{\\hat{\\sigma}}) \\le  \\frac{\\bar{L}-E[L]}{\\hat{\\sigma}/ \\sqrt n} \\le 5(\\frac{\\sqrt n }{\\hat{\\sigma}})\\}=0.99$$\n",
    "\n",
    "so that \n",
    "\n",
    "$$5(\\frac{\\sqrt n }{\\hat{\\sigma}}) \\approx 2.57$$\n",
    "\n",
    "$$n \\approx (\\frac{2.57\\hat{\\sigma}}{5})^{2}$$"
   ]
  },
  {
   "cell_type": "code",
   "execution_count": 26,
   "metadata": {
    "scrolled": true
   },
   "outputs": [
    {
     "data": {
      "text/plain": [
       "140.54419102171136"
      ]
     },
     "execution_count": 26,
     "metadata": {},
     "output_type": "execute_result"
    }
   ],
   "source": [
    "(2.56*np.std(lengths)/5)**2"
   ]
  },
  {
   "cell_type": "markdown",
   "metadata": {},
   "source": [
    "And we would need to simulate approx. $141$ games to get within $\\pm 5$ of $E[L].$"
   ]
  }
 ],
 "metadata": {
  "kernelspec": {
   "display_name": "Python 3",
   "language": "python",
   "name": "python3"
  },
  "language_info": {
   "codemirror_mode": {
    "name": "ipython",
    "version": 3
   },
   "file_extension": ".py",
   "mimetype": "text/x-python",
   "name": "python",
   "nbconvert_exporter": "python",
   "pygments_lexer": "ipython3",
   "version": "3.7.3"
  }
 },
 "nbformat": 4,
 "nbformat_minor": 4
}
