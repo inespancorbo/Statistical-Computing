{
 "cells": [
  {
   "cell_type": "markdown",
   "metadata": {},
   "source": [
    "# 2 {-}"
   ]
  },
  {
   "cell_type": "markdown",
   "metadata": {},
   "source": [
    "# c) {-}"
   ]
  },
  {
   "cell_type": "code",
   "execution_count": 1,
   "metadata": {},
   "outputs": [],
   "source": [
    "import numpy as np\n",
    "from numpy.random import exponential\n",
    "import pandas as pd\n",
    "import matplotlib.pyplot as plt"
   ]
  },
  {
   "cell_type": "markdown",
   "metadata": {},
   "source": [
    "$W_i$ for $i > 0$ can be written as:\n",
    "\n",
    "$$W_i = \\max(0, D_{i-1}-A_i)$$\n",
    "$$W_i = \\max(0, \\sum_{k=1}^{i-1}T_k + V_{i-1} + W_{i-1} - \\sum_{k=1}^{i}T_k)$$\n",
    "$$W_i = \\max(0, V_{i-1} + W_{i-1} - T_i)$$\n",
    "\n"
   ]
  },
  {
   "cell_type": "code",
   "execution_count": 2,
   "metadata": {},
   "outputs": [],
   "source": [
    "def WaitingTimes(n, l, m):\n",
    "    \"\"\"Samples the waiting times of the first n customers.\n",
    "\n",
    "    Args:\n",
    "        n: Number of customers.\n",
    "        l: Inter arrival times distribution parameter.\n",
    "        m: Services times distribution parameter.\n",
    "    Returns:\n",
    "        List of length n.\n",
    "        \n",
    "    \"\"\"\n",
    "    \n",
    "    # numpy.random.exponential uses beta=1/lambda as the form of the rate parameter\n",
    "    inter_arrival_times = exponential(scale=1/l, size=n)\n",
    "    service_times = exponential(scale=1/m, size=n)\n",
    "    \n",
    "    waiting_times = [0]\n",
    "    \n",
    "    for i in range(1, n):\n",
    "        waiting_times.append(max(0, service_times[i-1]-inter_arrival_times[i]+waiting_times[i-1])) \n",
    "    \n",
    "    return waiting_times"
   ]
  },
  {
   "cell_type": "code",
   "execution_count": 3,
   "metadata": {},
   "outputs": [
    {
     "data": {
      "text/plain": [
       "[0,\n",
       " 0,\n",
       " 0,\n",
       " 0.29566123078303397,\n",
       " 0,\n",
       " 0,\n",
       " 1.085997103948855,\n",
       " 0.9872421633511141,\n",
       " 0.9759435360988478,\n",
       " 1.5744057305144818]"
      ]
     },
     "execution_count": 3,
     "metadata": {},
     "output_type": "execute_result"
    }
   ],
   "source": [
    "WaitingTimes(10, 1, 1)"
   ]
  },
  {
   "cell_type": "markdown",
   "metadata": {},
   "source": [
    "# d) {-}"
   ]
  },
  {
   "cell_type": "code",
   "execution_count": 4,
   "metadata": {},
   "outputs": [],
   "source": [
    "def plotQueue(t, l, m):\n",
    "    \"\"\"Simulates a queue and plots X(t) up to time t.\n",
    "    \n",
    "    Args:\n",
    "        n: Number of customers.\n",
    "        l: Inter arrival times distribution parameter.\n",
    "        m: Services times distribution parameter.\n",
    "        \n",
    "    \"\"\"\n",
    "    # initializing for first customer\n",
    "    inter_arrivals = [exponential(1/l, 1).item()]\n",
    "    service = [exponential(1/m, 1).item()] \n",
    "    arrivals = [inter_arrivals[-1]]\n",
    "    waiting = [0]\n",
    "    departures = [arrivals[-1] + service[-1]]\n",
    "    \n",
    "    # appending for subsequent customers until \n",
    "    # arrival time > given t \n",
    "    while arrivals[-1] <= t:\n",
    "        inter_arrivals.append(exponential(1/l, 1).item())\n",
    "        service.append(exponential(1/m, 1).item())\n",
    "        arrivals.append(arrivals[-1] + inter_arrivals[-1])\n",
    "        waiting.append(max(0, departures[-1] - arrivals[-1]))\n",
    "        departures.append(arrivals[-1] + service[-1] + waiting[-1])\n",
    "    \n",
    "    df = pd.DataFrame({'time': np.arange(0, t+min(inter_arrivals), min(inter_arrivals))})\n",
    "    df['x_t'] = df['time'].map(lambda t: len(list(filter(lambda x: x <= t, arrivals))) \n",
    "                               - len(list(filter(lambda x: x <= t, departures))))\n",
    "    plt.figure(figsize=(8, 5))\n",
    "    plt.step(df['time'], df['x_t'])\n",
    "    plt.title('Queue Simulation')\n",
    "    plt.xlabel('Time')\n",
    "    plt.ylabel('X(t)')\n",
    "    plt.show()"
   ]
  },
  {
   "cell_type": "code",
   "execution_count": 18,
   "metadata": {
    "scrolled": false
   },
   "outputs": [
    {
     "data": {
      "image/png": "[encoded data removed]",
      "text/plain": [
       "<Figure size 576x360 with 1 Axes>"
      ]
     },
     "metadata": {
      "needs_background": "light"
     },
     "output_type": "display_data"
    }
   ],
   "source": [
    "plotQueue(20, 1, 1)"
   ]
  },
  {
   "cell_type": "markdown",
   "metadata": {},
   "source": [
    "# e) {-}"
   ]
  },
  {
   "cell_type": "markdown",
   "metadata": {},
   "source": [
    "Use Monte Carlo to estimate $\\mathbb{P}[W_2 \\ge 1]$:\n",
    "\n",
    "We can let $H = \\mathbb{I}_{[W_2 \\ge 1]}$ so that $\\mathbb{E}[H] = \\mathbb{P}[W_2 \\ge 1]$. And use Monte Carlo with $N$ simulations to estimate $\\mathbb{E}[H]$ with $\\frac{1}{N}\\sum_{i=1}^{N}\\mathbb{I}_{w_2^{(i)} \\ge 1}$."
   ]
  },
  {
   "cell_type": "code",
   "execution_count": 6,
   "metadata": {},
   "outputs": [
    {
     "data": {
      "text/plain": [
       "0.18143"
      ]
     },
     "execution_count": 6,
     "metadata": {},
     "output_type": "execute_result"
    }
   ],
   "source": [
    "n = 100000\n",
    "waiting_times_2 = [WaitingTimes(2, 1, 1)[-1] for _ in range(n)]\n",
    "estimate = np.mean([w2 >= 1 for w2 in waiting_times_2])\n",
    "estimate "
   ]
  },
  {
   "cell_type": "markdown",
   "metadata": {},
   "source": [
    "The exact value of $\\mathbb{P}[W_2 \\ge 1]$ is $\\frac{\\lambda e^{-\\mu c}}{\\lambda + \\mu}$ for corresponding values $\\lambda, \\mu, c$ (from 2.a)."
   ]
  },
  {
   "cell_type": "code",
   "execution_count": 7,
   "metadata": {},
   "outputs": [],
   "source": [
    "def prob_waiting(l, m, c):\n",
    "    return(l*np.exp(-m*c)/(l+m))"
   ]
  },
  {
   "cell_type": "code",
   "execution_count": 8,
   "metadata": {},
   "outputs": [
    {
     "data": {
      "text/plain": [
       "0.18393972058572117"
      ]
     },
     "execution_count": 8,
     "metadata": {},
     "output_type": "execute_result"
    }
   ],
   "source": [
    "prob_waiting(1, 1, 1)"
   ]
  },
  {
   "cell_type": "code",
   "execution_count": 9,
   "metadata": {},
   "outputs": [
    {
     "name": "stdout",
     "output_type": "stream",
     "text": [
      "The exact value of 0.1839 and our estimate via Monte Carlo of 0.18143 are very close.\n"
     ]
    }
   ],
   "source": [
    "print(f\"The exact value of 0.1839 and our estimate via Monte Carlo of {estimate} are very close.\")"
   ]
  },
  {
   "cell_type": "code",
   "execution_count": 10,
   "metadata": {},
   "outputs": [
    {
     "name": "stderr",
     "output_type": "stream",
     "text": [
      "//anaconda3/lib/python3.7/site-packages/statsmodels/tools/_testing.py:19: FutureWarning: pandas.util.testing is deprecated. Use the functions in the public API at pandas.testing instead.\n",
      "  import pandas.util.testing as tm\n"
     ]
    },
    {
     "data": {
      "image/png": "[encoded data removed]",
      "text/plain": [
       "<Figure size 576x360 with 1 Axes>"
      ]
     },
     "metadata": {
      "needs_background": "light"
     },
     "output_type": "display_data"
    }
   ],
   "source": [
    "# histogram with the sampled waiting times for person 2, since we have them available\n",
    "import seaborn as sns\n",
    "plt.figure(figsize=(8, 5))\n",
    "sns.distplot(waiting_times_2, kde=False)\n",
    "plt.show()"
   ]
  },
  {
   "cell_type": "markdown",
   "metadata": {},
   "source": [
    "Use Monte Carlo to estimate $\\mathbb{P}[W_{100} \\ge 1]$:\n",
    "\n",
    "We can let $H = \\mathbb{I}_{[W_{100} \\ge 1]}$ so that $\\mathbb{E}[H] = \\mathbb{P}[W_{100} \\ge 1]$. And use Monte Carlo with $N$ simulations to estimate $\\mathbb{E}[H]$ with $\\frac{1}{N}\\sum_{i=1}^{N}\\mathbb{I}_{w_{100}^{(i)} \\ge 1}$."
   ]
  },
  {
   "cell_type": "code",
   "execution_count": 11,
   "metadata": {},
   "outputs": [
    {
     "data": {
      "text/plain": [
       "0.88766"
      ]
     },
     "execution_count": 11,
     "metadata": {},
     "output_type": "execute_result"
    }
   ],
   "source": [
    "n = 100000\n",
    "waiting_times_100 = [WaitingTimes(100, 1, 1)[-1] for _ in range(n)]\n",
    "np.mean([w100 >= 1 for w100 in waiting_times_100])"
   ]
  },
  {
   "cell_type": "code",
   "execution_count": 12,
   "metadata": {},
   "outputs": [
    {
     "data": {
      "image/png": "[encoded data removed]",
      "text/plain": [
       "<Figure size 576x360 with 1 Axes>"
      ]
     },
     "metadata": {
      "needs_background": "light"
     },
     "output_type": "display_data"
    }
   ],
   "source": [
    "# histogram with the sampled waiting times for person 100, since we have them available\n",
    "import seaborn as sns\n",
    "plt.figure(figsize=(8, 5))\n",
    "sns.distplot(waiting_times_100, kde=False)\n",
    "plt.show()"
   ]
  },
  {
   "cell_type": "markdown",
   "metadata": {},
   "source": [
    "# 3 {-}"
   ]
  },
  {
   "cell_type": "markdown",
   "metadata": {},
   "source": [
    "# a) {-}"
   ]
  },
  {
   "cell_type": "markdown",
   "metadata": {},
   "source": [
    "Suppose the coordinates of $X$ are independent. <br>\n",
    "Let $i, j$ be indices of the covariance matrix $\\Sigma$ and $i \\neq j$. Since $X_i, X_j$ are independent we have that $E(X_iX_j)=E(X_i)E(X_j)$. <br>\n",
    "So, \n",
    "$$\\Sigma_{ij} = \n",
    "\\text{cov}(X_i, X_j) = E(X_iX_j)-E(X_i)E(X_j)=E(X_i)E(X_j)-E(X_i)E(X_j)=0$$  <br> \n",
    "$\\implies$ $\\Sigma$ is diagonal.\n",
    "\n",
    "Now suppose $\\Sigma = \\text{diag}(\\sigma_1^2, \\sigma_2^2, ..., \\sigma_n^2)$. <br>\n",
    "Then, \n",
    "$$\\det(\\Sigma)=\\prod_{i=1}^{n}\\sigma_i^2$$\n",
    "$$\\Sigma^{-1}=\\text{diag}(\\frac{1}{\\sigma_1^2}, \\frac{1}{\\sigma_2^2}, ..., \\frac{1}{\\sigma_n^2})$$\n",
    "\n",
    "$$f_X(x) = \\frac{1}{(2\\pi)^{\\frac{n}{2}}\\prod_{i=1}^{n}\\sigma_i^2}\\exp \\{-{\\frac{(x-\\mu)^T\\text{diag}(\\frac{1}{\\sigma_1^2}, \\frac{1}{\\sigma_2^2}, ..., \\frac{1}{\\sigma_n^2})(x-\\mu)}{2}}\\}$$\n",
    "\n",
    "$$= \\frac{1}{\\prod_{i=1}^{n}(2\\pi)^{\\frac{1}{2}}\\sigma_i^2}\\exp \\{-\\sum_{i=1}^{n}\\frac{(x_i-\\mu_i)^2}{2\\sigma_i^2}\n",
    "\\}$$\n",
    "\n",
    "$$= \\frac{1}{\\prod_{i=1}^{n}(2\\pi)^{\\frac{1}{2}}\\sigma_i^2}\n",
    "\\prod_{i=1}^{n}\\exp \\{-\\frac{(x_i-\\mu_i)^2}{2\\sigma_i^2}\n",
    "\\}$$\n",
    "\n",
    "$$=\\prod_{i=1}^{n}\\frac{1}{(2\\pi)^{\\frac{1}{2}}\\sigma_i^2}\\exp \\{-\\frac{(x_i-\\mu_i)^2}{2\\sigma_i^2} \\}$$\n",
    "\n",
    "The last equation is simply the product of $n$ Gaussian densities, $X_i \\sim N(\\mu_i, \\sigma_i^2).$ So since we can express the joint distribution as a product of the marginal distributions, i.e.,\n",
    "\n",
    "$$f_{X}(x) = f_{(X_1, X_2, ..., X_n)}(x_1, x_2, ..., x_n) = f_{X_1}(x_1)f_{X_2}(x_2)...f_{X_n}(x_n)$$\n",
    "\n",
    "we have that the coordinates of $X$ are independent. \n",
    "\n"
   ]
  },
  {
   "cell_type": "markdown",
   "metadata": {},
   "source": [
    "# b) {-}"
   ]
  },
  {
   "cell_type": "markdown",
   "metadata": {},
   "source": [
    "Broadly, consider the pdf of a multivariate normal $X \\in \\mathbb{R}^n$ with a diagonal covariance matrix.\n",
    "\n",
    "$$f_X(x) = \\frac{1}{(2\\pi)^{\\frac{n}{2}}\\prod_{i=1}^{n}\\sigma_i^2}\\exp \\{-{\\frac{(x-\\mu)^T\\text{diag}(\\frac{1}{\\sigma_1^2}, \\frac{1}{\\sigma_2^2}, ..., \\frac{1}{\\sigma_n^2})(x-\\mu)}{2}}\\}$$\n",
    "\n",
    "Now let us consider the level set consisting of all points $x_1, x_2, ..., x_n \\in \\mathbb{R}$ for which $f_X(x) = c.$\n",
    "\n",
    "$$c = \\frac{1}{(2\\pi)^{\\frac{n}{2}}\\prod_{i=1}^{n}\\sigma_i^2}\\exp \\{-{\\frac{(x-\\mu)^T\\text{diag}(\\frac{1}{\\sigma_1^2}, \\frac{1}{\\sigma_2^2}, ..., \\frac{1}{\\sigma_n^2})(x-\\mu)}{2}}\\}$$\n",
    "\n",
    "$$2\\log{\\frac{1}{c(2\\pi)^{\\frac{n}{2}}\\prod_{i=1}^{n}\\sigma_i^2}}=(x-\\mu)^T\\text{diag}(\\frac{1}{\\sigma_1^2}, \\frac{1}{\\sigma_2^2}, ..., \\frac{1}{\\sigma_n^2})(x-\\mu)$$\n",
    "\n",
    "The above is the equation of a hyper-ellipse.\n",
    "\n",
    "More specifically, when $n=2$ we have:\n",
    "\n",
    "$$2\\log{\\frac{1}{c(2\\pi)\\sigma_1^2\\sigma_2^2}}=(x-\\mu)^T\\text{diag}(\\frac{1}{\\sigma_1^2}, \\frac{1}{\\sigma_2^2})(x-\\mu)$$\n",
    "\n",
    "$$2\\log{\\frac{1}{c(2\\pi)\\sigma_1^2\\sigma_2^2}}=(\\frac{x_1-\\mu_1}{\\sigma_1})^2+(\\frac{x_2-\\mu_2}{\\sigma_2})^2$$\n",
    "\n",
    "And we have the equation of an ellipse aligned with the coordinate axes and centered at $\\mu$ with major and minor axis length in a $\\sigma_1:\\sigma_2$ ratio. \n",
    "\n",
    "And so, as we let $\\sigma_1 \\to 0$, the length of the $x_1$-axis approaches 0 as well and the level curves approach \"lines\" parallel to the $x_2$-axis. Similarly, as we let $\\sigma_2 \\to 0$, the length of the $x_2$-axis approaches 0 and the level curves approach \"lines\" parallel to the $x_1$-axis.\n",
    "\n",
    "We can test the above with plots."
   ]
  },
  {
   "cell_type": "code",
   "execution_count": 13,
   "metadata": {},
   "outputs": [
    {
     "data": {
      "image/png": "[encoded data removed]",
      "text/plain": [
       "<Figure size 432x288 with 1 Axes>"
      ]
     },
     "metadata": {
      "needs_background": "light"
     },
     "output_type": "display_data"
    }
   ],
   "source": [
    "from scipy.stats import multivariate_normal\n",
    "from matplotlib.pyplot import contourf\n",
    "\n",
    "x, y = np.mgrid[0:4:.01, 1:5:.01]\n",
    "pos = np.dstack((x, y))\n",
    "mean = [2, 3]\n",
    "cov = [[1.0, 0.0], [0.0, 9.0]]\n",
    "rv = multivariate_normal(mean, cov)\n",
    "contourf(x, y, rv.pdf(pos))\n",
    "plt.show()"
   ]
  },
  {
   "cell_type": "code",
   "execution_count": 14,
   "metadata": {},
   "outputs": [
    {
     "data": {
      "image/png": "[encoded data removed]",
      "text/plain": [
       "<Figure size 432x288 with 1 Axes>"
      ]
     },
     "metadata": {
      "needs_background": "light"
     },
     "output_type": "display_data"
    }
   ],
   "source": [
    "cov = [[0.1, 0.0], [0.0, 9.0]]\n",
    "rv = multivariate_normal(mean, cov)\n",
    "contourf(x, y, rv.pdf(pos))\n",
    "plt.show()"
   ]
  },
  {
   "cell_type": "code",
   "execution_count": 15,
   "metadata": {},
   "outputs": [
    {
     "data": {
      "image/png": "[encoded data removed]",
      "text/plain": [
       "<Figure size 432x288 with 1 Axes>"
      ]
     },
     "metadata": {
      "needs_background": "light"
     },
     "output_type": "display_data"
    }
   ],
   "source": [
    "cov = [[0.01, 0.0], [0.0, 9.0]]\n",
    "rv = multivariate_normal(mean, cov)\n",
    "contourf(x, y, rv.pdf(pos))\n",
    "plt.show()"
   ]
  },
  {
   "cell_type": "code",
   "execution_count": 16,
   "metadata": {},
   "outputs": [
    {
     "data": {
      "image/png": "[encoded data removed]",
      "text/plain": [
       "<Figure size 432x288 with 1 Axes>"
      ]
     },
     "metadata": {
      "needs_background": "light"
     },
     "output_type": "display_data"
    }
   ],
   "source": [
    "cov = [[0.0001, 0.0], [0.0, 9.0]]\n",
    "rv = multivariate_normal(mean, cov)\n",
    "contourf(x, y, rv.pdf(pos))\n",
    "plt.show()"
   ]
  },
  {
   "cell_type": "markdown",
   "metadata": {},
   "source": [
    "So, as seen above, the level curves of the pdf are either ellipses or lines. If the level curves are lines, the covariance matrix has an eigenvalue of 0 ($\\Sigma_{11}=0$ if the lines are parallel to the $x_2$-axis, or $\\Sigma_{22}=0$ if the lines are parallel to the $x_1$-axis)."
   ]
  },
  {
   "cell_type": "markdown",
   "metadata": {},
   "source": [
    "# c) {-}"
   ]
  },
  {
   "cell_type": "markdown",
   "metadata": {},
   "source": [
    "Let's consider the moment generating function of $X+Y.$\n",
    "\n",
    "$$\\phi_{X+Y}=\\mathbb{E}[e^{t^T(X+Y)}]$$\n",
    "\n",
    "$$=\\mathbb{E}[e^{t^TX+t^TY}]$$\n",
    "\n",
    "$$=\\mathbb{E}[e^{t^TX}e^{t^TY}]$$\n",
    "\n",
    "$$=\\mathbb{E}[e^{t^TX}]\\mathbb{E}[e^{t^TY}] ~ \\text{because}~ X, Y~ \\text{are independent}$$\n",
    "\n",
    "$$=e^{\\mu^T t +\\frac{1}{2}t^T\\Sigma t}e^{\\mu^{'T} t +\\frac{1}{2}t^T\\Sigma{'} t}$$\n",
    "\n",
    "$$=e^{\\mu^T t +\\frac{1}{2}t^T\\Sigma t + \\mu^{'T} t +\\frac{1}{2}t^T\\Sigma{'} t}$$\n",
    "\n",
    "$$=e^{(\\mu+\\mu^{'})^T t +\\frac{1}{2}t^T(\\Sigma + \\Sigma^{'}) t}$$\n",
    "\n",
    "The above is the moment generating function of a multivariate normal with mean $\\mu + \\mu^{'}$ and covariance $\\Sigma + \\Sigma^{'}$. Since no two distinct distributions can have the same moment generating function it must be that $X+Y \\sim N(\\mu + \\mu^{'}, \\Sigma + \\Sigma^{'}).$ So the mean of $X+Y$ is $\\mu + \\mu^{'}$ and the covariance of $X+Y$ is $\\Sigma + \\Sigma^{'}$."
   ]
  },
  {
   "cell_type": "markdown",
   "metadata": {},
   "source": [
    "Suppose $X \\in \\mathbb{R}^n$ and $M \\in \\mathbb{R}^{n \\times n}, X \\sim N(\\mu, \\Sigma).$ <br>\n",
    "From a theorem seen in class we know $MX$ is a multivariate normal since $M$ is a linear transformation. <br>\n",
    "We need to find the mean and covariance of $MX.$\n",
    "$$\\mathbb{E}[MX]=M\\mathbb{E}[X]=M\\mu.$$\n",
    "\n",
    "$$\\text{cov}(MX, MX)= \\mathbb{E}[(MX-M\\mu)(MX-M\\mu)^T]$$\n",
    "$$=\\mathbb{E}[M(X-\\mu)(M(X-\\mu))^T]$$\n",
    "$$=\\mathbb{E}[M(X-\\mu)((X-\\mu)^TM^T]$$\n",
    "$$=M\\mathbb{E}[(X-\\mu)((X-\\mu)^T]M^T$$\n",
    "$$=M\\Sigma M^T$$"
   ]
  },
  {
   "cell_type": "code",
   "execution_count": null,
   "metadata": {},
   "outputs": [],
   "source": []
  }
 ],
 "metadata": {
  "kernelspec": {
   "display_name": "Python 3",
   "language": "python",
   "name": "python3"
  },
  "language_info": {
   "codemirror_mode": {
    "name": "ipython",
    "version": 3
   },
   "file_extension": ".py",
   "mimetype": "text/x-python",
   "name": "python",
   "nbconvert_exporter": "python",
   "pygments_lexer": "ipython3",
   "version": "3.7.3"
  }
 },
 "nbformat": 4,
 "nbformat_minor": 4
}
