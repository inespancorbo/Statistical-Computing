{
 "cells": [
  {
   "cell_type": "markdown",
   "metadata": {},
   "source": [
    "# 3.b {-}\n",
    "\n",
    "**Attached is the file noisy_bits.csv which contains a $500 \\times 10$ matrix. Each row of the matrix is a sample of $X$. If you look at an image of the matrix (in R use image on the transposed matrix), you will see that there are two patterns, but with some noise added. Use your EM algorithm to fit the mixture model to the data. Does your fit recover the two underlying patterns?**"
   ]
  },
  {
   "cell_type": "code",
   "execution_count": 1,
   "metadata": {},
   "outputs": [],
   "source": [
    "import pandas as pd\n",
    "import numpy as np\n",
    "import matplotlib.pyplot as plt"
   ]
  },
  {
   "cell_type": "code",
   "execution_count": 2,
   "metadata": {},
   "outputs": [
    {
     "data": {
      "text/html": [
       "<div>\n",
       "<style scoped>\n",
       "    .dataframe tbody tr th:only-of-type {\n",
       "        vertical-align: middle;\n",
       "    }\n",
       "\n",
       "    .dataframe tbody tr th {\n",
       "        vertical-align: top;\n",
       "    }\n",
       "\n",
       "    .dataframe thead th {\n",
       "        text-align: right;\n",
       "    }\n",
       "</style>\n",
       "<table border=\"1\" class=\"dataframe\">\n",
       "  <thead>\n",
       "    <tr style=\"text-align: right;\">\n",
       "      <th></th>\n",
       "      <th>V1</th>\n",
       "      <th>V2</th>\n",
       "      <th>V3</th>\n",
       "      <th>V4</th>\n",
       "      <th>V5</th>\n",
       "      <th>V6</th>\n",
       "      <th>V7</th>\n",
       "      <th>V8</th>\n",
       "      <th>V9</th>\n",
       "      <th>V10</th>\n",
       "    </tr>\n",
       "  </thead>\n",
       "  <tbody>\n",
       "    <tr>\n",
       "      <th>0</th>\n",
       "      <td>1</td>\n",
       "      <td>1</td>\n",
       "      <td>1</td>\n",
       "      <td>0</td>\n",
       "      <td>1</td>\n",
       "      <td>0</td>\n",
       "      <td>1</td>\n",
       "      <td>0</td>\n",
       "      <td>0</td>\n",
       "      <td>1</td>\n",
       "    </tr>\n",
       "    <tr>\n",
       "      <th>1</th>\n",
       "      <td>1</td>\n",
       "      <td>0</td>\n",
       "      <td>0</td>\n",
       "      <td>1</td>\n",
       "      <td>1</td>\n",
       "      <td>0</td>\n",
       "      <td>0</td>\n",
       "      <td>1</td>\n",
       "      <td>0</td>\n",
       "      <td>0</td>\n",
       "    </tr>\n",
       "    <tr>\n",
       "      <th>2</th>\n",
       "      <td>1</td>\n",
       "      <td>1</td>\n",
       "      <td>1</td>\n",
       "      <td>1</td>\n",
       "      <td>1</td>\n",
       "      <td>0</td>\n",
       "      <td>0</td>\n",
       "      <td>0</td>\n",
       "      <td>0</td>\n",
       "      <td>0</td>\n",
       "    </tr>\n",
       "    <tr>\n",
       "      <th>3</th>\n",
       "      <td>0</td>\n",
       "      <td>1</td>\n",
       "      <td>1</td>\n",
       "      <td>0</td>\n",
       "      <td>0</td>\n",
       "      <td>0</td>\n",
       "      <td>0</td>\n",
       "      <td>0</td>\n",
       "      <td>0</td>\n",
       "      <td>0</td>\n",
       "    </tr>\n",
       "    <tr>\n",
       "      <th>4</th>\n",
       "      <td>1</td>\n",
       "      <td>0</td>\n",
       "      <td>1</td>\n",
       "      <td>1</td>\n",
       "      <td>1</td>\n",
       "      <td>0</td>\n",
       "      <td>0</td>\n",
       "      <td>0</td>\n",
       "      <td>0</td>\n",
       "      <td>0</td>\n",
       "    </tr>\n",
       "  </tbody>\n",
       "</table>\n",
       "</div>"
      ],
      "text/plain": [
       "   V1  V2  V3  V4  V5  V6  V7  V8  V9  V10\n",
       "0   1   1   1   0   1   0   1   0   0    1\n",
       "1   1   0   0   1   1   0   0   1   0    0\n",
       "2   1   1   1   1   1   0   0   0   0    0\n",
       "3   0   1   1   0   0   0   0   0   0    0\n",
       "4   1   0   1   1   1   0   0   0   0    0"
      ]
     },
     "execution_count": 2,
     "metadata": {},
     "output_type": "execute_result"
    }
   ],
   "source": [
    "data = pd.read_csv(\"noisy_bits.csv\")\n",
    "data.head()"
   ]
  },
  {
   "cell_type": "code",
   "execution_count": 3,
   "metadata": {},
   "outputs": [
    {
     "data": {
      "text/plain": [
       "(500, 10)"
      ]
     },
     "execution_count": 3,
     "metadata": {},
     "output_type": "execute_result"
    }
   ],
   "source": [
    "X = data.to_numpy()\n",
    "X.shape"
   ]
  },
  {
   "cell_type": "code",
   "execution_count": 4,
   "metadata": {
    "scrolled": true
   },
   "outputs": [
    {
     "data": {
      "image/png": "[encoded data removed]",
      "text/plain": [
       "<Figure size 720x720 with 1 Axes>"
      ]
     },
     "metadata": {
      "needs_background": "light"
     },
     "output_type": "display_data"
    }
   ],
   "source": [
    "plt.figure(figsize=(10,10))\n",
    "plt.imshow(X.T)\n",
    "plt.show()"
   ]
  },
  {
   "cell_type": "code",
   "execution_count": 5,
   "metadata": {},
   "outputs": [],
   "source": [
    "N, n = X.shape[0], X.shape[1]"
   ]
  },
  {
   "cell_type": "markdown",
   "metadata": {},
   "source": [
    "Let's create a function that gives us $P(Z^{(i)}_1=1|\\theta')$ for any given $\\theta'.$"
   ]
  },
  {
   "cell_type": "code",
   "execution_count": 6,
   "metadata": {},
   "outputs": [],
   "source": [
    "def p(mu1, mu2, p1):\n",
    "    num = p1*np.prod(mu1**X*(1-mu1)**(1-X), axis=1)\n",
    "    den = num + (1-p1)*np.prod(mu2**X*(1-mu2)**(1-X), axis=1)\n",
    "    return num/den"
   ]
  },
  {
   "cell_type": "code",
   "execution_count": 7,
   "metadata": {},
   "outputs": [],
   "source": [
    "def logl(mu1, mu2, p1):\n",
    "    probs = p(mu1, mu2, p1)\n",
    "    a = probs.dot(X.dot(np.log(mu1))+(1-X).dot(np.log(1-mu1))+np.log(p1))\n",
    "    b = (1-probs).dot(X.dot(np.log(mu2))+(1-X).dot(np.log(1-mu2))+np.log(1-p1))\n",
    "    return a+b\n",
    "    "
   ]
  },
  {
   "cell_type": "code",
   "execution_count": 8,
   "metadata": {},
   "outputs": [],
   "source": [
    "def EM(mu1, mu2, p1):\n",
    "    \"\"\"EM algorithm\n",
    "    \n",
    "    Args:\n",
    "        mu1: vector of size (10,)\n",
    "        mu2: vector of size (10,) \n",
    "        p1: scalar\n",
    "        \n",
    "    Returns:\n",
    "        A list with the following elements:\n",
    "            mu1: vector of size (10,)\n",
    "            mu2: vector of size (10,) \n",
    "            p1: scalar\n",
    "            \n",
    "        \n",
    "    \"\"\"\n",
    "    probs = p(mu1, mu2, p1)\n",
    "    mu1 = probs.dot(X)/sum(probs)\n",
    "    mu2 = (1-probs).dot(X)/sum(1-probs)\n",
    "    p1 = sum(probs)/N\n",
    "    \n",
    "    return [mu1, mu2, p1]\n",
    "    \n",
    "    \n",
    "def EM_function(theta, eps=10**-4):\n",
    "    \"\"\"Function that runs the EM algorithm\n",
    "    \n",
    "    Args:\n",
    "        theta: A list with the following elements:\n",
    "            mu1: vector of size (10,)\n",
    "            mu2: vector of size (10,) \n",
    "            p1: scalar\n",
    "        \n",
    "    Returns:\n",
    "            1. theta: A list with the following elements\n",
    "                mu1: vector of size (10,)\n",
    "                mu2: vector of size (10,) \n",
    "                p1: scalar\n",
    "            2. logs: a list with the log likelihood value of each iteration i\n",
    "    \n",
    "    \"\"\"\n",
    "    \n",
    "    l = np.Inf\n",
    "    logs = []\n",
    "    while(abs(l - logl(*EM(*theta))) > eps):\n",
    "        theta = EM(*theta) \n",
    "        l = logl(*theta)\n",
    "        logs.append(l)\n",
    "    return theta, logs"
   ]
  },
  {
   "cell_type": "code",
   "execution_count": 9,
   "metadata": {},
   "outputs": [],
   "source": [
    "# Use KMeans to initialize the parameter vector theta\n",
    "from sklearn.cluster import KMeans\n",
    "\n",
    "model = KMeans(n_clusters=2)\n",
    "model.fit(X)\n",
    "centers = model.cluster_centers_\n",
    "\n",
    "theta_start = [centers[0], centers[1], 0.2]"
   ]
  },
  {
   "cell_type": "code",
   "execution_count": 10,
   "metadata": {},
   "outputs": [],
   "source": [
    "theta, logs = EM_function(theta_start)"
   ]
  },
  {
   "cell_type": "code",
   "execution_count": 11,
   "metadata": {},
   "outputs": [
    {
     "data": {
      "image/png": "[encoded data removed]",
      "text/plain": [
       "<Figure size 432x288 with 1 Axes>"
      ]
     },
     "metadata": {
      "needs_background": "light"
     },
     "output_type": "display_data"
    }
   ],
   "source": [
    "plt.plot(logs)\n",
    "plt.xlabel(\"Iterations\")\n",
    "plt.ylabel(\"Log Likelihood\")\n",
    "plt.show()"
   ]
  },
  {
   "cell_type": "markdown",
   "metadata": {},
   "source": [
    "$\\mu_1:$"
   ]
  },
  {
   "cell_type": "code",
   "execution_count": 12,
   "metadata": {
    "scrolled": true
   },
   "outputs": [
    {
     "data": {
      "text/plain": [
       "array([0.80896481, 0.78512506, 0.78081163, 0.76835602, 0.77582801,\n",
       "       0.2793406 , 0.20532695, 0.20609471, 0.20782407, 0.18556576])"
      ]
     },
     "execution_count": 12,
     "metadata": {},
     "output_type": "execute_result"
    }
   ],
   "source": [
    "theta[0]"
   ]
  },
  {
   "cell_type": "markdown",
   "metadata": {},
   "source": [
    "$\\mu_2$"
   ]
  },
  {
   "cell_type": "code",
   "execution_count": 13,
   "metadata": {},
   "outputs": [
    {
     "data": {
      "text/plain": [
       "array([0.22500748, 0.22105249, 0.21737246, 0.16137866, 0.23862691,\n",
       "       0.8141801 , 0.79273639, 0.81216121, 0.75381171, 0.79270119])"
      ]
     },
     "execution_count": 13,
     "metadata": {},
     "output_type": "execute_result"
    }
   ],
   "source": [
    "theta[1]"
   ]
  },
  {
   "cell_type": "markdown",
   "metadata": {},
   "source": [
    "$p_1:$"
   ]
  },
  {
   "cell_type": "code",
   "execution_count": 14,
   "metadata": {},
   "outputs": [
    {
     "data": {
      "text/plain": [
       "0.5051610828757628"
      ]
     },
     "execution_count": 14,
     "metadata": {},
     "output_type": "execute_result"
    }
   ],
   "source": [
    "theta[2]"
   ]
  },
  {
   "cell_type": "markdown",
   "metadata": {},
   "source": [
    "Yes, the trend has been uncovered. From make_noisy_bits.R we can see that the first half of the datapoints ($250$ datapoints) were created as $<1,1,1,1,1,0,0,0,0,0>$ with $80\\%$ probability and $<0,0,0,0,0,1,1,1,1,1>$ otherwise. Note how $\\mu_1$ has approx. $0.8$ as the expected mean for the first five coordinates and approx. $0.2$ for the last five.\n",
    "\n",
    "Similarly, the second half ($250$ datapoints) were created as $<0,0,0,0,0,1,1,1,1,1>$ with $80\\%$ probability and $<1,1,1,1,1,0,0,0,0,0>$ otherwise. Note how $\\mu_2$ has approx. $0.2$ as the expected mean for the first five coordinates and approx. $0.8$ for the last five.\n",
    "\n",
    "Finally, note how $p_1$ is approx. $0.5$ -- agreeing with the $50$/$50$ split."
   ]
  },
  {
   "cell_type": "code",
   "execution_count": null,
   "metadata": {},
   "outputs": [],
   "source": []
  }
 ],
 "metadata": {
  "kernelspec": {
   "display_name": "Python 3",
   "language": "python",
   "name": "python3"
  },
  "language_info": {
   "codemirror_mode": {
    "name": "ipython",
    "version": 3
   },
   "file_extension": ".py",
   "mimetype": "text/x-python",
   "name": "python",
   "nbconvert_exporter": "python",
   "pygments_lexer": "ipython3",
   "version": "3.7.3"
  }
 },
 "nbformat": 4,
 "nbformat_minor": 4
}
