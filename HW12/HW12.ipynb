{
 "cells": [
  {
   "cell_type": "markdown",
   "metadata": {},
   "source": [
    "# 1 {-}\n",
    "\n",
    "**The file HW12_problem1.txt contains $50$ iid samples, $\\hat{X}^1,\\hat{X}^2,...,\\hat{X}^{50}$, from a one-dimensional random variable $X$. Assume that $X \\sim N (\\mu, \\sigma^2)$ where $\\sigma^2$ is known with $\\sigma^2 = 1$. Our goal is to estimate $\\mu$. Let $\\bar{x}$ be the sample mean and $N = 50$.**"
   ]
  },
  {
   "cell_type": "markdown",
   "metadata": {},
   "source": [
    "# a {-}\n",
    "\n",
    "**Show that the maximum likelihood estimate (MLE) of $\\mu$ is given by the sample mean $\\bar{x}$.**"
   ]
  },
  {
   "cell_type": "markdown",
   "metadata": {},
   "source": [
    "Let's find the log likelihood.\n",
    "\n",
    "$$l(\\mu)$$\n",
    "\n",
    "$$=\\log\\prod_{i=1}^{50}\\frac{1}{\\sqrt{2\\pi}}e^{-(\\hat{X^{(i)}}-\\mu)^2/2}$$\n",
    "\n",
    "$$=\\sum_{i=1}^{50}\\log \\frac{1}{\\sqrt{2\\pi}}e^{-(\\hat{X^{(i)}}-\\mu)^2/2}$$\n",
    "\n",
    "$$=-\\sum_{i=1}^{50}\\frac{(\\hat{X^{(i)}}-\\mu)^2}{2}-\\sum_{i=1}^{50}\\log \\sqrt{2\\pi}$$\n",
    "\n",
    "Now, setting the derivative to $0$:\n",
    "\n",
    "$$\\frac{d l(\\mu)}{d\\mu}=\\sum_{i=1}^{50}(\\hat{X^{(i)}}-\\mu)=0$$\n",
    "\n",
    "$$\\implies \\sum_{i=1}^{50}\\hat{X^{(i)}}=50\\mu$$\n",
    "\n",
    "$$\\implies  \\mu=\\sum_{i=1}^{50}\\frac{\\hat{X^{(i)}}}{50}=\\bar{x}$$.\n",
    "\n",
    "Clearly, $\\bar{x}$ maximizes $l(\\mu)$."
   ]
  },
  {
   "cell_type": "markdown",
   "metadata": {},
   "source": [
    " # b {-}\n",
    " \n",
    "**Taking a Bayesian approach, assume a normal prior on $, \\mu \\sim N(0,\\beta^2)$ with $\\beta = 10.$ Let $f(\\mu)$ be the pdf of the prior. Let $p(\\mu)$ be the posterior. Show,**\n",
    "\n",
    "$$p(\\mu)=\\frac{1}{Z}P(\\hat{X}^1,\\hat{X}^2,...,\\hat{X}^{50}|\\mu)f(\\mu)$$\n",
    "\n",
    "**where**\n",
    "\n",
    "$$Z=\\int_{-\\infty}^{\\infty}P(\\hat{X}^1,\\hat{X}^2,...,\\hat{X}^{50}|\\mu)f(\\mu)d\\mu$$\n",
    "\n",
    "**Then show,**\n",
    "\n",
    "$$p(\\mu) \\sim N(\\frac{\\bar{x}}{1+\\frac{\\sigma^2}{\\beta^2N}}, \\frac{\\sigma^2\\beta^2}{N\\beta^2+\\sigma^2})$$\n",
    "\n",
    "**Graph $p(\\mu)$ using the data. Hint: use completing the squares to combine a product of exponentials into a single exponential. (Here you’re showing that for random mean and fixed variance, the normal distribution is a conjugate prior to itself)**\n"
   ]
  },
  {
   "cell_type": "markdown",
   "metadata": {},
   "source": [
    "The posterior is,\n",
    "\n",
    "$$p(\\mu|\\text{data})$$\n",
    "\n",
    "$$=p(\\mu|\\hat{X}^1,\\hat{X}^2,...,\\hat{X}^{50})$$\n",
    "\n",
    "$$=\\frac{p(\\mu,\\hat{X}^1,\\hat{X}^2,...,\\hat{X}^{50})}{p(\\hat{X}^1,\\hat{X}^2,...,\\hat{X}^{50})}$$\n",
    "\n",
    "$$=\\frac{p(\\hat{X}^1,\\hat{X}^2,...,\\hat{X}^{50}|\\mu)f(\\mu)}{p(\\hat{X}^1,\\hat{X}^2,...,\\hat{X}^{50})}~\\text{by Bayes}$$\n",
    "\n",
    "$$=\\frac{p(\\hat{X}^1,\\hat{X}^2,...,\\hat{X}^{50}|\\mu)f(\\mu)}{Z}$$\n",
    "\n",
    "by letting $Z=p(\\hat{X}^1,\\hat{X}^2,...,\\hat{X}^{50}).$"
   ]
  },
  {
   "cell_type": "markdown",
   "metadata": {},
   "source": [
    "Now note that the data is given and so fixed in the density $p(\\mu,\\hat{X}^1,\\hat{X}^2,...,\\hat{X}^{50})$.\n",
    "\n",
    "Since $p(\\mu,\\hat{X}^1,\\hat{X}^2,...,\\hat{X}^{50})$ is a density,\n",
    "\n",
    "$$\\int_{-\\infty}^{\\infty}p(\\mu,\\hat{X}^1,\\hat{X}^2,...,\\hat{X}^{50})d\\mu=1$$\n",
    "\n",
    "$$\\implies \\int_{-\\infty}^{\\infty}p(\\hat{X}^1,\\hat{X}^2,...,\\hat{X}^{50}|\\mu)f(\\mu)d\\mu=1$$\n",
    "\n",
    "And so,\n",
    "\n",
    "$$\\int_{-\\infty}^{\\infty}\\frac{p(\\hat{X}^1,\\hat{X}^2,...,\\hat{X}^{50}|\\mu)f(\\mu)}{Z}=1$$\n",
    "\n",
    "$$\\implies Z=\\int_{-\\infty}^{\\infty}p(\\hat{X}^1,\\hat{X}^2,...,\\hat{X}^{50}|\\mu)f(\\mu).$$"
   ]
  },
  {
   "cell_type": "markdown",
   "metadata": {},
   "source": [
    "Now, let us show that,\n",
    "\n",
    "$$p(\\mu) \\sim N(\\frac{\\bar{x}}{1+\\frac{\\sigma^2}{\\beta^2N}}, \\frac{\\sigma^2\\beta^2}{N\\beta^2+\\sigma^2})$$"
   ]
  },
  {
   "cell_type": "markdown",
   "metadata": {},
   "source": [
    "$$p(\\mu|\\hat{X}^1,\\hat{X}^2,...,\\hat{X}^{50})$$\n",
    "\n",
    "$$=\\frac{1}{Z}\\prod_{i=1}^{50}\\frac{1}{\\sqrt{2\\pi\\sigma^2}}e^{-(\\hat{X^{(i)}}-\\mu)^2/2\\sigma^2}\\frac{1}{\\sqrt{2\\pi\\beta^2}}e^{-(\\mu)^2/2\\beta^2}$$\n",
    "\n",
    "$$=\\frac{1}{Z}\\frac{1}{\\sqrt{2\\pi\\sigma^2}}\\frac{1}{\\sqrt{2\\pi\\beta^2}}\\prod_{i=1}^{50}e^{-(\\hat{X^{(i)}}-\\mu)^2/2\\sigma^2}e^{-\\mu^2/2\\beta^2}$$\n",
    "\n",
    "$$=C_1e^{-\\frac{1}{2}(\\sum_{i=1}^{50}(\\hat{X^{(i)}}-\\mu)^2/\\sigma^2+\\mu^2/\\beta^2)}$$\n",
    "\n",
    "where $C_1$ is a constant that consists of all terms not dependent on $\\mu$."
   ]
  },
  {
   "cell_type": "markdown",
   "metadata": {},
   "source": [
    "Looking at the exponent of the exponential:\n",
    "\n",
    "$$\\sum_{i=1}^{50}(\\frac{\\mu^2-2\\mu \\hat{X^{(i)}}}{\\sigma^2})+\\frac{\\mu^2}{\\beta^2}$$\n",
    "\n",
    "$$=\\frac{N\\mu^2}{\\sigma^2}-\\frac{2\\mu \\sum_{i=1}^{50}\\hat{X^{(i)}}}{\\sigma^2}+\\frac{\\mu^2}{\\beta^2}$$\n",
    "\n",
    "$$=\\mu^2(\\frac{N}{\\sigma^2}+\\frac{1}{\\beta^2})-\\frac{2\\mu \\sum_{i=1}^{50}\\hat{X^{(i)}}}{\\sigma^2}$$\n",
    "\n",
    "$$=(\\frac{N}{\\sigma^2}+\\frac{1}{\\beta^2})(\\mu-\\frac{\\sum_{i=1}^{50}\\hat{X^{(i)}}}{\\sigma^2(\\frac{N}{\\sigma^2}+\\frac{1}{\\beta^2})})^2+C_2$$\n"
   ]
  },
  {
   "cell_type": "markdown",
   "metadata": {},
   "source": [
    "$$=\\frac{N\\beta^2+\\sigma^2}{\\sigma^2\\beta^2}(\\mu-\\frac{\\sum_{i=1}^{50}\\hat{X^{(i)}}}{N+\\frac{\\sigma^2}{\\beta^2}})^2+C_2$$\n",
    "\n",
    "$$=\\frac{N\\beta^2+\\sigma^2}{\\sigma^2\\beta^2}(\\mu-\\frac{\\bar{x}}{1+\\frac{\\sigma^2}{N\\beta^2}})^2+C_2$$\n",
    "\n",
    "And so we have,\n",
    "\n",
    "$$p(\\mu|\\hat{X}^1,\\hat{X}^2,...,\\hat{X}^{50})$$\n",
    "\n",
    "\n",
    "$$=C_3e^{-\\frac{1}{2}\\frac{N\\beta^2+\\sigma^2}{\\sigma^2\\beta^2}(\\mu-\\frac{\\bar{x}}{1+\\frac{\\sigma^2}{N\\beta^2}})^2}$$"
   ]
  },
  {
   "cell_type": "markdown",
   "metadata": {},
   "source": [
    "where $C_3$ is the normalizing constant.\n",
    "\n",
    "And thus, we see that\n",
    "\n",
    "$$p(\\mu) \\sim N(\\frac{\\bar{x}}{1+\\frac{\\sigma^2}{\\beta^2N}}, \\frac{\\sigma^2\\beta^2}{N\\beta^2+\\sigma^2})$$"
   ]
  },
  {
   "cell_type": "markdown",
   "metadata": {},
   "source": [
    "Let's now graph $p(\\mu)$ using the data:"
   ]
  },
  {
   "cell_type": "code",
   "execution_count": 1,
   "metadata": {},
   "outputs": [
    {
     "data": {
      "text/html": [
       "<div>\n",
       "<style scoped>\n",
       "    .dataframe tbody tr th:only-of-type {\n",
       "        vertical-align: middle;\n",
       "    }\n",
       "\n",
       "    .dataframe tbody tr th {\n",
       "        vertical-align: top;\n",
       "    }\n",
       "\n",
       "    .dataframe thead th {\n",
       "        text-align: right;\n",
       "    }\n",
       "</style>\n",
       "<table border=\"1\" class=\"dataframe\">\n",
       "  <thead>\n",
       "    <tr style=\"text-align: right;\">\n",
       "      <th></th>\n",
       "      <th>x</th>\n",
       "    </tr>\n",
       "  </thead>\n",
       "  <tbody>\n",
       "    <tr>\n",
       "      <th>0</th>\n",
       "      <td>7.660422</td>\n",
       "    </tr>\n",
       "    <tr>\n",
       "      <th>1</th>\n",
       "      <td>7.248643</td>\n",
       "    </tr>\n",
       "    <tr>\n",
       "      <th>2</th>\n",
       "      <td>6.567069</td>\n",
       "    </tr>\n",
       "    <tr>\n",
       "      <th>3</th>\n",
       "      <td>7.346286</td>\n",
       "    </tr>\n",
       "    <tr>\n",
       "      <th>4</th>\n",
       "      <td>7.692123</td>\n",
       "    </tr>\n",
       "  </tbody>\n",
       "</table>\n",
       "</div>"
      ],
      "text/plain": [
       "          x\n",
       "0  7.660422\n",
       "1  7.248643\n",
       "2  6.567069\n",
       "3  7.346286\n",
       "4  7.692123"
      ]
     },
     "execution_count": 1,
     "metadata": {},
     "output_type": "execute_result"
    }
   ],
   "source": [
    "import pandas as pd\n",
    "data = pd.read_csv(\"HW12_problem1.txt\")\n",
    "data.head()"
   ]
  },
  {
   "cell_type": "code",
   "execution_count": 2,
   "metadata": {},
   "outputs": [],
   "source": [
    "xbar = data.mean().item()\n",
    "beta = 10\n",
    "sigma = 1\n",
    "N = len(data)\n",
    "\n",
    "posterior_mean = xbar/(1+sigma**2/(beta**2*N))\n",
    "posterior_variance = sigma**2*beta**2/(N*beta**2+sigma**2)"
   ]
  },
  {
   "cell_type": "code",
   "execution_count": 3,
   "metadata": {},
   "outputs": [
    {
     "data": {
      "text/plain": [
       "(7.497187157809715, 7.495688020205674, 0.01999600079984003)"
      ]
     },
     "execution_count": 3,
     "metadata": {},
     "output_type": "execute_result"
    }
   ],
   "source": [
    "xbar, posterior_mean, posterior_variance"
   ]
  },
  {
   "cell_type": "code",
   "execution_count": 4,
   "metadata": {},
   "outputs": [
    {
     "data": {
      "image/png": "[encoded data removed]",
      "text/plain": [
       "<Figure size 432x288 with 1 Axes>"
      ]
     },
     "metadata": {
      "needs_background": "light"
     },
     "output_type": "display_data"
    },
    {
     "data": {
      "image/png": "[encoded data removed]",
      "text/plain": [
       "<Figure size 432x288 with 1 Axes>"
      ]
     },
     "metadata": {
      "needs_background": "light"
     },
     "output_type": "display_data"
    }
   ],
   "source": [
    "import matplotlib.pyplot as plt\n",
    "import scipy.stats\n",
    "import numpy as np\n",
    "\n",
    "x = np.linspace(4.0, 11.0, num=1000)\n",
    "y = scipy.stats.norm.pdf(x, posterior_mean, np.sqrt(posterior_variance))\n",
    "\n",
    "plt.plot(x, y, color=\"coral\")\n",
    "plt.title('Distribution of posterior mean')\n",
    "plt.show()\n",
    "\n",
    "# let's compare to the distribution of prior mean\n",
    "# (so not taking into account the data)\n",
    "x = np.linspace(-50.0, 50.0, num=1000)\n",
    "y = scipy.stats.norm.pdf(x, 0, 10)\n",
    "\n",
    "plt.plot(x, y, color=\"coral\")\n",
    "plt.title('Distribution of prior mean')\n",
    "plt.show()"
   ]
  },
  {
   "cell_type": "markdown",
   "metadata": {},
   "source": [
    "# c {-}\n",
    "\n",
    "\n",
    "**Again take a Bayesian approach, but this time assume a prior $f(\\mu)$,**\n",
    "\n",
    "\n",
    "$$ f(\\mu)=\\begin{cases} \n",
    "      \\frac{1}{10} & \\text{if}~\\mu \\in [5,7] \\\\\n",
    "      4 & \\text{if}~\\mu \\in [9,9.2] \\\\\n",
    "      0 & \\text{otherwise}\n",
    "   \\end{cases}\n",
    "$$\n",
    "\n",
    "**In this case the posterior $p(\\mu)$ is not normally distributed. Graph $p(\\mu)$ and compare to the graph in (b). (Hint: you can compute $Z$ using a numerical integration function. In R, integrate).**"
   ]
  },
  {
   "cell_type": "markdown",
   "metadata": {},
   "source": [
    "Now, similar derivation to above, we have that\n",
    "\n",
    "$$ p(\\mu|\\hat{X}^1,\\hat{X}^2,...,\\hat{X}^{50})=\\begin{cases} \n",
    "      \\frac{1}{10}\\frac{1}{Z}\\prod_{i=1}^{50}\\frac{1}{\\sqrt{2\\pi\\sigma^2}}e^{-(\\hat{X^{(i)}}-\\mu)^2/2\\sigma^2} & \\text{if}~\\mu \\in [5,7] \\\\\n",
    "      4\\frac{1}{Z}\\prod_{i=1}^{50}\\frac{1}{\\sqrt{2\\pi\\sigma^2}}e^{-(\\hat{X^{(i)}}-\\mu)^2/2\\sigma^2} & \\text{if}~\\mu \\in [9,9.2] \\\\\n",
    "      0 & \\text{otherwise}\n",
    "   \\end{cases}\n",
    "$$\n",
    "\n",
    "$$ p(\\mu|\\hat{X}^1,\\hat{X}^2,...,\\hat{X}^{50})=\\begin{cases} \n",
    "      C_1 e^{-\\sum_{i=1}^{50}\\frac{1}{2}(\\mu^2-2\\mu \\hat{X^{(i)}} )/\\sigma^2} & \\text{if}~\\mu \\in [5,7] \\\\\n",
    "      C_2 e^{-\\sum_{i=1}^{50}\\frac{1}{2}(\\mu^2-2\\mu \\hat{X^{(i)}} )/\\sigma^2} & \\text{if}~\\mu \\in [9,9.2] \\\\\n",
    "      0 & \\text{otherwise}\n",
    "   \\end{cases}\n",
    "$$\n",
    "\n",
    "with $C_1, C_2$ being constants, englobing all terms not depending on the parameter.\n",
    "\n",
    "Now, in terms of the exponent in the exponential:\n",
    "\n",
    "$$\\sum_{i=1}^{50}(\\mu^2-2\\mu \\hat{X^{(i)}} )/\\sigma^2$$\n",
    "\n",
    "$$=\\frac{N\\mu^2-2\\mu\\sum_{i=1}^{50}\\hat{X^{(i)}}}{\\sigma^2}$$\n",
    "\n",
    "$$=\\frac{\\mu^2-2\\mu\\bar{x}}{\\sigma^2/N}$$\n",
    "\n",
    "$$=\\frac{(\\mu-\\bar{x})^2}{\\sigma^2/N} + C$$\n",
    "\n",
    "where $C$ is a constant englobing the terms from completing the square not dependent on $\\mu.$\n",
    "\n",
    "And so,\n",
    "\n",
    "\n",
    "$$ p(\\mu|\\hat{X}^1,\\hat{X}^2,...,\\hat{X}^{50})=\\begin{cases} \n",
    "      C_3 e^{-N(\\mu-\\bar{x})/2\\sigma^2} & \\text{if}~\\mu \\in [5,7] \\\\\n",
    "      C_4 e^{-N(\\mu-\\bar{x} )/2\\sigma^2} & \\text{if}~\\mu \\in [9,9.2] \\\\\n",
    "      0 & \\text{otherwise}\n",
    "   \\end{cases}\n",
    "$$\n",
    "\n",
    "with $C_3, C_4$ being constants, englobing all terms not depending on the parameter\n",
    "\n",
    "$$ p(\\mu|\\hat{X}^1,\\hat{X}^2,...,\\hat{X}^{50})=\\begin{cases} \n",
    "      C_5 e^{-N(\\mu-\\bar{x})/2\\sigma^2} & \\text{if}~\\mu \\in [5,7] \\cup [9,9.2] \\\\\n",
    "      0 & \\text{otherwise}\n",
    "   \\end{cases}\n",
    "$$\n",
    "\n",
    "with $C_5=C_3+C_4$ being a constant."
   ]
  },
  {
   "cell_type": "markdown",
   "metadata": {},
   "source": [
    "Now $C_5$ must be the normalizing constant such that,\n",
    "\n",
    "$$\\int_{5}^{7}C_5 e^{-N(\\mu-\\bar{x})/2\\sigma^2}d\\mu+\\int_{9}^{9.2}C_5 e^{-N(\\mu-\\bar{x})/2\\sigma^2}d\\mu=1$$\n",
    "\n",
    "$$\\implies \\int_{5}^{7} e^{-N(\\mu-\\bar{x})/2\\sigma^2}d\\mu+\\int_{9}^{9.2} e^{-N(\\mu-\\bar{x})/2\\sigma^2}d\\mu=\\frac{1}{C_5}$$"
   ]
  },
  {
   "cell_type": "code",
   "execution_count": 5,
   "metadata": {},
   "outputs": [],
   "source": [
    "def integrand(mu):\n",
    "    return np.exp(-(N*(mu-xbar)**2)/(2*sigma**2))"
   ]
  },
  {
   "cell_type": "code",
   "execution_count": 6,
   "metadata": {},
   "outputs": [],
   "source": [
    "int_value = scipy.integrate.quad(integrand, 5, 7)[0] + scipy.integrate.quad(integrand, 9, 9.2)[0]"
   ]
  },
  {
   "cell_type": "code",
   "execution_count": 7,
   "metadata": {},
   "outputs": [
    {
     "data": {
      "text/plain": [
       "12860.82136321073"
      ]
     },
     "execution_count": 7,
     "metadata": {},
     "output_type": "execute_result"
    }
   ],
   "source": [
    "c5 = 1/int_value\n",
    "c5"
   ]
  },
  {
   "cell_type": "code",
   "execution_count": 8,
   "metadata": {},
   "outputs": [],
   "source": [
    "def posterior_density(mu):\n",
    "    probs = mu.copy()\n",
    "    probs[(mu < 5) | (mu > 9.2) | ((mu > 7) & (mu < 9))] = 0\n",
    "    p = c5*integrand(mu[((mu >= 5) & (mu <= 7)) | ((mu >= 9) & (mu <= 9.2))])\n",
    "    probs[((mu >= 5) & (mu <= 7)) | ((mu >= 9) & (mu <= 9.2))] = p\n",
    "    return probs"
   ]
  },
  {
   "cell_type": "code",
   "execution_count": 9,
   "metadata": {},
   "outputs": [],
   "source": [
    "mu = np.linspace(5.0, 9.5, num=1000)"
   ]
  },
  {
   "cell_type": "code",
   "execution_count": 10,
   "metadata": {},
   "outputs": [],
   "source": [
    "y = posterior_density(mu)"
   ]
  },
  {
   "cell_type": "code",
   "execution_count": 11,
   "metadata": {},
   "outputs": [
    {
     "data": {
      "image/png": "[encoded data removed]",
      "text/plain": [
       "<Figure size 432x288 with 1 Axes>"
      ]
     },
     "metadata": {
      "needs_background": "light"
     },
     "output_type": "display_data"
    }
   ],
   "source": [
    "plt.plot(mu, y, color=\"coral\")\n",
    "plt.title('Distribution of posterior mean')\n",
    "plt.show()"
   ]
  },
  {
   "cell_type": "code",
   "execution_count": 12,
   "metadata": {},
   "outputs": [
    {
     "data": {
      "image/png": "[encoded data removed]",
      "text/plain": [
       "<Figure size 432x288 with 1 Axes>"
      ]
     },
     "metadata": {
      "needs_background": "light"
     },
     "output_type": "display_data"
    }
   ],
   "source": [
    "# let's compare to the distribution of prior mean\n",
    "# (so not taking into account the data)\n",
    "x = np.linspace(-50.0, 50.0, num=1000)\n",
    "y = scipy.stats.norm.pdf(x, 0, 10)\n",
    "\n",
    "plt.plot(x, y, color=\"coral\")\n",
    "plt.title('Distribution of prior mean')\n",
    "plt.show()"
   ]
  },
  {
   "cell_type": "markdown",
   "metadata": {},
   "source": [
    "# 2 {-}"
   ]
  },
  {
   "cell_type": "markdown",
   "metadata": {},
   "source": [
    "**This problem relates to the figure below, which is Figure $17.3$ in the book Elements of Statistical Learning. Let $W$ be a $3$-dimensional r.v. Typically we write $W = (W1, W2, W3)$, but to match the figure, let $W = (X, Y, Z)$. Suppose that $X, Y, Z$ are each in $\\{−1, 1 \\}$. Consider three parametrizations of a probabilities distrubution for $W$, i.e. a joint probability distribution for $X,Y,Z$. Let $\\eta = (\\eta_1,\\eta_2,\\eta_3)$.**\n",
    "\n",
    "\n",
    "$$P(X =x,Y =y,Z =z)=\\alpha \\exp [\\eta_1 x+\\eta_2 y+\\eta_3 z−w_{12}xy−w_{13}xz]$$\n",
    "\n",
    "$$P(X=x,Y=y,Z=z)=\\alpha \\exp [\\eta_1 x+\\eta_2 y+\\eta_3 z−w_{12}xy−w_{13}xz−w_{23}yz]$$\n",
    "\n",
    "$$P(X=x,Y =y,Z =z)=\\alpha \\exp [\\eta_1x+\\eta_2y+\\eta_3z−w_{12}xy−w_{13}xz−w_{23}yz−w_{123}xyz]$$\n",
    "\n",
    "\n",
    "**where the $\\alpha$ is a normalizing constant that differs between the three distributions. (In the lecture I used $1/Z$ for the normalization, but here $Z$ is one of the random variables.)**\n"
   ]
  },
  {
   "cell_type": "markdown",
   "metadata": {},
   "source": [
    "![](ESM_Fig_17_3.jpg)"
   ]
  },
  {
   "cell_type": "markdown",
   "metadata": {},
   "source": [
    "# a {-}\n",
    "\n",
    "**Show that for distribution $(1)$, $Y ⊥ Z|X$ so that the edge between $Y$ and $Z$ in the graph is not consistent with the distribution. Show that for distribution $(1)$, we can write**\n",
    "\n",
    "$$P(X = x,Y = y,Z = z) = \\alpha \\psi_1(x,y)\\psi_2(x,z)$$\n",
    "\n",
    "**corresponding to the maximal clique form of the Hammersley-Clifford Theorem. What are the cliques in this case?**"
   ]
  },
  {
   "cell_type": "markdown",
   "metadata": {},
   "source": [
    "To show $Y ⊥ Z|X$ we need to show that $P(Z, Y|X=x)=P(Z|X=x)P(Y|X=x)$, i.e., that we can split the joint conditional into a product of one function depending only on $Y, x$ and another function depending only on $Z,x$.\n",
    "\n",
    "$$P(Z, Y|X=x)$$\n",
    "\n",
    "$$=\\frac{P(X=x,Y,Z)}{P(X=x)}$$\n",
    "\n",
    "$$=\\frac{\\alpha \\exp [\\eta_1 x+\\eta_2 y+\\eta_3 z−w_{12}xy−w_{13}xz]}{P(X=x)}$$\n",
    "\n",
    "$$=  \\biggl [ \\frac{\\alpha \\exp[\\eta_1 x]}{P(X=x)}\\exp[\\eta_2 Y-w_{12}xY] \\biggr ]\\biggl [ \\exp[\\eta_3 Z-w_{13}xZ]  \\biggr ]$$\n"
   ]
  },
  {
   "cell_type": "markdown",
   "metadata": {},
   "source": [
    "Lastly, note that,\n",
    "\n",
    "$$P(X =x,Y =y,Z =z)=\\alpha \\exp [\\eta_1 x+\\eta_2 y+\\eta_3 z−w_{12}xy−w_{13}xz]$$\n",
    "\n",
    "$$=\\alpha \\biggl [\\exp[\\eta_1 x+\\eta_2 y-w_{12}xy]\\biggr ]\\biggl [\\exp[\\eta_3 z-w_{13}xz]\\biggr ] $$\n",
    "\n",
    "$$=\\alpha \\psi_1(x,y)\\psi_2(x,z)$$\n",
    "\n",
    "by letting $\\psi_1(x,y)=\\exp[\\eta_1 x+\\eta_2 y-w_{12}xy$ and $\\psi_2(x,z)=\\exp[\\eta_3 z-w_{13}xz].$\n",
    "\n",
    "The cliques for this distribution and respective graph (which is the graph displayed in Figure 17.3 with the edge connecting $Y, Z$ removed) are \n",
    "$C=\\{(X,Y), (X,Z) \\}$."
   ]
  },
  {
   "cell_type": "markdown",
   "metadata": {},
   "source": [
    "# b {-}\n",
    "\n",
    "**Show that for distributions $(2)$ and $(3)$, no pair of the three r.v. $X, Y, Z$ is conditionally independent given the third r.v., making each edge in the graph necessary for consistency with the probability distribution. (Note: this reflects the comment directly below the figure: A graphical model does not always uniquely specify the higher-order structure of a joint probability distribution.)**"
   ]
  },
  {
   "cell_type": "markdown",
   "metadata": {},
   "source": [
    "Let's first consider (2). I will show that $Y, Z$ are not conditionally independent given $X$ and the same argument applies for the $2$ other pairs because of the symmetry in (2).\n",
    "\n",
    "For $Y, Z$ to be conditionally independent given $X$ we would need to be able to split $exp[-w_{23}yz]$ into a function that solely depends on $Y$, call it $f(Y)$, and a function that solely depends on $Z$, call it $g(Z)$, i.e., $exp[-w_{23}yz]=f(Y)g(Z)$. However, we know from algebra, that there is no way to split an exponential with an exponent equal to a product of two functions into a product of those two functions. So, we can conclude that $Y, Z$ are not conditionally independent given $X$. The same argument applies to $Y, X$ given $Z$ (the problem is now with $exp[-w_{12}yx]$) and $X, Z$ given $Y$ (the problem is now with $exp[-w_{13}xz]$).\n",
    "\n",
    "In terms of (3), the same argument applies. For example, for $Y, Z$ to be conditionally independent given $X$ we would need to be able to split $exp[-w_{23}yz]$ into $f(Y)g(Z)$ as well as $exp[−w_{123}xyz]$ into $f(Y)g(Z)$.\n",
    "\n"
   ]
  },
  {
   "cell_type": "markdown",
   "metadata": {},
   "source": [
    "# c {-}\n",
    "\n",
    "**Consider distribution (1). Let $\\eta_i = 1/2 ~\\text{for}~ i = 1, 2, 3$. Let $w_{12} = 1, w_{13} = −1$. Use a Monte-Carlo approach based on a Metropolis-Hastings sampler to estimate the correlation between $X$ and $Y$. (Since the graph is so small, in this case we could directly compute the correlation by summing through all possible values of $W$ , but this would not be the case if the dimension of $W$ was, say, $20$.)**"
   ]
  },
  {
   "cell_type": "markdown",
   "metadata": {},
   "source": [
    "We want to sample from \n",
    "\n",
    "$$P(X =x,Y =y,Z =z)=\\alpha \\exp [\\eta_1 x+\\eta_2 y+\\eta_3 z−w_{12}xy−w_{13}xz]$$\n",
    "\n",
    "$$=\\alpha \\exp [1/2 x+1/2 y+1/2 z−xy+xz]$$\n",
    "\n",
    "given $\\eta_i = 1/2 ~\\text{for}~ i = 1, 2, 3$ and $w_{12} = 1, w_{13} = −1.$\n",
    "\n",
    "$$=\\alpha \\exp [\\eta^Tv−v^TWv]$$\n",
    "\n",
    "where $v=(x, y, z), \\eta = (1/2, 1/2, 1/2)$, and \n",
    "\n",
    "$$W=\\begin{pmatrix} \n",
    "0 & 1 & -1 \\\\\n",
    "0 & 0 & 0 \\\\\n",
    "0 & 0 & 0\n",
    "\\end{pmatrix}$$"
   ]
  },
  {
   "cell_type": "markdown",
   "metadata": {},
   "source": [
    "Let $V$ be our random variable and let $\\Omega$ be our sample space. In other words $\\Omega= \\{V=(X,Y,Z) \\in R^{3}: X, Y, Z \\in \\{0,1 \\}\\}$. We want to be able to generate samples, $\\omega$'s, from $\\Omega$. The distribution of $V=(X,Y,Z)$ (our target distribution) is given above.\n",
    "\n",
    "Let's choose a symmetric proposal distribution $q$: We will propose $\\omega'$ by randomly choosing one entry of the $3$ entries of $w$. So $q(\\omega'|\\omega)=q(\\omega|\\omega')=\\frac{1}{3}.$"
   ]
  },
  {
   "cell_type": "markdown",
   "metadata": {},
   "source": [
    "And so to generate a sample $\\omega_{t+1}$ from our target distribution $P(X,Y,Z)$ we do the following:\n",
    "\n",
    "1. Generate $\\omega'$ from $q(\\omega'|\\omega_t)$\n",
    "2. Generate $\\hat{u}$ from  Uniform$(0,1)$\n",
    "3. If $\\hat{u} < \\frac{p(\\omega')q(\\omega_t|\\omega')}{p(\\omega_t)q(\\omega'|\\omega_t)}=\\frac{p(\\omega')}{p(\\omega_t)}$ accept $\\omega'$ and set $\\omega_{t+1}=\\omega'$; Otherwise set $\\omega_{t+1}=\\omega_t$\n",
    "\n",
    "Note that, \n",
    "\n",
    "$$\\frac{p(\\omega')}{p(\\omega_t)}$$\n",
    "\n",
    "$$=\\frac{\\alpha \\exp [\\eta^T\\omega'−\\omega'^TW\\omega']}{\\alpha \\exp [\\eta^T\\omega_t−\\omega_t^TW\\omega_t]}$$ \n",
    "\n",
    "$$=\\frac{\\exp [\\eta^T\\omega'−\\omega'^TW\\omega']}{\\exp [\\eta^T\\omega_t−\\omega_t^TW\\omega_t]}$$\n"
   ]
  },
  {
   "cell_type": "code",
   "execution_count": 17,
   "metadata": {},
   "outputs": [],
   "source": [
    "def target_distribution(v):\n",
    "    \"\"\"calculates the probability given a sample v\"\"\"\n",
    "    W = np.array([[0, 1, -1],\n",
    "                [0, 0, 0],\n",
    "                [0, 0, 0]])\n",
    "    eta = np.array([1/2, 1/2, 1/2])\n",
    "    \n",
    "    return np.exp(eta.T.dot(v) - v.T.dot(W.dot(v)))"
   ]
  },
  {
   "cell_type": "code",
   "execution_count": 18,
   "metadata": {},
   "outputs": [],
   "source": [
    "from tqdm import tqdm\n",
    "def MetropolisHastings(N, w):\n",
    "    \"\"\"Sampler via Metropolis Hastings\n",
    "    Args:\n",
    "        N: number of iterations\n",
    "        w: matrix of shape (3, )\n",
    "    Returns:\n",
    "        samples: list of shape (N, 3)\n",
    "    \"\"\"\n",
    "    samples = [w]\n",
    "    for _ in tqdm(range(N)):\n",
    "        index = np.random.choice(range(3))\n",
    "        w_prime = w.copy()\n",
    "        w_prime[index] = 1 - w_prime[index]\n",
    "        mhr = target_distribution(w_prime) / target_distribution(w)\n",
    "        if np.random.uniform(0, 1) < mhr:\n",
    "            w[index] = 1 - w[index]\n",
    "        samples.append(w.copy())\n",
    "    return samples"
   ]
  },
  {
   "cell_type": "code",
   "execution_count": 19,
   "metadata": {},
   "outputs": [
    {
     "data": {
      "text/plain": [
       "array([0, 1, 0])"
      ]
     },
     "execution_count": 19,
     "metadata": {},
     "output_type": "execute_result"
    }
   ],
   "source": [
    "# initialize w0\n",
    "import numpy as np\n",
    "w0 = np.random.choice(range(2), 3)\n",
    "w0"
   ]
  },
  {
   "cell_type": "code",
   "execution_count": 20,
   "metadata": {},
   "outputs": [
    {
     "name": "stderr",
     "output_type": "stream",
     "text": [
      "100%|██████████| 1000000/1000000 [00:47<00:00, 21234.38it/s]\n"
     ]
    }
   ],
   "source": [
    "N = 10**6\n",
    "samples = MetropolisHastings(N, w0)"
   ]
  },
  {
   "cell_type": "markdown",
   "metadata": {},
   "source": [
    "Now, note the correlation between $X, Y$ is,\n",
    "\n",
    "$$\\text{cor}(X, Y)$$\n",
    "\n",
    "$$=\\frac{\\text{cov}(X, Y)}{\\sqrt{\\text{cov}(X, X), \\text{cov}(Y, Y)}}$$\n",
    "\n",
    "$$=\\frac{E[(X-E[X])(Y-E[Y])]}{\\sqrt{E[(X-E[X])^2]E[(Y-E[Y])^2]}}$$"
   ]
  },
  {
   "cell_type": "markdown",
   "metadata": {},
   "source": [
    "So we can use Monte Carlo to estimate the expected values in the correlation."
   ]
  },
  {
   "cell_type": "code",
   "execution_count": 21,
   "metadata": {},
   "outputs": [],
   "source": [
    "# exclude burn-in time\n",
    "# exclude Z which we do not need\n",
    "samples2 = np.array(samples[int(0.2*len(samples)):])[:, :2]"
   ]
  },
  {
   "cell_type": "code",
   "execution_count": 22,
   "metadata": {},
   "outputs": [],
   "source": [
    "EX, EY = np.mean(samples2, axis=0)"
   ]
  },
  {
   "cell_type": "code",
   "execution_count": 23,
   "metadata": {},
   "outputs": [],
   "source": [
    "diff = samples2-np.array([EX, EY])"
   ]
  },
  {
   "cell_type": "code",
   "execution_count": 24,
   "metadata": {},
   "outputs": [],
   "source": [
    "cov = np.mean(diff[:,0]*diff[:,1])"
   ]
  },
  {
   "cell_type": "code",
   "execution_count": 25,
   "metadata": {},
   "outputs": [],
   "source": [
    "varX = np.mean(diff[:,0]**2)\n",
    "varY = np.mean(diff[:,1]**2)"
   ]
  },
  {
   "cell_type": "code",
   "execution_count": 26,
   "metadata": {},
   "outputs": [],
   "source": [
    "cor = cov/np.sqrt(varX*varY)"
   ]
  },
  {
   "cell_type": "code",
   "execution_count": 27,
   "metadata": {},
   "outputs": [
    {
     "data": {
      "text/plain": [
       "-0.2307080854335054"
      ]
     },
     "execution_count": 27,
     "metadata": {},
     "output_type": "execute_result"
    }
   ],
   "source": [
    "cor"
   ]
  },
  {
   "cell_type": "markdown",
   "metadata": {},
   "source": [
    "And so using Monte Carlo to estimate the expected values in the correlation, we get $-0.23$ as the estimate of the correlation between $X, Y$."
   ]
  },
  {
   "cell_type": "code",
   "execution_count": null,
   "metadata": {},
   "outputs": [],
   "source": []
  }
 ],
 "metadata": {
  "kernelspec": {
   "display_name": "Python 3",
   "language": "python",
   "name": "python3"
  },
  "language_info": {
   "codemirror_mode": {
    "name": "ipython",
    "version": 3
   },
   "file_extension": ".py",
   "mimetype": "text/x-python",
   "name": "python",
   "nbconvert_exporter": "python",
   "pygments_lexer": "ipython3",
   "version": "3.7.3"
  }
 },
 "nbformat": 4,
 "nbformat_minor": 4
}
