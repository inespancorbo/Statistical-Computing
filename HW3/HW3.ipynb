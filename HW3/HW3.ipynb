{
 "cells": [
  {
   "cell_type": "markdown",
   "metadata": {},
   "source": [
    "# 1 {-}"
   ]
  },
  {
   "cell_type": "markdown",
   "metadata": {},
   "source": [
    "**Attached is a file containing the heights of men and women at Hope College, see file for details. Consider the two component Gaussian mixture model,**\n",
    "\n",
    "$$ X=\\begin{cases} \n",
    "      \\mathcal{N}(\\mu_1, \\sigma_1^2) & \\text{with probability}~p_1 \\\\\n",
    "      \\mathcal{N}(\\mu_2, \\sigma_2^2) & \\text{with probability}~1-p_1 \n",
    "   \\end{cases}\n",
    "$$\n",
    "\n",
    "**where $\\mathcal{N}(\\mu, \\sigma^2)$ is the normal distribution and $X$ models the height of a person when gender is unknown. Let $\\theta=(\\mu_1, \\mu_2, \\sigma_1^2, \\sigma_2^2, p_1).$**"
   ]
  },
  {
   "cell_type": "markdown",
   "metadata": {},
   "source": [
    "# a {-}"
   ]
  },
  {
   "cell_type": "markdown",
   "metadata": {},
   "source": [
    "**The data file specifies gender, but pretend you don’t have this information. Write down the log-likelihood function $\\ell(\\theta)$ and $\\nabla \\ell(\\theta)$ given the height samples, i.e. in terms of $\\hat{X}_i.$ Write R (or Python) functions that calculate $\\ell(\\theta)$ and $\\nabla_{\\theta} \\ell(\\theta)$.**"
   ]
  },
  {
   "cell_type": "markdown",
   "metadata": {},
   "source": [
    "$$\\ell(\\theta; x_1, x_2, \\ldots, x_n)=\\sum_{i=1}^{N}\\log(p_1\\frac{1}{\\sqrt{2\\pi \\sigma_1^2}}e^{-\\frac{(x_i-\\mu_1)^2}{2\\sigma_1^2}}+(1-p_1)\\frac{1}{\\sqrt{2\\pi \\sigma_2^2}}e^{-\\frac{(x_i-\\mu_2)^2}{2\\sigma_2^2}})$$\n",
    "\n",
    "$$=\\sum_{i=1}^{N}\\log(p_1\\mathcal{N}(\\mu_1, \\sigma_1^2)|_{x_i}+(1-p_1)\\mathcal{N}(\\mu_1, \\sigma_1^2)|_{x_i})$$\n",
    "\n",
    "where the $\\mathcal{N}(\\mu_1, \\sigma_1^2)|_{x_i}$ notation means the value of the denisty of a normal random variable with mean $\\mu_1$ and variance $\\sigma_1^2$ evaluated at the point $x_i$."
   ]
  },
  {
   "cell_type": "markdown",
   "metadata": {},
   "source": [
    "$$\\nabla_{\\theta}(\\theta)=\\begin{pmatrix}\n",
    "\\frac{\\partial \\ell(\\theta; x_1, x_2, \\ldots, x_n)}{\\partial \\mu_1} \\\\\n",
    "\\frac{\\partial \\ell(\\theta; x_1, x_2, \\ldots, x_n)}{\\partial \\mu_2}  \\\\\n",
    "\\frac{\\partial \\ell(\\theta; x_1, x_2, \\ldots, x_n)}{\\partial \\sigma^2_1}  \\\\\n",
    "\\frac{\\partial \\ell(\\theta; x_1, x_2, \\ldots, x_n)}{\\partial \\sigma^2_2}  \\\\\n",
    "\\frac{\\partial \\ell(\\theta; x_1, x_2, \\ldots, x_n)}{\\partial p_1}  \n",
    "\\end{pmatrix}$$"
   ]
  },
  {
   "cell_type": "markdown",
   "metadata": {},
   "source": [
    "$$\\frac{\\partial \\ell(\\theta; x_1, x_2, \\ldots, x_n)}{\\partial \\mu_1}=\\sum_{i=1}^{N}\\frac{p_1\\frac{1}{\\sqrt{2\\pi \\sigma_1^2}}e^{-\\frac{(x_i-\\mu_1)^2}{2\\sigma_1^2}}(\\frac{x_i-\\mu_1}{\\sigma_1^2})}{p_1\\frac{1}{\\sqrt{2\\pi \\sigma_1^2}}e^{-\\frac{(x_i-\\mu_1)^2}{2\\sigma_1^2}}+(1-p_1)\\frac{1}{\\sqrt{2\\pi \\sigma_2^2}}e^{-\\frac{(x_i-\\mu_2)^2}{2\\sigma_2^2}}}$$\n",
    "\n",
    "$$=\\sum_{i=1}^{N}\\frac{p_1\\mathcal{N}(\\mu_1, \\sigma_1^2)|_{x_i}(\\frac{x_i-\\mu_1}{\\sigma_1^2})}{p_1\\mathcal{N}(\\mu_1, \\sigma_1^2)|_{x_i}+(1-p_1)\\mathcal{N}(\\mu_2, \\sigma_2^2)|_{x_i}}$$\n",
    "\n",
    "By symmetry, \n",
    "\n",
    "$$\\frac{\\partial \\ell(\\theta; x_1, x_2, \\ldots, x_n)}{\\partial \\mu_2}=\\sum_{i=1}^{N}\\frac{(1-p_1)\\mathcal{N}(\\mu_2, \\sigma_2^2)|_{x_i}(\\frac{x_i-\\mu_2}{\\sigma_2^2})}{p_1\\mathcal{N}(\\mu_1, \\sigma_1^2)|_{x_i}+(1-p_1)\\mathcal{N}(\\mu_2, \\sigma_2^2)|_{x_i}}$$\n",
    "\n"
   ]
  },
  {
   "cell_type": "markdown",
   "metadata": {},
   "source": [
    "$$\\frac{\\partial \\ell(\\theta; x_1, x_2, \\ldots, x_n)}{\\partial \\sigma^2_1}=\\sum_{i=1}^{N}\\frac{p_1\\frac{1}{\\sqrt{2\\pi \\sigma_1^2}}e^{-\\frac{(x_i-\\mu_1)^2}{2\\sigma_1^2}}(\\frac{(x_i-\\mu_1)^2}{\\sigma_1^3}-\\frac{1}{\\sigma_1})}{p_1\\frac{1}{\\sqrt{2\\pi \\sigma_1^2}}e^{-\\frac{(x_i-\\mu_1)^2}{2\\sigma_1^2}}+(1-p_1)\\frac{1}{\\sqrt{2\\pi \\sigma_2^2}}e^{-\\frac{(x_i-\\mu_2)^2}{2\\sigma_2^2}}}$$\n",
    "\n",
    "$$=\\sum_{i=1}^{N}\\frac{p_1\\mathcal{N}(\\mu_1, \\sigma_1^2)|_{x_i}(\\frac{(x_i-\\mu_1)^2}{\\sigma_1^3}-\\frac{1}{\\sigma_1})}{p_1\\mathcal{N}(\\mu_1, \\sigma_1^2)|_{x_i}+(1-p_1)\\mathcal{N}(\\mu_2, \\sigma_2^2)|_{x_i}}$$\n",
    "\n",
    "By symmetry,\n",
    "\n",
    "$$\\frac{\\partial \\ell(\\theta; x_1, x_2, \\ldots, x_n)}{\\partial \\sigma^2_2}=\\sum_{i=1}^{N}\\frac{(1-p_1)\\mathcal{N}(\\mu_2, \\sigma_2^2)|_{x_i}(\\frac{(x_i-\\mu_2)^2}{\\sigma_2^3}-\\frac{1}{\\sigma_2})}{p_1\\mathcal{N}(\\mu_1, \\sigma_1^2)|_{x_i}+(1-p_1)\\mathcal{N}(\\mu_2, \\sigma_2^2)|_{x_i}}$$"
   ]
  },
  {
   "cell_type": "markdown",
   "metadata": {},
   "source": [
    "Lastly,\n",
    "\n",
    "$$\\frac{\\partial \\ell(\\theta; x_1, x_2, \\ldots, x_n)}{\\partial p_1}=\\sum_{i=1}^{N}\\frac{\\frac{1}{\\sqrt{2\\pi \\sigma_1^2}}e^{-\\frac{(x_i-\\mu_1)^2}{2\\sigma_1^2}}-\\frac{1}{\\sqrt{2\\pi \\sigma_2^2}}e^{-\\frac{(x_i-\\mu_2)^2}{2\\sigma_2^2}}}{p_1\\frac{1}{\\sqrt{2\\pi \\sigma_1^2}}e^{-\\frac{(x_i-\\mu_1)^2}{2\\sigma_1^2}}+(1-p_1)\\frac{1}{\\sqrt{2\\pi \\sigma_2^2}}e^{-\\frac{(x_i-\\mu_2)^2}{2\\sigma_2^2}}}$$\n",
    "\n",
    "$$=\\sum_{i=1}^{N}\\frac{\\mathcal{N}(\\mu_1, \\sigma_1^2)|_{x_i}-\\mathcal{N}(\\mu_2, \\sigma_2^2)|_{x_i}}{p_1\\mathcal{N}(\\mu_1, \\sigma_1^2)|_{x_i}+(1-p_1)\\mathcal{N}(\\mu_2, \\sigma_2^2)|_{x_i}}$$"
   ]
  },
  {
   "cell_type": "markdown",
   "metadata": {},
   "source": [
    "Let's gather all the terms:\n",
    "\n",
    "$$\\nabla_{\\theta}(\\theta)=\\begin{pmatrix}\n",
    "\\frac{\\partial \\ell(\\theta; x_1, x_2, \\ldots, x_n)}{\\partial \\mu_1} \\\\\n",
    "\\frac{\\partial \\ell(\\theta; x_1, x_2, \\ldots, x_n)}{\\partial \\mu_2}  \\\\\n",
    "\\frac{\\partial \\ell(\\theta; x_1, x_2, \\ldots, x_n)}{\\partial \\sigma^2_1}  \\\\\n",
    "\\frac{\\partial \\ell(\\theta; x_1, x_2, \\ldots, x_n)}{\\partial \\sigma^2_2}  \\\\\n",
    "\\frac{\\partial \\ell(\\theta; x_1, x_2, \\ldots, x_n)}{\\partial p_1}  \n",
    "\\end{pmatrix}$$\n",
    "\n",
    "$$=\\begin{pmatrix}\n",
    "\\sum_{i=1}^{N}\\frac{p_1\\mathcal{N}(\\mu_1, \\sigma_1^2)|_{x_i}(\\frac{x_i-\\mu_1}{\\sigma_1^2})}{p_1\\mathcal{N}(\\mu_1, \\sigma_1^2)|_{x_i}+(1-p_1)\\mathcal{N}(\\mu_2, \\sigma_2^2)|_{x_i}}\\\\\n",
    "\\sum_{i=1}^{N}\\frac{(1-p_1)\\mathcal{N}(\\mu_2, \\sigma_2^2)|_{x_i}(\\frac{x_i-\\mu_2}{\\sigma_2^2})}{p_1\\mathcal{N}(\\mu_1, \\sigma_1^2)|_{x_i}+(1-p_1)\\mathcal{N}(\\mu_2, \\sigma_2^2)|_{x_i}} \\\\\n",
    "\\sum_{i=1}^{N}\\frac{p_1\\mathcal{N}(\\mu_1, \\sigma_1^2)|_{x_i}(\\frac{(x_i-\\mu_1)^2}{\\sigma_1^3}-\\frac{1}{\\sigma_1})}{p_1\\mathcal{N}(\\mu_1, \\sigma_1^2)|_{x_i}+(1-p_1)\\mathcal{N}(\\mu_2, \\sigma_2^2)|_{x_i}}  \\\\\n",
    "\\sum_{i=1}^{N}\\frac{(1-p_1)\\mathcal{N}(\\mu_2, \\sigma_2^2)|_{x_i}(\\frac{(x_i-\\mu_2)^2}{\\sigma_2^3}-\\frac{1}{\\sigma_2})}{p_1\\mathcal{N}(\\mu_1, \\sigma_1^2)|_{x_i}+(1-p_1)\\mathcal{N}(\\mu_2, \\sigma_2^2)|_{x_i}}  \\\\\n",
    "\\sum_{i=1}^{N}\\frac{\\mathcal{N}(\\mu_1, \\sigma_1^2)|_{x_i}-\\mathcal{N}(\\mu_2, \\sigma_2^2)|_{x_i}}{p_1\\mathcal{N}(\\mu_1, \\sigma_1^2)|_{x_i}+(1-p_1)\\mathcal{N}(\\mu_2, \\sigma_2^2)|_{x_i}}\n",
    "\\end{pmatrix}$$\n",
    "\n",
    "$$=\\sum_{i=1}^{N}\\frac{1}{p_1\\mathcal{N}(\\mu_1, \\sigma_1^2)|_{x_i}+(1-p_1)\\mathcal{N}(\\mu_2, \\sigma_2^2)|_{x_i}}\\begin{pmatrix}\n",
    "p_1\\mathcal{N}(\\mu_1, \\sigma_1^2)|_{x_i}(\\frac{x_i-\\mu_1}{\\sigma_1^2})\\\\\n",
    "(1-p_1)\\mathcal{N}(\\mu_2, \\sigma_2^2)|_{x_i}(\\frac{x_i-\\mu_2}{\\sigma_2^2}) \\\\\n",
    "p_1\\mathcal{N}(\\mu_1, \\sigma_1^2)|_{x_i}(\\frac{(x_i-\\mu_1)^2}{\\sigma_1^3}-\\frac{1}{\\sigma_1})\\\\\n",
    "(1-p_1)\\mathcal{N}(\\mu_2, \\sigma_2^2)|_{x_i}(\\frac{(x_i-\\mu_2)^2}{\\sigma_2^3}-\\frac{1}{\\sigma_2}) \\\\\n",
    "\\mathcal{N}(\\mu_1, \\sigma_1^2)|_{x_i}-\\mathcal{N}(\\mu_2, \\sigma_2^2)|_{x_i}\n",
    "\\end{pmatrix}$$\n",
    "\n",
    "And so now $\\ell(\\theta)$ and $\\nabla_{\\theta} \\ell(\\theta)$ are easy to code:"
   ]
  },
  {
   "cell_type": "code",
   "execution_count": 1,
   "metadata": {
    "scrolled": true
   },
   "outputs": [],
   "source": [
    "def logl(mu_1, mu_2, sigma_1, sigma_2, p1):\n",
    "    \"\"\" Computes the log likelihood of a mixture of gaussians\n",
    "    Args: \n",
    "        mu_1, sigma_1: parameters of normal distribution 1\n",
    "        mu_2, sigma_2: parameters of normal distribution 2\n",
    "    \n",
    "    Returns:\n",
    "        Log likelihood value\n",
    "    \"\"\"\n",
    "    logl = sum(np.log(p1*norm.pdf(x, loc=mu_1, scale=np.sqrt(sigma_1)) + (1-p1)*norm.pdf(x, loc=mu_2, scale=np.sqrt(sigma_2))))\n",
    "    return logl"
   ]
  },
  {
   "cell_type": "code",
   "execution_count": 2,
   "metadata": {},
   "outputs": [],
   "source": [
    "def grad_logl(mu_1, mu_2, sigma_1, sigma_2, p1):\n",
    "    \"\"\"Computes the gradient of the log likelihood of a mixture of gaussians\n",
    "    Args: \n",
    "        mu_1, sigma_1: parameters of normal distribution 1\n",
    "        mu_2, sigma_2: parameters of normal distribution 2\n",
    "    \n",
    "    Returns:\n",
    "        Gradient of the log likelihood    \n",
    "    \"\"\"\n",
    "    grad = np.array([\n",
    "        p1*np.multiply(norm.pdf(x, mu_1, np.sqrt(sigma_1)), (x-mu_1)/sigma_1),\n",
    "        (1-p1)*np.multiply(norm.pdf(x, mu_2, np.sqrt(sigma_2)), (x-mu_2)/sigma_2),\n",
    "        p1*np.multiply(norm.pdf(x, mu_1, np.sqrt(sigma_1)), (x-mu_1)**2/(np.sqrt(sigma_1)**3)-1/(np.sqrt(sigma_1))),\n",
    "        p1*np.multiply(norm.pdf(x, mu_2, np.sqrt(sigma_2)), (x-mu_2)**2/(np.sqrt(sigma_2)**3)-1/(np.sqrt(sigma_2))),\n",
    "        np.multiply(norm.pdf(x, mu_1, np.sqrt(sigma_1)), norm.pdf(x, mu_2, np.sqrt(sigma_2)))  \n",
    "    ])\n",
    "    \n",
    "    \n",
    "    grad = np.multiply(1/(p1*norm.pdf(x, mu_1, np.sqrt(sigma_1)) + (1-p1)*norm.pdf(x, mu_2, np.sqrt(sigma_2))), \n",
    "                       grad)\n",
    "    grad = np.sum(grad, axis=1)\n",
    "    return grad"
   ]
  },
  {
   "cell_type": "markdown",
   "metadata": {},
   "source": [
    "# b. {-}"
   ]
  },
  {
   "cell_type": "markdown",
   "metadata": {},
   "source": [
    "**Find the MLE for $\\theta$ by**\n",
    "\n",
    "**1. Applying a steepest ascent iteration $\\theta^{(i+1)}=\\theta^{(i)}+s\\nabla \\ell(\\theta)$.**\n",
    "\n",
    "**2. Using nlm or an equivalent in Python.**"
   ]
  },
  {
   "cell_type": "code",
   "execution_count": 3,
   "metadata": {},
   "outputs": [],
   "source": [
    "def steepest_ascent(theta, eps = 10**-4, max_iter = 1000):\n",
    "    \"\"\"Steepest ascent algorithm\n",
    "    Args:\n",
    "        theta: initial value for parameters, a vector or list of \n",
    "            size (5, )\n",
    "        eps: epsilon used to test norm of log likelihood gradient\n",
    "        max_iter: number of iterations to run algorithm\n",
    "    Returns:\n",
    "        i: total number of iterations taken\n",
    "        logl_list: list with log likelihood values of size (i, )\n",
    "        theta: parameter reached with algorithm, vector or list of size (5, )\n",
    "    \n",
    "    \"\"\"\n",
    "    l = logl(*theta)\n",
    "    g = grad_logl(*theta)/np.linalg.norm(grad_logl(*theta))\n",
    "    s = 1.\n",
    "    i = 0\n",
    "    logl_list = []\n",
    "    \n",
    "    while(np.linalg.norm(g) > eps and i < max_iter): \n",
    "        \n",
    "        logl_list.append(l)\n",
    "        \n",
    "        while((theta+s*g)[-1] < 0 \n",
    "              or (theta+s*g)[-1] > 1 \n",
    "              or (theta+s*g)[2] < 0 \n",
    "              or (theta+s*g)[3] < 0):\n",
    "            s = s/2\n",
    "                  \n",
    "        while (logl(*(theta + s*g)) < l):\n",
    "            s = s/2 \n",
    "            \n",
    "        theta = theta + s*g\n",
    "        l = logl(*theta)\n",
    "        g = grad_logl(*theta)/np.linalg.norm(grad_logl(*theta))\n",
    "        i += 1\n",
    "        \n",
    "    return i, logl_list, theta"
   ]
  },
  {
   "cell_type": "code",
   "execution_count": 4,
   "metadata": {},
   "outputs": [
    {
     "name": "stdout",
     "output_type": "stream",
     "text": [
      "(100, 2) (100,) (100,)\n"
     ]
    }
   ],
   "source": [
    "import pandas as pd\n",
    "from scipy.stats import norm\n",
    "import numpy as np\n",
    "\n",
    "data = pd.read_csv(\"Hope Heights.txt\", sep='\\s+').to_numpy()\n",
    "data.shape\n",
    "x = data[:, 1]\n",
    "y = data[:, 0]\n",
    "print(data.shape, x.shape, y.shape)"
   ]
  },
  {
   "cell_type": "code",
   "execution_count": 5,
   "metadata": {
    "scrolled": true
   },
   "outputs": [
    {
     "data": {
      "image/png": "[encoded data removed]",
      "text/plain": [
       "<Figure size 432x288 with 1 Axes>"
      ]
     },
     "metadata": {
      "needs_background": "light"
     },
     "output_type": "display_data"
    }
   ],
   "source": [
    "import matplotlib.pyplot as plt\n",
    "plt.hist(x)\n",
    "plt.show()"
   ]
  },
  {
   "cell_type": "code",
   "execution_count": 6,
   "metadata": {
    "scrolled": true
   },
   "outputs": [
    {
     "data": {
      "text/plain": [
       "array([72.85714286, 66.09803922, 16.7219    , 16.7219    ,  0.1       ])"
      ]
     },
     "execution_count": 6,
     "metadata": {},
     "output_type": "execute_result"
    }
   ],
   "source": [
    "from sklearn.cluster import KMeans\n",
    "\n",
    "kmeans = KMeans(n_clusters=2)\n",
    "kmeans.fit(x.reshape(-1,1))\n",
    "\n",
    "theta_0 = np.array([kmeans.cluster_centers_[0].item(), \n",
    "                    kmeans.cluster_centers_[1].item(), \n",
    "                    x.var(), x.var(), 0.1])\n",
    "theta_0"
   ]
  },
  {
   "cell_type": "code",
   "execution_count": 7,
   "metadata": {
    "scrolled": true
   },
   "outputs": [
    {
     "data": {
      "text/plain": [
       "-286.88489162565526"
      ]
     },
     "execution_count": 7,
     "metadata": {},
     "output_type": "execute_result"
    }
   ],
   "source": [
    "iterations, logl_list, theta_star = steepest_ascent(theta_0)\n",
    "logl_list[-1]"
   ]
  },
  {
   "cell_type": "code",
   "execution_count": 8,
   "metadata": {
    "scrolled": true
   },
   "outputs": [
    {
     "data": {
      "image/png": "[encoded data removed]",
      "text/plain": [
       "<Figure size 432x288 with 1 Axes>"
      ]
     },
     "metadata": {
      "needs_background": "light"
     },
     "output_type": "display_data"
    }
   ],
   "source": [
    "plt.plot(range(iterations), logl_list)\n",
    "plt.show()"
   ]
  },
  {
   "cell_type": "markdown",
   "metadata": {},
   "source": [
    "Let's try other initializations since the optimization is non-convex."
   ]
  },
  {
   "cell_type": "code",
   "execution_count": 9,
   "metadata": {},
   "outputs": [
    {
     "data": {
      "text/plain": [
       "-284.0289087685018"
      ]
     },
     "execution_count": 9,
     "metadata": {},
     "output_type": "execute_result"
    }
   ],
   "source": [
    "theta_0 = np.array([70, 65, 5, 5, 0.2])\n",
    "iterations, logl_list, theta_star = steepest_ascent(theta_0)\n",
    "logl_list[-1]"
   ]
  },
  {
   "cell_type": "code",
   "execution_count": 10,
   "metadata": {},
   "outputs": [
    {
     "data": {
      "image/png": "[encoded data removed]",
      "text/plain": [
       "<Figure size 432x288 with 1 Axes>"
      ]
     },
     "metadata": {
      "needs_background": "light"
     },
     "output_type": "display_data"
    }
   ],
   "source": [
    "plt.plot(range(iterations), logl_list)\n",
    "plt.show()"
   ]
  },
  {
   "cell_type": "code",
   "execution_count": 11,
   "metadata": {},
   "outputs": [
    {
     "data": {
      "text/plain": [
       "-318.3973095925437"
      ]
     },
     "execution_count": 11,
     "metadata": {},
     "output_type": "execute_result"
    }
   ],
   "source": [
    "theta_0 = np.array([70, 40, 2, 2, 0.7])\n",
    "iterations, logl_list, theta_star = steepest_ascent(theta_0)\n",
    "logl_list[-1]"
   ]
  },
  {
   "cell_type": "code",
   "execution_count": 12,
   "metadata": {},
   "outputs": [
    {
     "data": {
      "image/png": "[encoded data removed]",
      "text/plain": [
       "<Figure size 432x288 with 1 Axes>"
      ]
     },
     "metadata": {
      "needs_background": "light"
     },
     "output_type": "display_data"
    }
   ],
   "source": [
    "plt.plot(range(iterations), logl_list)\n",
    "plt.show()"
   ]
  },
  {
   "cell_type": "code",
   "execution_count": 13,
   "metadata": {},
   "outputs": [
    {
     "data": {
      "text/plain": [
       "-282.4998735842561"
      ]
     },
     "execution_count": 13,
     "metadata": {},
     "output_type": "execute_result"
    }
   ],
   "source": [
    "theta_0 = np.array([69, 76, 5, 2, 0.1])\n",
    "iterations, logl_list, theta_star = steepest_ascent(theta_0)\n",
    "logl_list[-1]"
   ]
  },
  {
   "cell_type": "code",
   "execution_count": 14,
   "metadata": {},
   "outputs": [
    {
     "data": {
      "image/png": "[encoded data removed]",
      "text/plain": [
       "<Figure size 432x288 with 1 Axes>"
      ]
     },
     "metadata": {
      "needs_background": "light"
     },
     "output_type": "display_data"
    }
   ],
   "source": [
    "plt.plot(range(iterations), logl_list)\n",
    "plt.show()"
   ]
  },
  {
   "cell_type": "markdown",
   "metadata": {},
   "source": [
    "Out of the $4$ different intializations, the last one provided the highest log likelihood value so let us choose its corresponding theta_star as our MLE."
   ]
  },
  {
   "cell_type": "code",
   "execution_count": 15,
   "metadata": {},
   "outputs": [
    {
     "data": {
      "text/plain": [
       "array([66.52595766, 72.89819447,  7.67304356,  4.09686584,  0.60212145])"
      ]
     },
     "execution_count": 15,
     "metadata": {},
     "output_type": "execute_result"
    }
   ],
   "source": [
    "theta_star"
   ]
  },
  {
   "cell_type": "code",
   "execution_count": 16,
   "metadata": {},
   "outputs": [
    {
     "data": {
      "image/png": "[encoded data removed]",
      "text/plain": [
       "<Figure size 432x288 with 1 Axes>"
      ]
     },
     "metadata": {
      "needs_background": "light"
     },
     "output_type": "display_data"
    }
   ],
   "source": [
    "# let's plot the mixture model density given theta_star\n",
    "# with the height data points\n",
    "x_points = np.arange(30, 90, 0.5)\n",
    "y_points = theta_star[-1]*norm.pdf(x_points, theta_star[0], np.sqrt(theta_star[2]))+(1-theta_star[-1])*norm.pdf(x_points, theta_star[1], np.sqrt(theta_star[3]))\n",
    "plt.plot(x_points, y_points)\n",
    "plt.hist(x, density=True)\n",
    "plt.show()"
   ]
  },
  {
   "cell_type": "code",
   "execution_count": 17,
   "metadata": {},
   "outputs": [],
   "source": [
    "# changing the log likelihood function so that it can be applied\n",
    "# to scipy.optimize.minimize\n",
    "def logl2(theta, x):\n",
    "    logl = sum(np.log(theta[4]*norm.pdf(x, loc=theta[0], scale=np.sqrt(theta[2])) + (1-theta[4])*norm.pdf(x, loc=theta[1], scale=np.sqrt(theta[3]))))\n",
    "    return logl"
   ]
  },
  {
   "cell_type": "code",
   "execution_count": 18,
   "metadata": {},
   "outputs": [
    {
     "name": "stderr",
     "output_type": "stream",
     "text": [
      "//anaconda3/lib/python3.7/site-packages/ipykernel_launcher.py:4: RuntimeWarning: invalid value encountered in log\n",
      "  after removing the cwd from sys.path.\n",
      "//anaconda3/lib/python3.7/site-packages/ipykernel_launcher.py:4: RuntimeWarning: invalid value encountered in sqrt\n",
      "  after removing the cwd from sys.path.\n",
      "//anaconda3/lib/python3.7/site-packages/ipykernel_launcher.py:4: RuntimeWarning: invalid value encountered in log\n",
      "  after removing the cwd from sys.path.\n",
      "//anaconda3/lib/python3.7/site-packages/ipykernel_launcher.py:4: RuntimeWarning: invalid value encountered in sqrt\n",
      "  after removing the cwd from sys.path.\n",
      "//anaconda3/lib/python3.7/site-packages/ipykernel_launcher.py:4: RuntimeWarning: invalid value encountered in sqrt\n",
      "  after removing the cwd from sys.path.\n"
     ]
    },
    {
     "data": {
      "text/plain": [
       "      fun: nan\n",
       " hess_inv: array([[1, 0, 0, 0, 0],\n",
       "       [0, 1, 0, 0, 0],\n",
       "       [0, 0, 1, 0, 0],\n",
       "       [0, 0, 0, 1, 0],\n",
       "       [0, 0, 0, 0, 1]])\n",
       "      jac: array([nan, nan, nan, nan, nan])\n",
       "  message: 'Desired error not necessarily achieved due to precision loss.'\n",
       "     nfev: 672\n",
       "      nit: 1\n",
       "     njev: 112\n",
       "   status: 2\n",
       "  success: False\n",
       "        x: array([  101.59906106,   114.91304062,    -9.89378681,   -17.25884544,\n",
       "       -1032.60650529])"
      ]
     },
     "execution_count": 18,
     "metadata": {},
     "output_type": "execute_result"
    }
   ],
   "source": [
    "from scipy.optimize import minimize\n",
    "minimize(logl2, x0=theta_0, args=x, method='BFGS')"
   ]
  },
  {
   "cell_type": "markdown",
   "metadata": {},
   "source": [
    "As the errors point out, an invalid value was entered in a log and a sqrt (probably nonnegative for log and negative for sqrt). Choosing any method other than 'BFGS' results in the same (some require that you provide the jacobian, so did not try those out).\n",
    "\n",
    "The reason as to why this maybe happens is because the python built-in optimizers do not fix the issue of potential negative variances and probabilites (we fix this by backtracking). So when introducing a negative into a log or square root python gives an error. "
   ]
  },
  {
   "cell_type": "markdown",
   "metadata": {},
   "source": [
    "# c {-}"
   ]
  },
  {
   "cell_type": "markdown",
   "metadata": {},
   "source": [
    "**Given your MLE in (b), use the distribution of $X$ to predict whether a given sample is taken from a man or woman. Intuitively, the two normal distributions of $X$ correspond to the male and female height distributions. Given a sample, $x$, decide which normal the sample is most likely to come from and assign the gender accordingly. Determine what percentage of individuals are classified correctly.**\n"
   ]
  },
  {
   "cell_type": "markdown",
   "metadata": {},
   "source": [
    "From Bishop section $9.2$, we can formulate a gaussian mixture in terms of discrete latent variables. We can introduce a $2$-dimensional binary random variable $Z$ in which each entry is either $0$ or $1$, i.e., $z_i \\in \\{0,1\\}$ for $i=1,2$ and $z_1+z_2=1.$ The distribution of $Z$ is in terms of the mixing coefficients:\n",
    "\n",
    "$$p(z)=\\begin{cases} \n",
    "      p_1 & \\text{if}~z_1=1~\\text{and}~z_2=0  \\\\\n",
    "      1-p_1 & \\text{if}~z_1=0~\\text{and}~z_2=1 \\\\\n",
    "      0 & \\text{otherwise}\n",
    "   \\end{cases}\n",
    "$$\n",
    "\n",
    "And so, to decide which normal the sample is most likely to come from, we want the conditional probability of $Z$ given $X$, where $X$ was defined in the prompt and its distribution can also be obtained by summing the joint distribution $p(x,z)=p(z)p(x|z)$ over the two possible states of $Z:$ $p(x)=\\sum_zp(z)p(x|z)=p_1\\mathcal{N}(\\mu_1, \\sigma_1^2)+(1-p_1)\\mathcal{N}(\\mu_2, \\sigma_2^2).$\n",
    "\n",
    "By Bayes' theorem:\n",
    "\n",
    "$$p(z_1=1, z_2=0|x)=\\frac{p(z_1=1, z_2=0)p(x|z_1=1, z_2=0)}{p(z_1=1, z_2=0)p(x|z_1=1, z_2=0)+p(z_1=0, z_2=1)p(x|z_1=0, z_2=1)}$$\n",
    "\n",
    "\n",
    "$$=\\frac{p_1\\mathcal{N}(\\mu_1, \\sigma_1^2)}{p_1\\mathcal{N}(\\mu_1, \\sigma_1^2)+(1-p_1)\\mathcal{N}(\\mu_2, \\sigma_2^2)}.$$\n",
    "\n",
    "\n",
    "And so, \n",
    "\n",
    "$$p(z_1=0, z_2=1|x)=1-p(z_1=1, z_2=0|x).$$\n",
    "\n",
    "Let's let $\\mathcal{N}(\\mu_1, \\sigma_1^2)$ be the women height distribution and $\\mathcal{N}(\\mu_2, \\sigma_2^2)$ be the men height distribution."
   ]
  },
  {
   "cell_type": "code",
   "execution_count": 19,
   "metadata": {},
   "outputs": [],
   "source": [
    "def classify(cutoff, theta_star):\n",
    "    num = theta_star[-1]*norm.pdf(x, theta_star[0], np.sqrt(theta_star[2]))\n",
    "    den = 1/(theta_star[-1]*norm.pdf(x, theta_star[0], np.sqrt(theta_star[2])) \\\n",
    "    + (1-theta_star[-1])*norm.pdf(x, theta_star[1], np.sqrt(theta_star[3]))) \n",
    "    p = np.multiply(num, den)\n",
    "    return np.where(p > cutoff, 1, 2)"
   ]
  },
  {
   "cell_type": "code",
   "execution_count": 20,
   "metadata": {},
   "outputs": [
    {
     "name": "stderr",
     "output_type": "stream",
     "text": [
      "//anaconda3/lib/python3.7/site-packages/statsmodels/tools/_testing.py:19: FutureWarning: pandas.util.testing is deprecated. Use the functions in the public API at pandas.testing instead.\n",
      "  import pandas.util.testing as tm\n"
     ]
    }
   ],
   "source": [
    "from sklearn.metrics import confusion_matrix\n",
    "import seaborn as sns\n",
    "\n",
    "def plot_confusion_matrix(y_pred):\n",
    "    c = confusion_matrix(y_true=y, y_pred=y_pred)\n",
    "    c = c/c.astype(np.float).sum(axis=1)\n",
    "    fig, ax = plt.subplots(figsize=(6,4))\n",
    "    sns.heatmap(c, annot=True, fmt='.2f', cmap=\"Blues\", \n",
    "                xticklabels=[\"1 (Women)\", \"2 (Men)\"], \n",
    "                yticklabels=[\"1 (Women)\", \"2 (Men)\"])\n",
    "    plt.xlabel(\"Predicted\")\n",
    "    plt.ylabel(\"True\")\n",
    "    plt.show()"
   ]
  },
  {
   "cell_type": "markdown",
   "metadata": {},
   "source": [
    "Let's try a couple of different cutoffs."
   ]
  },
  {
   "cell_type": "code",
   "execution_count": 21,
   "metadata": {
    "scrolled": true
   },
   "outputs": [
    {
     "data": {
      "image/png": "[encoded data removed]",
      "text/plain": [
       "<Figure size 432x288 with 2 Axes>"
      ]
     },
     "metadata": {
      "needs_background": "light"
     },
     "output_type": "display_data"
    }
   ],
   "source": [
    "plot_confusion_matrix(classify(0.8, theta_star))"
   ]
  },
  {
   "cell_type": "code",
   "execution_count": 22,
   "metadata": {},
   "outputs": [
    {
     "data": {
      "image/png": "[encoded data removed]",
      "text/plain": [
       "<Figure size 432x288 with 2 Axes>"
      ]
     },
     "metadata": {
      "needs_background": "light"
     },
     "output_type": "display_data"
    }
   ],
   "source": [
    "plot_confusion_matrix(classify(0.4, theta_star))"
   ]
  },
  {
   "cell_type": "code",
   "execution_count": 23,
   "metadata": {},
   "outputs": [
    {
     "data": {
      "image/png": "[encoded data removed]",
      "text/plain": [
       "<Figure size 432x288 with 2 Axes>"
      ]
     },
     "metadata": {
      "needs_background": "light"
     },
     "output_type": "display_data"
    }
   ],
   "source": [
    "plot_confusion_matrix(classify(0.9, theta_star))"
   ]
  },
  {
   "cell_type": "code",
   "execution_count": 24,
   "metadata": {},
   "outputs": [
    {
     "data": {
      "image/png": "[encoded data removed]",
      "text/plain": [
       "<Figure size 432x288 with 2 Axes>"
      ]
     },
     "metadata": {
      "needs_background": "light"
     },
     "output_type": "display_data"
    }
   ],
   "source": [
    "plot_confusion_matrix(classify(0.1, theta_star))"
   ]
  },
  {
   "cell_type": "markdown",
   "metadata": {},
   "source": [
    "Now let's plot accuracy for a couple of different cutoffs."
   ]
  },
  {
   "cell_type": "code",
   "execution_count": 25,
   "metadata": {
    "scrolled": true
   },
   "outputs": [
    {
     "data": {
      "image/png": "[encoded data removed]",
      "text/plain": [
       "<Figure size 432x288 with 1 Axes>"
      ]
     },
     "metadata": {
      "needs_background": "light"
     },
     "output_type": "display_data"
    }
   ],
   "source": [
    "from sklearn.metrics import accuracy_score\n",
    "\n",
    "accuracies = [accuracy_score(y_true=y, y_pred=classify(p, theta_star)) for p in np.arange(0,1.1,0.1)]\n",
    "plt.plot(np.arange(0,1.1,0.1), accuracies, \"o--\")\n",
    "plt.xlabel(\"Cutoff\")\n",
    "plt.ylabel(\"Accuracy Score\")\n",
    "plt.show()"
   ]
  },
  {
   "cell_type": "markdown",
   "metadata": {},
   "source": [
    "A cutoff of $0.8$ seems to give us the best accuracy of $0.87$ with a decent confusion matrix. "
   ]
  },
  {
   "cell_type": "markdown",
   "metadata": {},
   "source": [
    "# 2 {-}"
   ]
  },
  {
   "cell_type": "markdown",
   "metadata": {},
   "source": [
    "**Consider the Chutes and Ladders Markov chain of the previous homework. Assume throughout that a single player is playing.**\n"
   ]
  },
  {
   "cell_type": "markdown",
   "metadata": {},
   "source": [
    "# a {-}"
   ]
  },
  {
   "cell_type": "markdown",
   "metadata": {},
   "source": [
    "**Compute the probability of winning in $n$ steps for $n = 1, 2, . . . , 50.$ Plot the probabilities. Don’t use a Monte Carlo approach, compute these probabilities exactly using matrix computations.**"
   ]
  },
  {
   "cell_type": "markdown",
   "metadata": {},
   "source": [
    "Using the $build$_$P$ function used in HW $2$:"
   ]
  },
  {
   "cell_type": "code",
   "execution_count": 26,
   "metadata": {},
   "outputs": [],
   "source": [
    "def build_P(chutes_and_ladder_locations):\n",
    "    \"\"\"Builds the transition probability matrix for the chutes and ladders game\n",
    "    \n",
    "    Args:\n",
    "        chutes_and_ladder_locations: Dataframe containing the info from \n",
    "        the chutes_and_ladder_locations.csv\n",
    "    \n",
    "    Returns:\n",
    "        A numpy array of shape (101, 101)\n",
    "    \n",
    "    \"\"\"\n",
    "    # helper function\n",
    "    def shift(array):\n",
    "        return(np.concatenate((np.array([0]), array[:-1])))\n",
    "    \n",
    "    # creating the transition probability \n",
    "    # matrix, P, assuming no chutes and ladders\n",
    "    pdf = np.zeros(101)\n",
    "    pdf[1:7] = 1/6\n",
    "    P = pdf.copy()\n",
    "    \n",
    "    for _ in range(100):\n",
    "        pdf = shift(pdf)\n",
    "        P = np.concatenate((P, pdf))\n",
    "  \n",
    "    P = P.reshape(101, 101)\n",
    "    \n",
    "    P[100, 100] = 1\n",
    "    \n",
    "    # fixing P for chutes and ladders\n",
    "    for i, j in zip(chutes_and_ladder_locations.start, chutes_and_ladder_locations.end):\n",
    "        P[:,j] += P[:,i]\n",
    "        P[:,i] = np.zeros(101)\n",
    "    \n",
    "    # fixing P for last squares in game\n",
    "    for i in [95, 96, 97, 98, 99]:\n",
    "        P[i, -1] = 1 -  np.sum(P[i, :-1])\n",
    "    \n",
    "    return P"
   ]
  },
  {
   "cell_type": "code",
   "execution_count": 27,
   "metadata": {
    "scrolled": false
   },
   "outputs": [
    {
     "data": {
      "text/html": [
       "<div>\n",
       "<style scoped>\n",
       "    .dataframe tbody tr th:only-of-type {\n",
       "        vertical-align: middle;\n",
       "    }\n",
       "\n",
       "    .dataframe tbody tr th {\n",
       "        vertical-align: top;\n",
       "    }\n",
       "\n",
       "    .dataframe thead th {\n",
       "        text-align: right;\n",
       "    }\n",
       "</style>\n",
       "<table border=\"1\" class=\"dataframe\">\n",
       "  <thead>\n",
       "    <tr style=\"text-align: right;\">\n",
       "      <th></th>\n",
       "      <th>start</th>\n",
       "      <th>end</th>\n",
       "    </tr>\n",
       "  </thead>\n",
       "  <tbody>\n",
       "    <tr>\n",
       "      <th>0</th>\n",
       "      <td>1</td>\n",
       "      <td>38</td>\n",
       "    </tr>\n",
       "    <tr>\n",
       "      <th>1</th>\n",
       "      <td>4</td>\n",
       "      <td>14</td>\n",
       "    </tr>\n",
       "    <tr>\n",
       "      <th>2</th>\n",
       "      <td>9</td>\n",
       "      <td>31</td>\n",
       "    </tr>\n",
       "    <tr>\n",
       "      <th>3</th>\n",
       "      <td>21</td>\n",
       "      <td>42</td>\n",
       "    </tr>\n",
       "    <tr>\n",
       "      <th>4</th>\n",
       "      <td>28</td>\n",
       "      <td>84</td>\n",
       "    </tr>\n",
       "  </tbody>\n",
       "</table>\n",
       "</div>"
      ],
      "text/plain": [
       "   start  end\n",
       "0      1   38\n",
       "1      4   14\n",
       "2      9   31\n",
       "3     21   42\n",
       "4     28   84"
      ]
     },
     "execution_count": 27,
     "metadata": {},
     "output_type": "execute_result"
    }
   ],
   "source": [
    "import pandas as pd\n",
    "chutes_and_ladder_locations = pd.read_csv('../HW2/chutes_and_ladder_locations.csv')\n",
    "chutes_and_ladder_locations.head()"
   ]
  },
  {
   "cell_type": "code",
   "execution_count": 28,
   "metadata": {},
   "outputs": [],
   "source": [
    "P = build_P(chutes_and_ladder_locations)"
   ]
  },
  {
   "cell_type": "markdown",
   "metadata": {},
   "source": [
    "Note that $X_0=0.$ We want the probability of winning in $n$ steps for $n = 1, 2, 3, . . . , 50$, which is\n",
    "\n",
    "$$\\mathbb{P}\\{X_n=100|X_0=0\\}=P^n_{(0,100)}$$ \n",
    "\n",
    "for $n = 1, 2, 3, . . . , 50$, where $P^n$ means matrix multiplying $P$ $n$ times.\n"
   ]
  },
  {
   "cell_type": "code",
   "execution_count": 29,
   "metadata": {},
   "outputs": [],
   "source": [
    "Pn = P.copy()\n",
    "probabilities = []\n",
    "for _ in range(1, 51):\n",
    "    probabilities.append(Pn[0,100])\n",
    "    Pn = P.dot(Pn)"
   ]
  },
  {
   "cell_type": "code",
   "execution_count": 30,
   "metadata": {
    "scrolled": true
   },
   "outputs": [
    {
     "data": {
      "image/png": "[encoded data removed]",
      "text/plain": [
       "<Figure size 432x288 with 1 Axes>"
      ]
     },
     "metadata": {
      "needs_background": "light"
     },
     "output_type": "display_data"
    }
   ],
   "source": [
    "# plot the probabilities of winning in n steps\n",
    "plt.plot(range(1, 51), probabilities)\n",
    "plt.title(\"Probability of Winning in n steps\")\n",
    "plt.xlabel(\"Steps\")\n",
    "plt.ylabel(\"Probability\")\n",
    "plt.show()"
   ]
  },
  {
   "cell_type": "code",
   "execution_count": 31,
   "metadata": {
    "scrolled": false
   },
   "outputs": [
    {
     "data": {
      "image/png": "[encoded data removed]",
      "text/plain": [
       "<Figure size 432x288 with 1 Axes>"
      ]
     },
     "metadata": {
      "needs_background": "light"
     },
     "output_type": "display_data"
    }
   ],
   "source": [
    "# Let's plot the probabilities of not winning in n steps too\n",
    "plt.plot(range(1, 51), [1-p for p in probabilities])\n",
    "plt.title(\"Probability of Not Winning in n steps\")\n",
    "plt.xlabel(\"Steps\")\n",
    "plt.ylabel(\"Probability\")\n",
    "plt.show()"
   ]
  },
  {
   "cell_type": "markdown",
   "metadata": {},
   "source": [
    "# b{-} "
   ]
  },
  {
   "cell_type": "markdown",
   "metadata": {},
   "source": [
    "**What’s the probability of a game lasting more than $1000$ moves?**"
   ]
  },
  {
   "cell_type": "code",
   "execution_count": 32,
   "metadata": {},
   "outputs": [],
   "source": [
    "Pn = P.copy()\n",
    "probabilities = []\n",
    "for _ in range(1, 1001):\n",
    "    probabilities.append(Pn[0,100])\n",
    "    Pn = P.dot(Pn)"
   ]
  },
  {
   "cell_type": "markdown",
   "metadata": {},
   "source": [
    "The probability of a game lasting more than $1000$ moves is"
   ]
  },
  {
   "cell_type": "code",
   "execution_count": 33,
   "metadata": {},
   "outputs": [
    {
     "data": {
      "text/plain": [
       "2.3314683517128287e-15"
      ]
     },
     "execution_count": 33,
     "metadata": {},
     "output_type": "execute_result"
    }
   ],
   "source": [
    "1 - Pn[0, 100]"
   ]
  },
  {
   "cell_type": "markdown",
   "metadata": {},
   "source": [
    "# c{-}"
   ]
  },
  {
   "cell_type": "markdown",
   "metadata": {},
   "source": [
    "**Suppose we modify Chutes and Ladders so that the player wraps back to square $1$ once they go beyond square $100$. So for example, if the player is on square $99$ and roles a $3$, they end up on square $2.$**\n",
    "\n",
    "**i. Compute the stationary distribution. After $1$ billion moves, on what square is a player’s piece most likely to be on?**\n",
    "\n"
   ]
  },
  {
   "cell_type": "markdown",
   "metadata": {},
   "source": [
    "Modifying $build$_$P$:"
   ]
  },
  {
   "cell_type": "code",
   "execution_count": 34,
   "metadata": {},
   "outputs": [],
   "source": [
    "def build_P_v2(chutes_and_ladder_locations):\n",
    "    \"\"\"Builds the transition probability matrix for the chutes and ladders game\n",
    "    \n",
    "    Args:\n",
    "        chutes_and_ladder_locations: Dataframe containing the info from \n",
    "        the chutes_and_ladder_locations.csv\n",
    "    \n",
    "    Returns:\n",
    "        A numpy array of shape (101, 101)\n",
    "    \n",
    "    \"\"\"\n",
    "    # helper function\n",
    "    def shift(array):\n",
    "        return(np.concatenate((np.array([0]), array[:-1])))\n",
    "    \n",
    "    # creating the transition probability \n",
    "    # matrix, P, assuming no chutes and ladders\n",
    "    pdf = np.zeros(101)\n",
    "    pdf[1:7] = 1/6\n",
    "    P = pdf.copy()\n",
    "    \n",
    "    for _ in range(100):\n",
    "        pdf = shift(pdf)\n",
    "        P = np.concatenate((P, pdf))\n",
    "  \n",
    "    P = P.reshape(101, 101)\n",
    "    \n",
    "    # fixing P for last squares in game\n",
    "    for i in [95, 96, 97, 98, 99, 100]:\n",
    "        for j in range(1, i+6-99):\n",
    "            P[i, j] = 1/6\n",
    "    \n",
    "    # fixing P for chutes and ladders\n",
    "    for i, j in zip(chutes_and_ladder_locations.start, chutes_and_ladder_locations.end):\n",
    "        P[:,j] += P[:,i]\n",
    "        P[:,i] = np.zeros(101)\n",
    "        \n",
    "    return P"
   ]
  },
  {
   "cell_type": "code",
   "execution_count": 35,
   "metadata": {},
   "outputs": [],
   "source": [
    "P = build_P_v2(chutes_and_ladder_locations)"
   ]
  },
  {
   "cell_type": "code",
   "execution_count": 36,
   "metadata": {},
   "outputs": [
    {
     "data": {
      "text/plain": [
       "array([0.        , 0.        , 0.        , 0.        , 0.        ,\n",
       "       0.        , 0.        , 0.        , 0.        , 0.        ,\n",
       "       0.        , 0.        , 0.        , 0.        , 0.        ,\n",
       "       0.        , 0.        , 0.        , 0.        , 0.        ,\n",
       "       0.        , 0.        , 0.        , 0.        , 0.        ,\n",
       "       0.        , 0.        , 0.        , 0.        , 0.        ,\n",
       "       0.        , 0.        , 0.        , 0.        , 0.        ,\n",
       "       0.        , 0.        , 0.        , 0.16666667, 0.        ,\n",
       "       0.        , 0.        , 0.        , 0.        , 0.        ,\n",
       "       0.        , 0.        , 0.        , 0.        , 0.        ,\n",
       "       0.        , 0.        , 0.        , 0.        , 0.        ,\n",
       "       0.        , 0.        , 0.        , 0.        , 0.        ,\n",
       "       0.        , 0.        , 0.        , 0.        , 0.        ,\n",
       "       0.        , 0.        , 0.        , 0.        , 0.        ,\n",
       "       0.        , 0.        , 0.        , 0.        , 0.        ,\n",
       "       0.        , 0.        , 0.        , 0.16666667, 0.        ,\n",
       "       0.        , 0.        , 0.        , 0.        , 0.        ,\n",
       "       0.        , 0.        , 0.        , 0.        , 0.        ,\n",
       "       0.        , 0.        , 0.        , 0.        , 0.        ,\n",
       "       0.        , 0.16666667, 0.16666667, 0.        , 0.16666667,\n",
       "       0.16666667])"
      ]
     },
     "execution_count": 36,
     "metadata": {},
     "output_type": "execute_result"
    }
   ],
   "source": [
    "P[95,:]"
   ]
  },
  {
   "cell_type": "code",
   "execution_count": 37,
   "metadata": {},
   "outputs": [
    {
     "data": {
      "text/plain": [
       "array([0.        , 0.        , 0.16666667, 0.16666667, 0.        ,\n",
       "       0.        , 0.        , 0.        , 0.        , 0.        ,\n",
       "       0.        , 0.        , 0.        , 0.        , 0.16666667,\n",
       "       0.        , 0.        , 0.        , 0.        , 0.        ,\n",
       "       0.        , 0.        , 0.        , 0.        , 0.        ,\n",
       "       0.        , 0.        , 0.        , 0.        , 0.        ,\n",
       "       0.        , 0.        , 0.        , 0.        , 0.        ,\n",
       "       0.        , 0.        , 0.        , 0.16666667, 0.        ,\n",
       "       0.        , 0.        , 0.        , 0.        , 0.        ,\n",
       "       0.        , 0.        , 0.        , 0.        , 0.        ,\n",
       "       0.        , 0.        , 0.        , 0.        , 0.        ,\n",
       "       0.        , 0.        , 0.        , 0.        , 0.        ,\n",
       "       0.        , 0.        , 0.        , 0.        , 0.        ,\n",
       "       0.        , 0.        , 0.        , 0.        , 0.        ,\n",
       "       0.        , 0.        , 0.        , 0.        , 0.        ,\n",
       "       0.        , 0.        , 0.        , 0.        , 0.        ,\n",
       "       0.        , 0.        , 0.        , 0.        , 0.        ,\n",
       "       0.        , 0.        , 0.        , 0.        , 0.        ,\n",
       "       0.        , 0.        , 0.        , 0.        , 0.        ,\n",
       "       0.        , 0.        , 0.        , 0.        , 0.16666667,\n",
       "       0.16666667])"
      ]
     },
     "execution_count": 37,
     "metadata": {},
     "output_type": "execute_result"
    }
   ],
   "source": [
    "P[98,:]"
   ]
  },
  {
   "cell_type": "code",
   "execution_count": 38,
   "metadata": {},
   "outputs": [
    {
     "data": {
      "text/plain": [
       "array([0.        , 0.        , 0.16666667, 0.16666667, 0.        ,\n",
       "       0.16666667, 0.16666667, 0.        , 0.        , 0.        ,\n",
       "       0.        , 0.        , 0.        , 0.        , 0.16666667,\n",
       "       0.        , 0.        , 0.        , 0.        , 0.        ,\n",
       "       0.        , 0.        , 0.        , 0.        , 0.        ,\n",
       "       0.        , 0.        , 0.        , 0.        , 0.        ,\n",
       "       0.        , 0.        , 0.        , 0.        , 0.        ,\n",
       "       0.        , 0.        , 0.        , 0.16666667, 0.        ,\n",
       "       0.        , 0.        , 0.        , 0.        , 0.        ,\n",
       "       0.        , 0.        , 0.        , 0.        , 0.        ,\n",
       "       0.        , 0.        , 0.        , 0.        , 0.        ,\n",
       "       0.        , 0.        , 0.        , 0.        , 0.        ,\n",
       "       0.        , 0.        , 0.        , 0.        , 0.        ,\n",
       "       0.        , 0.        , 0.        , 0.        , 0.        ,\n",
       "       0.        , 0.        , 0.        , 0.        , 0.        ,\n",
       "       0.        , 0.        , 0.        , 0.        , 0.        ,\n",
       "       0.        , 0.        , 0.        , 0.        , 0.        ,\n",
       "       0.        , 0.        , 0.        , 0.        , 0.        ,\n",
       "       0.        , 0.        , 0.        , 0.        , 0.        ,\n",
       "       0.        , 0.        , 0.        , 0.        , 0.        ,\n",
       "       0.        ])"
      ]
     },
     "execution_count": 38,
     "metadata": {},
     "output_type": "execute_result"
    }
   ],
   "source": [
    "P[100, :]"
   ]
  },
  {
   "cell_type": "markdown",
   "metadata": {},
   "source": [
    "Given the above, the changes look good."
   ]
  },
  {
   "cell_type": "code",
   "execution_count": 39,
   "metadata": {
    "scrolled": true
   },
   "outputs": [],
   "source": [
    "eigenvalues = np.linalg.eig(P)[0]\n",
    "eigenvectors = np.linalg.eig(P)[1]"
   ]
  },
  {
   "cell_type": "code",
   "execution_count": 40,
   "metadata": {},
   "outputs": [
    {
     "data": {
      "text/plain": [
       "array([ 0.        +0.j        ,  0.        +0.j        ,\n",
       "        0.        +0.j        ,  0.        +0.j        ,\n",
       "        0.        +0.j        ,  0.        +0.j        ,\n",
       "        0.        +0.j        ,  0.        +0.j        ,\n",
       "        0.        +0.j        ,  0.        +0.j        ,\n",
       "        0.        +0.j        ,  0.        +0.j        ,\n",
       "        0.        +0.j        ,  0.        +0.j        ,\n",
       "        0.        +0.j        ,  0.        +0.j        ,\n",
       "        0.        +0.j        ,  0.        +0.j        ,\n",
       "        0.        +0.j        ,  0.        +0.j        ,\n",
       "        1.        +0.j        ,  0.79967581+0.1871812j ,\n",
       "        0.79967581-0.1871812j ,  0.38906409+0.667867j  ,\n",
       "        0.38906409-0.667867j  ,  0.65804093+0.34373306j,\n",
       "        0.65804093-0.34373306j,  0.56329098+0.38363599j,\n",
       "        0.56329098-0.38363599j,  0.40188969+0.54194621j,\n",
       "        0.40188969-0.54194621j,  0.17651432+0.62831241j,\n",
       "        0.17651432-0.62831241j,  0.00558521+0.50705448j,\n",
       "        0.00558521-0.50705448j, -0.09166505+0.49801901j,\n",
       "       -0.09166505-0.49801901j, -0.22235329+0.44368131j,\n",
       "       -0.22235329-0.44368131j, -0.25320134+0.36712995j,\n",
       "       -0.25320134-0.36712995j, -0.25025582+0.25147793j,\n",
       "       -0.25025582-0.25147793j, -0.2237589 +0.12384945j,\n",
       "       -0.2237589 -0.12384945j,  0.02011819+0.14581843j,\n",
       "        0.02011819-0.14581843j, -0.09021372+0.17320746j,\n",
       "       -0.09021372-0.17320746j, -0.00188651+0.13778718j,\n",
       "       -0.00188651-0.13778718j, -0.16555567+0.13791522j,\n",
       "       -0.16555567-0.13791522j, -0.10392421+0.15713579j,\n",
       "       -0.10392421-0.15713579j,  0.03795025+0.0953242j ,\n",
       "        0.03795025-0.0953242j , -0.21891259+0.04940595j,\n",
       "       -0.21891259-0.04940595j, -0.03831582+0.12270549j,\n",
       "       -0.03831582-0.12270549j, -0.14233151+0.09945197j,\n",
       "       -0.14233151-0.09945197j,  0.01263549+0.0435041j ,\n",
       "        0.01263549-0.0435041j , -0.15712056+0.07009848j,\n",
       "       -0.15712056-0.07009848j,  0.01409874+0.02669607j,\n",
       "        0.01409874-0.02669607j, -0.18385829+0.j        ,\n",
       "       -0.0129397 +0.0652976j , -0.0129397 -0.0652976j ,\n",
       "       -0.0745633 +0.08757022j, -0.0745633 -0.08757022j,\n",
       "       -0.172426  +0.02937612j, -0.172426  -0.02937612j,\n",
       "       -0.10951672+0.0786037j , -0.10951672-0.0786037j ,\n",
       "       -0.1288786 +0.06566206j, -0.1288786 -0.06566206j,\n",
       "       -0.15793737+0.j        , -0.15241888+0.j        ,\n",
       "       -0.1362053 +0.04325108j, -0.1362053 -0.04325108j,\n",
       "       -0.02093471+0.03363125j, -0.02093471-0.03363125j,\n",
       "       -0.0091084 +0.j        , -0.01044901+0.j        ,\n",
       "       -0.16666667+0.j        , -0.08434219+0.04618487j,\n",
       "       -0.08434219-0.04618487j, -0.04718054+0.03018104j,\n",
       "       -0.04718054-0.03018104j, -0.06169204+0.01084608j,\n",
       "       -0.06169204-0.01084608j, -0.121736  +0.j        ,\n",
       "       -0.0342983 +0.j        , -0.08930798+0.01548685j,\n",
       "       -0.08930798-0.01548685j, -0.09230602+0.j        ,\n",
       "       -0.10065097+0.j        ])"
      ]
     },
     "execution_count": 40,
     "metadata": {},
     "output_type": "execute_result"
    }
   ],
   "source": [
    "eigenvalues"
   ]
  },
  {
   "cell_type": "markdown",
   "metadata": {
    "scrolled": true
   },
   "source": [
    "As can be seen from above, there is an eigenvalue of 1. Let's find corresponding eigenvector."
   ]
  },
  {
   "cell_type": "code",
   "execution_count": 41,
   "metadata": {
    "scrolled": true
   },
   "outputs": [],
   "source": [
    "# Abs gives you mod in python for complex numbers too\n",
    "i = np.argmax(abs(eigenvalues))\n",
    "eigenvector_1 = eigenvectors[i]"
   ]
  },
  {
   "cell_type": "code",
   "execution_count": 42,
   "metadata": {
    "scrolled": true
   },
   "outputs": [
    {
     "data": {
      "text/plain": [
       "array([0.00980723, 0.00980723, 0.00980723, 0.00980723, 0.00980723,\n",
       "       0.00980723, 0.00980723, 0.00980723, 0.00980723, 0.00980723,\n",
       "       0.00980723, 0.00980723, 0.00980723, 0.00980723, 0.00980723,\n",
       "       0.00980723, 0.00980723, 0.00980723, 0.00980723, 0.00980723,\n",
       "       0.01171894, 0.0103375 , 0.0103375 , 0.01018868, 0.01018868,\n",
       "       0.0107733 , 0.0107733 , 0.0076881 , 0.0076881 , 0.00978059,\n",
       "       0.00978059, 0.00853084, 0.00853084, 0.00996376, 0.00996376,\n",
       "       0.01099542, 0.01099542, 0.01155829, 0.01155829, 0.00915199,\n",
       "       0.00915199, 0.00830023, 0.00830023, 0.01054372, 0.01054372,\n",
       "       0.00966873, 0.00966873, 0.00864146, 0.00864146, 0.01172424,\n",
       "       0.01172424, 0.00992807, 0.00992807, 0.00894075, 0.00894075,\n",
       "       0.01124826, 0.01124826, 0.00862361, 0.00862361, 0.00999539,\n",
       "       0.00999539, 0.0111016 , 0.0111016 , 0.01032294, 0.01032294,\n",
       "       0.0066198 , 0.0066198 , 0.00995494, 0.00995494, 0.01286401,\n",
       "       0.01027398, 0.01027398, 0.00985355, 0.00985355, 0.00811239,\n",
       "       0.00811239, 0.01093649, 0.01093649, 0.01236931, 0.01236931,\n",
       "       0.0102761 , 0.00874271, 0.01022354, 0.01022354, 0.0093562 ,\n",
       "       0.0093562 , 0.00968466, 0.00995411, 0.01224721, 0.00949898,\n",
       "       0.00949898, 0.00915955, 0.00915955, 0.00985306, 0.00985306,\n",
       "       0.01103086, 0.00967902, 0.01063287, 0.01063287, 0.00926527,\n",
       "       0.00868826])"
      ]
     },
     "execution_count": 42,
     "metadata": {},
     "output_type": "execute_result"
    }
   ],
   "source": [
    "eigenvector_1 = eigenvector_1.real\n",
    "# values between 0 and 1\n",
    "eigenvector_1 = (eigenvector_1-min(eigenvector_1)/(max(eigenvector_1)-min(eigenvector_1)))\n",
    "# probability vector\n",
    "eigenvector_1 = eigenvector_1/sum(eigenvector_1)\n",
    "eigenvector_1"
   ]
  },
  {
   "cell_type": "markdown",
   "metadata": {},
   "source": [
    "The above is the stationary distribution. And below find the square a player’s piece is most likely to be on after 1 billion moves."
   ]
  },
  {
   "cell_type": "code",
   "execution_count": 43,
   "metadata": {},
   "outputs": [
    {
     "data": {
      "text/plain": [
       "69"
      ]
     },
     "execution_count": 43,
     "metadata": {},
     "output_type": "execute_result"
    }
   ],
   "source": [
    "np.argmax(eigenvector_1)"
   ]
  },
  {
   "cell_type": "markdown",
   "metadata": {},
   "source": [
    "\n",
    "**ii. Compute the relaxation time and explain why it makes sense in terms of your results for the expected time of a game in the previous homework.**"
   ]
  },
  {
   "cell_type": "code",
   "execution_count": 44,
   "metadata": {},
   "outputs": [],
   "source": [
    "eigenvalue_2 = sorted(abs(eigenvalues), reverse=True)[1]"
   ]
  },
  {
   "cell_type": "markdown",
   "metadata": {},
   "source": [
    "The relaxation time is:"
   ]
  },
  {
   "cell_type": "code",
   "execution_count": 45,
   "metadata": {
    "scrolled": true
   },
   "outputs": [
    {
     "data": {
      "text/plain": [
       "5.595675700579098"
      ]
     },
     "execution_count": 45,
     "metadata": {},
     "output_type": "execute_result"
    }
   ],
   "source": [
    "rt = 1/(1-eigenvalue_2)\n",
    "rt"
   ]
  },
  {
   "cell_type": "code",
   "execution_count": 46,
   "metadata": {
    "scrolled": true
   },
   "outputs": [
    {
     "data": {
      "image/png": "[encoded data removed]",
      "text/plain": [
       "<Figure size 432x288 with 1 Axes>"
      ]
     },
     "metadata": {
      "needs_background": "light"
     },
     "output_type": "display_data"
    }
   ],
   "source": [
    "x_points = np.arange(0.00001, 30, 0.01)*rt\n",
    "y_points = np.exp(-x_points*1/rt)\n",
    "plt.plot(x_points, y_points)\n",
    "plt.show()"
   ]
  },
  {
   "cell_type": "markdown",
   "metadata": {},
   "source": [
    "The relaxation to stationarity is exponentially fast for particular Markov chains (like the one we are considering). In other words, there is a typical time, the relaxation time, after which a stationary regime is established. Not sure how it relates to the expected value in the last HW, I think relaxation times have more to do with big O (time complexity) and being able to compare times to convergence among different particular types of markov chains (i.e., not sure if the paricular number 5 has a specific meaning and how it could relate to the expected value of the length of a game)."
   ]
  },
  {
   "cell_type": "markdown",
   "metadata": {},
   "source": [
    "**iii. Now suppose that we play the game as follows. Each round, with probability $p$ the player doesn’t move. With probability $1 − p$ the player rolls the die and moves as usual. For $p = .9, .99, .999,$ compute the relaxation time. Explain the pattern you see in the relaxation times.**"
   ]
  },
  {
   "cell_type": "code",
   "execution_count": 47,
   "metadata": {},
   "outputs": [],
   "source": [
    "def TPM(p, P):\n",
    "    return (1-p)*P + p*np.identity(101)"
   ]
  },
  {
   "cell_type": "code",
   "execution_count": 48,
   "metadata": {},
   "outputs": [],
   "source": [
    "def compute_relaxation_time(P):\n",
    "    eigenvalues = np.linalg.eig(P)[0]\n",
    "    eigenvalue_2 = sorted(abs(eigenvalues), reverse=True)[1]\n",
    "    return 1/(1-eigenvalue_2)    "
   ]
  },
  {
   "cell_type": "code",
   "execution_count": 49,
   "metadata": {},
   "outputs": [
    {
     "name": "stdout",
     "output_type": "stream",
     "text": [
      "Probability of not rolling die: 0.9 \t Relaxation Time: 50.368521142963836\n",
      "Probability of not rolling die: 0.99 \t Relaxation Time: 499.6286432833968\n",
      "Probability of not rolling die: 0.999 \t Relaxation Time: 4992.345070657904\n"
     ]
    }
   ],
   "source": [
    "rt = []\n",
    "for p in [.9,.99,.999]:\n",
    "    tpm = TPM(p, P)\n",
    "    relaxation_time = compute_relaxation_time(tpm)\n",
    "    print(f\"Probability of not rolling die: {p} \\t Relaxation Time: {relaxation_time}\")\n",
    "    rt.append(relaxation_time)"
   ]
  },
  {
   "cell_type": "code",
   "execution_count": 50,
   "metadata": {},
   "outputs": [
    {
     "data": {
      "image/png": "[encoded data removed]",
      "text/plain": [
       "<Figure size 432x288 with 1 Axes>"
      ]
     },
     "metadata": {
      "needs_background": "light"
     },
     "output_type": "display_data"
    }
   ],
   "source": [
    "x_points = np.arange(0.00001, 30, 0.01)*rt[0]\n",
    "y_points = np.exp(-x_points*1/rt[0])\n",
    "plt.plot(x_points, y_points, label=\"Probability of not rolling die: 0.9\")\n",
    "x_points = np.arange(0.00001, 30, 0.01)*rt[1]\n",
    "y_points = np.exp(-x_points*1/rt[1])\n",
    "plt.plot(x_points, y_points, label=\"Probability of not rolling die: 0.99\")\n",
    "x_points = np.arange(0.00001, 30, 0.01)*rt[2]\n",
    "y_points = np.exp(-x_points*1/rt[2])\n",
    "plt.plot(x_points, y_points, label=\"Probability of not rolling die: 0.999\")\n",
    "plt.legend()\n",
    "plt.show()"
   ]
  },
  {
   "cell_type": "markdown",
   "metadata": {},
   "source": [
    "As probability of $p$ increases, relaxation time increases. This makes sense: the more likely we are to not move (not roll die), the longer it will take us to reach the stationary distribution. The matrix $(1-p)*P + p*\\text{np.identity}(101)$, call it $Q$, should have the same stationary distribution as $P$, regardless of probability $p$. The only difference is that since Q now allows for the possibility of remaining in the same state it takes longer for $Q$ than $P$ to reach the stationary distribution."
   ]
  },
  {
   "cell_type": "code",
   "execution_count": null,
   "metadata": {},
   "outputs": [],
   "source": []
  }
 ],
 "metadata": {
  "kernelspec": {
   "display_name": "Python 3",
   "language": "python",
   "name": "python3"
  },
  "language_info": {
   "codemirror_mode": {
    "name": "ipython",
    "version": 3
   },
   "file_extension": ".py",
   "mimetype": "text/x-python",
   "name": "python",
   "nbconvert_exporter": "python",
   "pygments_lexer": "ipython3",
   "version": "3.7.3"
  }
 },
 "nbformat": 4,
 "nbformat_minor": 4
}
